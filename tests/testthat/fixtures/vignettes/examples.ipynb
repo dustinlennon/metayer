{
 "cells": [
  {
   "cell_type": "markdown",
   "id": "3cd53bb5-343f-4eea-aebb-67c0347920bc",
   "metadata": {
    "editable": true,
    "raw_mimetype": "",
    "slideshow": {
     "slide_type": ""
    },
    "tags": []
   },
   "source": [
    "---\n",
    "title: \"metayer: examples\"\n",
    "output: \n",
    "  html_document:\n",
    "    theme: cerulean\n",
    "    highlight: espresso\n",
    "    fig_caption: true\n",
    "---"
   ]
  },
  {
   "cell_type": "code",
   "execution_count": 1,
   "id": "c90837bd-0e44-4aaa-a6bf-4811510f54a0",
   "metadata": {},
   "outputs": [],
   "source": [
    "suppressMessages(\n",
    "  devtools::load_all()\n",
    ")\n",
    "rm.all()"
   ]
  },
  {
   "cell_type": "code",
   "execution_count": 2,
   "id": "8f34c246-276d-492c-bd7e-740c34f07392",
   "metadata": {
    "editable": true,
    "slideshow": {
     "slide_type": ""
    },
    "tags": []
   },
   "outputs": [
    {
     "data": {
      "text/html": [
       "<table class=\"dataframe\">\n",
       "<caption>A tibble: 5 × 3</caption>\n",
       "<thead>\n",
       "\t<tr><th scope=col>a</th><th scope=col>b</th><th scope=col>c</th></tr>\n",
       "\t<tr><th scope=col>&lt;int&gt;</th><th scope=col>&lt;dbl&gt;</th><th scope=col>&lt;dbl&gt;</th></tr>\n",
       "</thead>\n",
       "<tbody>\n",
       "\t<tr><td>1</td><td> 2</td><td>1</td></tr>\n",
       "\t<tr><td>2</td><td> 4</td><td>1</td></tr>\n",
       "\t<tr><td>3</td><td> 6</td><td>1</td></tr>\n",
       "\t<tr><td>4</td><td> 8</td><td>1</td></tr>\n",
       "\t<tr><td>5</td><td>10</td><td>1</td></tr>\n",
       "</tbody>\n",
       "</table>\n"
      ],
      "text/latex": [
       "A tibble: 5 × 3\n",
       "\\begin{tabular}{lll}\n",
       " a & b & c\\\\\n",
       " <int> & <dbl> & <dbl>\\\\\n",
       "\\hline\n",
       "\t 1 &  2 & 1\\\\\n",
       "\t 2 &  4 & 1\\\\\n",
       "\t 3 &  6 & 1\\\\\n",
       "\t 4 &  8 & 1\\\\\n",
       "\t 5 & 10 & 1\\\\\n",
       "\\end{tabular}\n"
      ],
      "text/markdown": [
       "\n",
       "A tibble: 5 × 3\n",
       "\n",
       "| a &lt;int&gt; | b &lt;dbl&gt; | c &lt;dbl&gt; |\n",
       "|---|---|---|\n",
       "| 1 |  2 | 1 |\n",
       "| 2 |  4 | 1 |\n",
       "| 3 |  6 | 1 |\n",
       "| 4 |  8 | 1 |\n",
       "| 5 | 10 | 1 |\n",
       "\n"
      ],
      "text/plain": [
       "  a b  c\n",
       "1 1  2 1\n",
       "2 2  4 1\n",
       "3 3  6 1\n",
       "4 4  8 1\n",
       "5 5 10 1"
      ]
     },
     "metadata": {},
     "output_type": "display_data"
    }
   ],
   "source": [
    "a <- 1:5\n",
    "tbl <- tibble::tibble(a, b = a * 2, c = 1)\n",
    "tbl"
   ]
  },
  {
   "cell_type": "code",
   "execution_count": 3,
   "id": "7026dd68-dfb8-4ff0-9920-9e407025a975",
   "metadata": {
    "editable": true,
    "slideshow": {
     "slide_type": ""
    },
    "tags": []
   },
   "outputs": [
    {
     "name": "stdout",
     "output_type": "stream",
     "text": [
      "\u001b[90m# A tibble: 5 × 3\u001b[39m\n",
      "      a     b     c\n",
      "  \u001b[3m\u001b[90m<int>\u001b[39m\u001b[23m \u001b[3m\u001b[90m<dbl>\u001b[39m\u001b[23m \u001b[3m\u001b[90m<dbl>\u001b[39m\u001b[23m\n",
      "\u001b[90m1\u001b[39m     1     2     1\n",
      "\u001b[90m2\u001b[39m     2     4     1\n",
      "\u001b[90m3\u001b[39m     3     6     1\n",
      "\u001b[90m4\u001b[39m     4     8     1\n",
      "\u001b[90m5\u001b[39m     5    10     1"
     ]
    }
   ],
   "source": [
    "out <- utils::capture.output(tbl) \n",
    "out <- paste0(out, collapse=\"\\n\")\n",
    "cat(out)"
   ]
  },
  {
   "cell_type": "markdown",
   "id": "f92a1551-d346-4945-a8fb-6443962c8a8f",
   "metadata": {
    "editable": true,
    "slideshow": {
     "slide_type": ""
    },
    "tags": []
   },
   "source": [
    "```R\n",
    "# rendered code\n",
    "a <- 1:5\n",
    "tbl <- tibble::tibble(a, b = a * 2, c = 1)\n",
    "tbl\n",
    "```"
   ]
  },
  {
   "cell_type": "code",
   "execution_count": 4,
   "id": "e849ad06-1a67-4674-b6ae-990af05ad6b8",
   "metadata": {},
   "outputs": [
    {
     "name": "stderr",
     "output_type": "stream",
     "text": [
      "\u001b[1m\u001b[22m\u001b[36mℹ\u001b[39m Loading \u001b[34mmetayer\u001b[39m\n"
     ]
    }
   ],
   "source": [
    "devtools::load_all()"
   ]
  },
  {
   "cell_type": "code",
   "execution_count": 5,
   "id": "a6c55b1b-602b-4ee9-b05c-d6eb49e33e44",
   "metadata": {},
   "outputs": [
    {
     "data": {
      "text/html": [
       "<!doctype html>\n",
       "<html>\n",
       "\t<head>\n",
       "\t\t<meta charset=\"utf-8\">\n",
       "\t\t\n",
       "\t</head>\n",
       "\t<body>\n",
       "\t\t<img src=\"data:image/png;base64, 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\"/>\n",
       "\t</body>\n",
       "</html>\n"
      ],
      "text/plain": [
       "Shiny tags cannot be represented in plain text (need html)"
      ]
     },
     "metadata": {
      "text/html": {
       "isolated": true
      }
     },
     "output_type": "display_data"
    }
   ],
   "source": [
    "plot_context(\n",
    "  {\n",
    "    plot(1:5, 2 * (1:5), xlab = \"foo\")\n",
    "  },\n",
    "  .height = 4,\n",
    "  ann = FALSE\n",
    ")"
   ]
  },
  {
   "cell_type": "code",
   "execution_count": 34,
   "id": "851ad6dc-0ea1-4790-a16a-c655d3cab122",
   "metadata": {},
   "outputs": [
    {
     "name": "stderr",
     "output_type": "stream",
     "text": [
      "\u001b[1m\u001b[22m\u001b[36mℹ\u001b[39m Loading \u001b[34mmetayer\u001b[39m\n"
     ]
    }
   ],
   "source": [
    "devtools::load_all()"
   ]
  },
  {
   "cell_type": "code",
   "execution_count": 36,
   "id": "397ed01d-3612-4b84-8342-147b0c524a65",
   "metadata": {},
   "outputs": [
    {
     "data": {
      "text/html": [
       "<!doctype html>\n",
       "<html>\n",
       "\t<head>\n",
       "\t\t<meta charset=\"utf-8\">\n",
       "\t\t\n",
       "\t</head>\n",
       "\t<body>\n",
       "\t\t<img src=\"data:image/png;base64, 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\"/>\n",
       "\t</body>\n",
       "</html>\n"
      ],
      "text/plain": [
       "Shiny tags cannot be represented in plain text (need html)"
      ]
     },
     "metadata": {
      "text/html": {
       "isolated": true
      }
     },
     "output_type": "display_data"
    }
   ],
   "source": [
    "xdom <- seq(0,1,length=5)\n",
    "yrng <- 10 * xdom\n",
    "\n",
    "aplt(\n",
    "  xlim = c(-0.1, 1.1),\n",
    "  ylim = c(-1,11),\n",
    "  {\n",
    "    lines(xdom, yrng, type = \"b\")\n",
    "  },\n",
    "  bg = \"azure\",\n",
    "  ann = FALSE,  \n",
    "  mar = c(1,1,1,1),\n",
    "  mgp = c(1,0,0),\n",
    "  # xaxt = \"n\",\n",
    "  # yaxt = \"n\",\n",
    "  .max_height = 10,\n",
    "  .max_width = 5,\n",
    "  .pretty_axes = FALSE\n",
    ")"
   ]
  },
  {
   "cell_type": "code",
   "execution_count": null,
   "id": "ab251fde-d22c-409a-96c8-4e724c8753df",
   "metadata": {},
   "outputs": [],
   "source": [
    "rm.all()"
   ]
  },
  {
   "cell_type": "code",
   "execution_count": null,
   "id": "1ae72064-d8f8-4199-b29a-9c920297ab6d",
   "metadata": {},
   "outputs": [],
   "source": []
  }
 ],
 "metadata": {
  "kernelspec": {
   "display_name": "R",
   "language": "R",
   "name": "ir"
  },
  "language_info": {
   "codemirror_mode": "r",
   "file_extension": ".r",
   "mimetype": "text/x-r-source",
   "name": "R",
   "pygments_lexer": "r",
   "version": "4.4.0"
  }
 },
 "nbformat": 4,
 "nbformat_minor": 5
}
