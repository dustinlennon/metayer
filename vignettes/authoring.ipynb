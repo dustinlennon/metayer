{
 "cells": [
  {
   "cell_type": "raw",
   "id": "3288e13f-5628-4366-8fb3-dcc50c574182",
   "metadata": {},
   "source": [
    "```yaml\n",
    "---\n",
    "title: \"metayer: authoring tools\"\n",
    "output: rmarkdown::html_vignette\n",
    "vignette: >\n",
    "  %\\VignetteIndexEntry{metayer: authoring tools}\n",
    "  %\\VignetteEngine{knitr::rmarkdown}\n",
    "  %\\VignetteEncoding{UTF-8}\n",
    "---\n",
    "```"
   ]
  },
  {
   "cell_type": "markdown",
   "id": "303244a4-0dd1-4286-9218-719f73484427",
   "metadata": {},
   "source": [
    "## Jupyter Lab Setup\n",
    "\n",
    "To author documents in jupyter lab and generate HTML output, use the following YAML as a template.  This should be located in the first cell of the jupyter document, and the cell should be \"raw\"."
   ]
  },
  {
   "cell_type": "markdown",
   "id": "2e433628-828b-41b7-837d-e097353b40db",
   "metadata": {},
   "source": [
    "```yaml\n",
    "---\n",
    "title: \"metayer: authoring tools\"\n",
    "output: rmarkdown::html_vignette\n",
    "vignette: >\n",
    "  %\\VignetteIndexEntry{metayer: authoring tools}\n",
    "  %\\VignetteEngine{knitr::rmarkdown}\n",
    "  %\\VignetteEncoding{UTF-8}\n",
    "---\n",
    "```"
   ]
  },
  {
   "cell_type": "markdown",
   "id": "02f5b9ab-62bb-4c04-a3f2-b0b1cb33eafb",
   "metadata": {},
   "source": [
    "## metayer: vignette functionality"
   ]
  },
  {
   "cell_type": "code",
   "execution_count": 8,
   "id": "e4474585-ba39-4725-865e-f8e74f01bc82",
   "metadata": {},
   "outputs": [],
   "source": [
    "options(\n",
    "  # cli.default_handler = default_handler,\n",
    "  cli.default_handler = function(...) {},\n",
    "  metayer.verbosity = 0\n",
    ")"
   ]
  },
  {
   "cell_type": "code",
   "execution_count": 9,
   "id": "c5d272d9-38de-4d91-aa9f-8e3a6d667242",
   "metadata": {},
   "outputs": [
    {
     "name": "stderr",
     "output_type": "stream",
     "text": [
      "\u001b[1m\u001b[22m\u001b[36mℹ\u001b[39m Loading \u001b[34mmetayer\u001b[39m\n"
     ]
    },
    {
     "data": {
      "text/html": [
       "<style>.inline {\n",
       "  background-color: #f7f7f7;\n",
       "  border:solid 1px #B0B0B0;\n",
       "}\n",
       ".error {\n",
       "\tfont-weight: bold;\n",
       "\tcolor: #FF0000;\n",
       "}\n",
       ".warning {\n",
       "\tfont-weight: bold;\n",
       "}\n",
       ".message {\n",
       "\tfont-style: italic;\n",
       "}\n",
       ".source, .output, .warning, .error, .message {\n",
       "\tpadding: 0 1em;\n",
       "  border:solid 1px #F7F7F7;\n",
       "}\n",
       ".source {\n",
       "  background-color: #fff5ee;\n",
       "}\n",
       ".left {\n",
       "  text-align: left;\n",
       "}\n",
       ".right {\n",
       "  text-align: right;\n",
       "}\n",
       ".center {\n",
       "  text-align: center;\n",
       "}\n",
       ".hl.num {\n",
       "  color: #ff1493;\n",
       "}\n",
       ".hl.sng {\n",
       "  color: #ff1493;\n",
       "}\n",
       ".hl.com {\n",
       "  color: #2929cc;\n",
       "}\n",
       ".hl.opt {\n",
       "  color: #676767;\n",
       "}\n",
       ".hl.def {\n",
       "  color: #000000;\n",
       "}\n",
       ".hl.kwa {\n",
       "  color: #2e8b57;\n",
       "  font-weight: bold;\n",
       "}\n",
       ".hl.kwb {\n",
       "  color: #2e8b57;\n",
       "  font-weight: bold;\n",
       "}\n",
       ".hl.kwc {\n",
       "  color: #696969;\n",
       "  font-weight: bold;\n",
       "}\n",
       ".hl.kwd {\n",
       "  color: #00008f;\n",
       "}</style>"
      ]
     },
     "metadata": {},
     "output_type": "display_data"
    }
   ],
   "source": [
    "# load metayer\n",
    "devtools::load_all()"
   ]
  },
  {
   "cell_type": "code",
   "execution_count": 10,
   "id": "38a881ea-4edd-4410-8306-32855cc80972",
   "metadata": {},
   "outputs": [],
   "source": [
    "log_alert_info(\"hello world\")"
   ]
  },
  {
   "cell_type": "code",
   "execution_count": 11,
   "id": "016f597b-1a28-4a7c-8c89-bcce603eaae5",
   "metadata": {},
   "outputs": [
    {
     "name": "stderr",
     "output_type": "stream",
     "text": [
      "hi hi\n"
     ]
    }
   ],
   "source": [
    "log_inform(\"hi hi\")"
   ]
  },
  {
   "cell_type": "code",
   "execution_count": 21,
   "id": "b3aec795-9fdf-44a2-a5ba-ff77ee976af0",
   "metadata": {},
   "outputs": [
    {
     "data": {
      "text/html": []
     },
     "metadata": {},
     "output_type": "display_data"
    }
   ],
   "source": [
    "display_source(\"./tests/testthat\")"
   ]
  },
  {
   "cell_type": "code",
   "execution_count": null,
   "id": "974f06d9-dd30-4c01-a37c-0b65e4212f5b",
   "metadata": {},
   "outputs": [],
   "source": []
  }
 ],
 "metadata": {
  "kernelspec": {
   "display_name": "R",
   "language": "R",
   "name": "ir"
  },
  "language_info": {
   "codemirror_mode": "r",
   "file_extension": ".r",
   "mimetype": "text/x-r-source",
   "name": "R",
   "pygments_lexer": "r",
   "version": "4.4.0"
  }
 },
 "nbformat": 4,
 "nbformat_minor": 5
}
