{
 "cells": [
  {
   "cell_type": "raw",
   "id": "ccb5f892-bdf0-46d3-aeac-212bea8d5fb7",
   "metadata": {},
   "source": [
    "---\n",
    "title: \"authoring\"\n",
    "\n",
    "all_doc: &shared\n",
    "  pandoc_args: \n",
    "    - !with_env \"--resource-path={R_HERE_HERE}/vignettes\"\n",
    "\n",
    "output:\n",
    "  html_document:\n",
    "    <<: *shared\n",
    "    theme: cerulean\n",
    "    highlight: espresso\n",
    "  pdf_document:\n",
    "    <<: *shared\n",
    "---"
   ]
  },
  {
   "cell_type": "markdown",
   "id": "798dbf76-32d9-4b4b-a68e-ddb556677168",
   "metadata": {},
   "source": [
    "First things first.  Load the package."
   ]
  },
  {
   "cell_type": "code",
   "execution_count": 2,
   "id": "28f308b9-f0ed-4bcd-bc37-1141180b8a38",
   "metadata": {},
   "outputs": [],
   "source": [
    "Sys.setenv(R_CONFIG_ACTIVE = \"jupyter\")\n",
    "suppressMessages({\n",
    "  devtools::load_all()\n",
    "  data(pcd)\n",
    "})\n",
    "\n",
    "logger::log_threshold(logger::INFO, \"global\",index = 2)"
   ]
  },
  {
   "cell_type": "markdown",
   "id": "8a69144f-2ad8-49ce-a59d-0901c9d9c059",
   "metadata": {},
   "source": [
    "## publishing context\n",
    "\n",
    "This article addresses publishing context.  The workflow scenario is authoring documentation in a Jupyter notebook.  The requirement is to support rmarkdown html, rmarkdown pdf, and pkgdown article output.  Details of these document pipelines are in the appendix."
   ]
  },
  {
   "cell_type": "markdown",
   "id": "6888e178-2e64-4079-9d5b-ca9be34b582b",
   "metadata": {},
   "source": [
    "### jupyter header yaml\n",
    "\n",
    "It can be convenient to have a copy and paste for new jupyter documents:\n",
    "\n",
    "```yaml\n",
    "---\n",
    "title: \"authoring\"\n",
    "\n",
    "all_doc: &shared\n",
    "  pandoc_args: \n",
    "    - !with_env \"--resource-path={R_HERE_HERE}/vignettes\"\n",
    "\n",
    "output:\n",
    "  html_document:\n",
    "    <<: *shared\n",
    "    theme: cerulean\n",
    "    highlight: espresso\n",
    "  pdf_document:\n",
    "    <<: *shared\n",
    "---\n",
    "```"
   ]
  },
  {
   "cell_type": "markdown",
   "id": "f1c8d68b-0832-4cec-89ae-78332ed2772a",
   "metadata": {},
   "source": [
    "## with_pander\n",
    "\n",
    "`pander` converts to markdown.  `with_pander` adds logging and context dependent output."
   ]
  },
  {
   "cell_type": "code",
   "execution_count": 3,
   "id": "c103713e-1e3a-4f30-bed2-b597c61e31b7",
   "metadata": {},
   "outputs": [
    {
     "name": "stderr",
     "output_type": "stream",
     "text": [
      "hello, stderr\n",
      "\n"
     ]
    },
    {
     "name": "stdout",
     "output_type": "stream",
     "text": [
      "\n",
      "\n",
      "| x  |  y  |\n",
      "|:--:|:---:|\n",
      "| 1  |  1  |\n",
      "| 2  |  4  |\n",
      "| 3  |  9  |\n",
      "| 4  | 16  |\n",
      "| 5  | 25  |\n",
      "| 6  | 36  |\n",
      "| 7  | 49  |\n",
      "| 8  | 64  |\n",
      "| 9  | 81  |\n",
      "| 10 | 100 |\n",
      "\n"
     ]
    }
   ],
   "source": [
    "# convert to markdown, with a message\n",
    "pander({\n",
    "  message(\"hello, stderr\")\n",
    "  pcd\n",
    "})"
   ]
  },
  {
   "cell_type": "code",
   "execution_count": 4,
   "id": "eeecaee2-704d-48ee-a526-062a544a4f1e",
   "metadata": {},
   "outputs": [
    {
     "data": {
      "text/markdown": [
       "\n",
       "\n",
       "| x  |  y  |\n",
       "|:--:|:---:|\n",
       "| 1  |  1  |\n",
       "| 2  |  4  |\n",
       "| 3  |  9  |\n",
       "| 4  | 16  |\n",
       "| 5  | 25  |\n",
       "| 6  | 36  |\n",
       "| 7  | 49  |\n",
       "| 8  | 64  |\n",
       "| 9  | 81  |\n",
       "| 10 | 100 |\n"
      ]
     },
     "metadata": {},
     "output_type": "display_data"
    },
    {
     "data": {
      "application/vnd.jupyter.stderr": "[INFO/metayer] hello, stderr.  hello, log."
     },
     "metadata": {},
     "output_type": "display_data"
    },
    {
     "name": "stderr",
     "output_type": "stream",
     "text": [
      "hello, stderr.  hello, log.\n"
     ]
    }
   ],
   "source": [
    "# publishing contextualized upgrade!\n",
    "with_pander({\n",
    "  message(\"hello, stderr.  hello, log.\")\n",
    "  pcd\n",
    "})"
   ]
  },
  {
   "cell_type": "markdown",
   "id": "a76ae717-5078-4125-96dd-c5b001b27daf",
   "metadata": {},
   "source": [
    "## sure_plot\n",
    "\n",
    "`with_pander` can be used with plots.  It does this by generates an image file and injecting a markdown link.  By default the image format is PNG, which is fine for HTML, but isn't ideal for PDF output."
   ]
  },
  {
   "cell_type": "code",
   "execution_count": 5,
   "id": "3c3f67ef-7681-4c39-a23b-b335dec29d42",
   "metadata": {},
   "outputs": [
    {
     "data": {
      "text/markdown": [
       "![](plots/63f2951322858.png)"
      ]
     },
     "metadata": {},
     "output_type": "display_data"
    }
   ],
   "source": [
    "# generate a PNG file\n",
    "with_pander({\n",
    "  plot(pcd$x, pcd$y)\n",
    "})"
   ]
  },
  {
   "cell_type": "markdown",
   "id": "fc87e3fd-e5c0-4814-98cb-5f6ddff9bb4b",
   "metadata": {},
   "source": [
    "A PDF screen grab illustrates the image scaling artifacts.\n",
    "\n",
    "![](figure/pdf-raster.png)"
   ]
  },
  {
   "cell_type": "markdown",
   "id": "29d5cc20-aefe-42aa-915b-8e62a5197941",
   "metadata": {},
   "source": [
    "`sure_plot` addresses this concern via publishing context."
   ]
  },
  {
   "cell_type": "code",
   "execution_count": 6,
   "id": "859fcda1-4371-4411-afed-7e0f3fc2b24e",
   "metadata": {},
   "outputs": [
    {
     "data": {
      "text/html": [
       "<img src=\"data:image/png;base64, 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\"/>"
      ]
     },
     "metadata": {},
     "output_type": "display_data"
    }
   ],
   "source": [
    "# Produce a context aware plot\n",
    "sure_plot(\n",
    "  {\n",
    "    plot(pcd$x, pcd$y)\n",
    "  },\n",
    "  height = 5,\n",
    "  width = 5,\n",
    "  res = 96,\n",
    "  par_opts = list(bg = \"azure\")\n",
    ")"
   ]
  },
  {
   "cell_type": "markdown",
   "id": "0514194e-a506-439e-940e-7cff8e88fac3",
   "metadata": {},
   "source": [
    "And the corresponding screen grab from the PDF.\n",
    "\n",
    "![](figure/pdf-vector.png)"
   ]
  },
  {
   "cell_type": "markdown",
   "id": "4fc58118-5149-445a-af35-e1ae812470de",
   "metadata": {},
   "source": [
    "## appendix\n",
    "\n",
    "### publishing formats\n",
    "\n",
    "This snippet builds all three output formats:"
   ]
  },
  {
   "cell_type": "markdown",
   "id": "7c359d11-fe91-486d-b214-7fe00b3b3550",
   "metadata": {},
   "source": [
    "```r\n",
    "article_name <- \"authoring\"\n",
    "ipynb_in <- here::here(\"vignettes\", glue(\"{article_name}.ipynb\"))\n",
    "\n",
    "rmd_out <- fs::path_ext_set(ipynb_in, \".Rmd\")\n",
    "rmd_out <- pub_ipynb_to_rmd(ipynb_in, rmd_out)\n",
    "\n",
    "# build html and pdf as per the jupyter YAML header\n",
    "knitr_set_config()\n",
    "rmarkdown::render(\n",
    "  input = rmd_out,\n",
    "  output_format = \"all\"\n",
    ")\n",
    "\n",
    "# build the pkgdown article\n",
    "pkgdown::build_article(\"authoring\")\n",
    "```\n"
   ]
  },
  {
   "cell_type": "markdown",
   "id": "96fbc16b-7e8c-4b82-ad70-a8b798292f40",
   "metadata": {},
   "source": [
    "### incremental results\n",
    "\n",
    "We can also build just an Rmarkdown file.  This can be processed with knitr to obtain a regular markdown file, the latter being an intermediary step in the above."
   ]
  },
  {
   "cell_type": "markdown",
   "id": "2b7d2c30-1feb-485f-9e2d-1fd7b623ee9b",
   "metadata": {},
   "source": [
    "\n",
    "```r\n",
    "article_base <- here::here(\"vignettes/authoring\")\n",
    "ipynb <- fs::path_ext_set(article_base, \".ipynb\")\n",
    "rmd <- fs::path_ext_set(article_base, \".Rmd\")\n",
    "md <- fs::path_ext_set(article_base, \".md\")\n",
    "\n",
    "pub_ipynb_to_rmd(ipynb, rmd) %>%\n",
    "  knitr::knit(md)\n",
    "```\n"
   ]
  },
  {
   "cell_type": "markdown",
   "id": "a2d57913-7e4b-4603-ad59-ea7289e5f0b8",
   "metadata": {},
   "source": [
    "However, we advice against this because, at the markdown stage, the image format is established but the final output format is not.  \n",
    "\n",
    "We offer the following (`knitr_set_config`) to adjust the output format of `sure_plot` to meet downstream needs:\n",
    "\n",
    "```r\n",
    "# set the knitr configuration to enable 'jpeg' output from sure_plot\n",
    "knitr_set_config(dev = \"jpeg\")\n",
    "knitr::knit(rmd, md)\n",
    "```"
   ]
  },
  {
   "cell_type": "code",
   "execution_count": null,
   "id": "401f832e-a89e-461e-ba3f-42935e560c00",
   "metadata": {},
   "outputs": [],
   "source": []
  }
 ],
 "metadata": {
  "kernelspec": {
   "display_name": "R",
   "language": "R",
   "name": "ir"
  },
  "language_info": {
   "codemirror_mode": "r",
   "file_extension": ".r",
   "mimetype": "text/x-r-source",
   "name": "R",
   "pygments_lexer": "r",
   "version": "4.4.0"
  }
 },
 "nbformat": 4,
 "nbformat_minor": 5
}
