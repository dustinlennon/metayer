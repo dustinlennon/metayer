{
 "cells": [
  {
   "cell_type": "raw",
   "id": "3288e13f-5628-4366-8fb3-dcc50c574182",
   "metadata": {
    "editable": true,
    "raw_mimetype": "",
    "slideshow": {
     "slide_type": ""
    },
    "tags": [
     "yaml"
    ]
   },
   "source": [
    "---\n",
    "title: \"metayer: authoring tools\"\n",
    "output: rmarkdown::html_vignette\n",
    "vignette: >\n",
    "  %\\VignetteIndexEntry{metayer: authoring tools}\n",
    "  %\\VignetteEngine{knitr::rmarkdown}\n",
    "  %\\VignetteEncoding{UTF-8}\n",
    "---"
   ]
  },
  {
   "cell_type": "markdown",
   "id": "303244a4-0dd1-4286-9218-719f73484427",
   "metadata": {
    "editable": true,
    "slideshow": {
     "slide_type": ""
    },
    "tags": []
   },
   "source": [
    "## setting up a jupyter notebook\n",
    "\n",
    "To author documents in jupyter lab and generate HTML output, use the following YAML as a template.  This should be located in the first cell of the jupyter document; the cell should be \"raw\"; and it should be tagged as \"yaml\".  To tag the cell, use the menu -- view / appearance / show right sidebar.  Then, on the right sidebar, under Common Tools / Cell Tags, enter \"yaml\" in the text field button and hit return."
   ]
  },
  {
   "cell_type": "markdown",
   "id": "2e433628-828b-41b7-837d-e097353b40db",
   "metadata": {
    "editable": true,
    "slideshow": {
     "slide_type": ""
    },
    "tags": []
   },
   "source": [
    "```yaml\n",
    "---\n",
    "title: \"metayer: authoring tools\"\n",
    "output: rmarkdown::html_vignette\n",
    "vignette: >\n",
    "  %\\VignetteIndexEntry{metayer: authoring tools}\n",
    "  %\\VignetteEngine{knitr::rmarkdown}\n",
    "  %\\VignetteEncoding{UTF-8}\n",
    "---\n",
    "```"
   ]
  },
  {
   "cell_type": "markdown",
   "id": "02f5b9ab-62bb-4c04-a3f2-b0b1cb33eafb",
   "metadata": {
    "editable": true,
    "slideshow": {
     "slide_type": ""
    },
    "tags": []
   },
   "source": [
    "### load the metayer package"
   ]
  },
  {
   "cell_type": "code",
   "execution_count": null,
   "id": "c5d272d9-38de-4d91-aa9f-8e3a6d667242",
   "metadata": {
    "editable": true,
    "slideshow": {
     "slide_type": ""
    },
    "tags": []
   },
   "outputs": [],
   "source": [
    "suppressMessages({\n",
    "  library(magrittr)\n",
    "  library(metayer)\n",
    "})"
   ]
  },
  {
   "cell_type": "markdown",
   "id": "45f5df96-1606-4468-a875-b11855758dfb",
   "metadata": {
    "editable": true,
    "slideshow": {
     "slide_type": ""
    },
    "tags": []
   },
   "source": [
    "## outputting text\n",
    "\n",
    "Some objects are efficiently described using simple text output.  To do this across publishing contexts and in a uniform way, use `display_text`:"
   ]
  },
  {
   "cell_type": "code",
   "execution_count": null,
   "id": "89ce74ec-67a5-4e23-8085-5da06349acc7",
   "metadata": {
    "editable": true,
    "slideshow": {
     "slide_type": ""
    },
    "tags": []
   },
   "outputs": [],
   "source": [
    "# the default list output\n",
    "lst <- list(foo = 42)\n",
    "display_text(lst)"
   ]
  },
  {
   "cell_type": "code",
   "execution_count": null,
   "id": "03fcf431-87c8-4d80-9c6b-fc06198ce455",
   "metadata": {
    "editable": true,
    "slideshow": {
     "slide_type": ""
    },
    "tags": []
   },
   "outputs": [],
   "source": [
    "# a tibble\n",
    "a <- 1:5\n",
    "tbl <- tibble::tibble(a, b = a * 2, c = 1)\n",
    "display_text(tbl)"
   ]
  },
  {
   "cell_type": "markdown",
   "id": "bb1b4222-6f45-464e-9a79-c568aaee48e6",
   "metadata": {
    "editable": true,
    "slideshow": {
     "slide_type": ""
    },
    "tags": []
   },
   "source": [
    "## source highlighting\n",
    "\n",
    "Source highlighting of a file is accomplished with `display_source`:"
   ]
  },
  {
   "cell_type": "code",
   "execution_count": null,
   "id": "b3aec795-9fdf-44a2-a5ba-ff77ee976af0",
   "metadata": {
    "editable": true,
    "slideshow": {
     "slide_type": ""
    },
    "tags": []
   },
   "outputs": [],
   "source": [
    "display_source(\"./tests/testthat/fixtures/display_source/foo.r\")"
   ]
  },
  {
   "cell_type": "markdown",
   "id": "bfbacbba-0771-4756-bcc5-0f7cb585a073",
   "metadata": {
    "editable": true,
    "slideshow": {
     "slide_type": ""
    },
    "tags": []
   },
   "source": [
    "`display_source` can also take a directory path:"
   ]
  },
  {
   "cell_type": "code",
   "execution_count": null,
   "id": "b8405acd-4a03-47bf-88f5-40f12bb1c887",
   "metadata": {
    "editable": true,
    "slideshow": {
     "slide_type": ""
    },
    "tags": []
   },
   "outputs": [],
   "source": [
    "display_source(\"./tests/testthat/fixtures/display_source\")"
   ]
  },
  {
   "cell_type": "markdown",
   "id": "d4b926ca-ab37-4d14-bb24-f5e00bc051b5",
   "metadata": {
    "editable": true,
    "slideshow": {
     "slide_type": ""
    },
    "tags": []
   },
   "source": [
    "### highlight theme\n",
    "\n",
    "Changing the knitr theme is accomplished by providing a `theme` argument.  Refer to [http://animation.r-forge.r-project.org/knitr/](http://animation.r-forge.r-project.org/knitr/) for an exhaustive list of themes."
   ]
  },
  {
   "cell_type": "code",
   "execution_count": null,
   "id": "5fbc239f-0d1d-47b0-a238-42b2a5481078",
   "metadata": {},
   "outputs": [],
   "source": [
    "display_source(\"./tests/testthat/fixtures/display_source/foo.r\", theme = \"pablo\")"
   ]
  },
  {
   "cell_type": "markdown",
   "id": "12ff0d86-2e63-47b7-8502-db0e1c6baff0",
   "metadata": {
    "editable": true,
    "slideshow": {
     "slide_type": ""
    },
    "tags": []
   },
   "source": [
    "### programmatically highlight code\n",
    "\n",
    "It's also possible to provide code directly to `display_source` by setting `raw` to TRUE:"
   ]
  },
  {
   "cell_type": "code",
   "execution_count": null,
   "id": "f726336a-0899-44ad-b3a2-3cf41423678c",
   "metadata": {},
   "outputs": [],
   "source": [
    "here::here(\"./tests/testthat/fixtures/display_source/foo.r\") %>%\n",
    "  xfun::file_string() %>%\n",
    "  display_source(raw = TRUE)"
   ]
  },
  {
   "cell_type": "markdown",
   "id": "22767a31-56fb-493e-a687-fc1d4e577cc1",
   "metadata": {
    "editable": true,
    "slideshow": {
     "slide_type": ""
    },
    "tags": []
   },
   "source": [
    "## building vignettes\n",
    "\n",
    "Store jupyter notebooks in the ./vignettes directory.  Then, supposing a vignette named \"my_vignette.ipynb\" exists, creating the corresponding vignette is simple:"
   ]
  },
  {
   "cell_type": "markdown",
   "id": "1cf0d261-68a3-4e8a-909d-86139030cd78",
   "metadata": {},
   "source": [
    "```R\n",
    "build_vignette( \"my_vignette.ipynb\" )\n",
    "```"
   ]
  }
 ],
 "metadata": {
  "kernelspec": {
   "display_name": "R",
   "language": "R",
   "name": "ir"
  },
  "language_info": {
   "codemirror_mode": "r",
   "file_extension": ".r",
   "mimetype": "text/x-r-source",
   "name": "R",
   "pygments_lexer": "r",
   "version": "4.4.0"
  }
 },
 "nbformat": 4,
 "nbformat_minor": 5
}
