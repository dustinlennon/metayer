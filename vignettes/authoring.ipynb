{
 "cells": [
  {
   "cell_type": "raw",
   "id": "ccb5f892-bdf0-46d3-aeac-212bea8d5fb7",
   "metadata": {},
   "source": [
    "---\n",
    "title: \"authoring\"\n",
    "---"
   ]
  },
  {
   "cell_type": "markdown",
   "id": "8a69144f-2ad8-49ce-a59d-0901c9d9c059",
   "metadata": {},
   "source": [
    "## publishing context\n",
    "\n",
    "This article addresses publishing context.  The workflow scenario is authoring documentation in a Jupyter notebook.  The requirement is to support rmarkdown html, rmarkdown pdf, and pkgdown article output.  Details of these document pipelines are in the appendix."
   ]
  },
  {
   "cell_type": "markdown",
   "id": "6888e178-2e64-4079-9d5b-ca9be34b582b",
   "metadata": {},
   "source": [
    "### jupyter header yaml\n",
    "\n",
    "It can be convenient to have a copy and paste YAML header when creating new jupyter documents.  \n",
    "\n",
    "```yaml\n",
    "---\n",
    "title: \"authoring\"\n",
    "\n",
    "all_doc: &shared\n",
    "  pandoc_args: \n",
    "    - !with_env \"--resource-path={R_HERE_HERE}/vignettes\"\n",
    "\n",
    "output:\n",
    "  html_document:\n",
    "    <<: *shared\n",
    "    theme: cerulean\n",
    "    highlight: espresso\n",
    "  pdf_document:\n",
    "    <<: *shared\n",
    "---\n",
    "```\n",
    "\n",
    "Above, we show the defaults used by metayer. However, these are easily changed via the config.yml file.  Documentation is in the [configuration vignette](./metayer-config.html)"
   ]
  },
  {
   "cell_type": "markdown",
   "id": "f1c8d68b-0832-4cec-89ae-78332ed2772a",
   "metadata": {},
   "source": [
    "## with_pander\n",
    "\n",
    "`pander` converts to markdown.  `with_pander` adds logging and context dependent output."
   ]
  },
  {
   "cell_type": "code",
   "execution_count": null,
   "id": "c103713e-1e3a-4f30-bed2-b597c61e31b7",
   "metadata": {},
   "outputs": [],
   "source": [
    "# convert to markdown, with a message\n",
    "pander({\n",
    "  message(\"hello, stderr\")\n",
    "  pcd\n",
    "})"
   ]
  },
  {
   "cell_type": "code",
   "execution_count": null,
   "id": "eeecaee2-704d-48ee-a526-062a544a4f1e",
   "metadata": {},
   "outputs": [],
   "source": [
    "# publishing context upgrade!\n",
    "with_pander({\n",
    "  message(\"hello, stderr.  hello, log.\")\n",
    "  pcd\n",
    "})"
   ]
  },
  {
   "cell_type": "markdown",
   "id": "a76ae717-5078-4125-96dd-c5b001b27daf",
   "metadata": {},
   "source": [
    "`with_pander` can be used with plots.  It does this by generates an image file and injecting a markdown link.  By default the image format is PNG, which is fine for HTML, but isn't ideal for PDF output."
   ]
  },
  {
   "cell_type": "code",
   "execution_count": null,
   "id": "3c3f67ef-7681-4c39-a23b-b335dec29d42",
   "metadata": {},
   "outputs": [],
   "source": [
    "# using with_pander to generate a PNG file\n",
    "with_pander({\n",
    "  plot(pcd$x, pcd$y)\n",
    "})"
   ]
  },
  {
   "cell_type": "markdown",
   "id": "fc87e3fd-e5c0-4814-98cb-5f6ddff9bb4b",
   "metadata": {},
   "source": [
    "However, a screen grab of PDF output illustrates the image scaling artifacts that arise with a raster image.\n",
    "\n",
    "![](figure/pdf-raster.png)"
   ]
  },
  {
   "cell_type": "markdown",
   "id": "29d5cc20-aefe-42aa-915b-8e62a5197941",
   "metadata": {},
   "source": [
    "## sure_plot\n",
    "\n",
    "`sure_plot` addresses this concern by inspecting publishing context.  This ensures that an HTML document will be paired with png raster images whereas a PDF document will be paired with svg vector images."
   ]
  },
  {
   "cell_type": "code",
   "execution_count": null,
   "id": "859fcda1-4371-4411-afed-7e0f3fc2b24e",
   "metadata": {},
   "outputs": [],
   "source": [
    "# Produce a context aware plot\n",
    "sure_plot(\n",
    "  {\n",
    "    plot(pcd$x, pcd$y)\n",
    "  },\n",
    "  height = 5,\n",
    "  width = 5,\n",
    "  res = 96,\n",
    "  par_opts = list(bg = \"#f1d08f\")\n",
    ")"
   ]
  },
  {
   "cell_type": "markdown",
   "id": "0514194e-a506-439e-940e-7cff8e88fac3",
   "metadata": {},
   "source": [
    "And the corresponding screen grab from the PDF.\n",
    "\n",
    "![](figure/pdf-vector.png)\n"
   ]
  },
  {
   "cell_type": "markdown",
   "id": "4fc58118-5149-445a-af35-e1ae812470de",
   "metadata": {},
   "source": [
    "## appendix\n",
    "\n",
    "### publishing formats\n",
    "\n",
    "This snippet builds all three output formats:"
   ]
  },
  {
   "cell_type": "markdown",
   "id": "7c359d11-fe91-486d-b214-7fe00b3b3550",
   "metadata": {},
   "source": [
    "```r\n",
    "article_name <- \"authoring\"\n",
    "\n",
    "pub_ipynb_to_rmd(\n",
    "  \"./vignettes/authoring.ipynb\",\n",
    "  \"./vignettes/authoring.Rmd\"    \n",
    ")\n",
    "\n",
    "# create standalone html and pdf\n",
    "rmarkdown::render(\n",
    "  input = \"./vignettes/authoring.Rmd\",\n",
    "  output_format = \"all\"\n",
    ")\n",
    "\n",
    "# build the pkgdown article\n",
    "pkgdown::build_article(\"authoring\")\n",
    "\n",
    "```"
   ]
  },
  {
   "cell_type": "markdown",
   "id": "96fbc16b-7e8c-4b82-ad70-a8b798292f40",
   "metadata": {},
   "source": [
    "### incremental results\n",
    "\n",
    "Using knitr, we can convert from the Rmarkdown format to a regular markdown file. This would be suitable for direct pandoc processing."
   ]
  },
  {
   "cell_type": "markdown",
   "id": "2b7d2c30-1feb-485f-9e2d-1fd7b623ee9b",
   "metadata": {},
   "source": [
    "```r\n",
    "# be intentional about the image format\n",
    "withr::with_options(\n",
    "  list(knitr.chunk.dev = \"jpeg\"),\n",
    "  {\n",
    "    knitr::knit(\n",
    "      \"./vignettes/authoring.Rmd\",\n",
    "      \"./vignettes/authoring_jpeg.md\"\n",
    "    )\n",
    "  }\n",
    ")\n",
    "```\n"
   ]
  },
  {
   "cell_type": "code",
   "execution_count": null,
   "id": "401f832e-a89e-461e-ba3f-42935e560c00",
   "metadata": {},
   "outputs": [],
   "source": []
  }
 ],
 "metadata": {
  "kernelspec": {
   "display_name": "R",
   "language": "R",
   "name": "ir"
  },
  "language_info": {
   "codemirror_mode": "r",
   "file_extension": ".r",
   "mimetype": "text/x-r-source",
   "name": "R",
   "pygments_lexer": "r",
   "version": "4.4.0"
  }
 },
 "nbformat": 4,
 "nbformat_minor": 5
}
