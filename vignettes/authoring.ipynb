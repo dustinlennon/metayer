{
 "cells": [
  {
   "cell_type": "raw",
   "id": "3288e13f-5628-4366-8fb3-dcc50c574182",
   "metadata": {
    "editable": true,
    "raw_mimetype": "",
    "slideshow": {
     "slide_type": ""
    },
    "tags": [
     "yaml"
    ]
   },
   "source": [
    "---\n",
    "title: \"metayer: authoring tools\"\n",
    "output: rmarkdown::html_vignette\n",
    "vignette: >\n",
    "  %\\VignetteIndexEntry{metayer: authoring tools}\n",
    "  %\\VignetteEngine{knitr::rmarkdown}\n",
    "  %\\VignetteEncoding{UTF-8}\n",
    "---"
   ]
  },
  {
   "cell_type": "markdown",
   "id": "303244a4-0dd1-4286-9218-719f73484427",
   "metadata": {
    "editable": true,
    "slideshow": {
     "slide_type": ""
    },
    "tags": []
   },
   "source": [
    "## setting up a jupyter notebook\n",
    "\n",
    "To author documents in jupyter lab and generate HTML output, use the following YAML as a template.  This should be located in the first cell of the jupyter document; the cell should be \"raw\"; and it should be tagged as \"yaml\".  To tag the cell, use the menu -- view / appearance / show right sidebar.  Then, under Common Tools / Cell Tags, enter \"yaml\" in the text field button and hit return."
   ]
  },
  {
   "cell_type": "markdown",
   "id": "2e433628-828b-41b7-837d-e097353b40db",
   "metadata": {
    "editable": true,
    "slideshow": {
     "slide_type": ""
    },
    "tags": []
   },
   "source": [
    "```yaml\n",
    "---\n",
    "title: \"metayer: authoring tools\"\n",
    "output: rmarkdown::html_vignette\n",
    "vignette: >\n",
    "  %\\VignetteIndexEntry{metayer: authoring tools}\n",
    "  %\\VignetteEngine{knitr::rmarkdown}\n",
    "  %\\VignetteEncoding{UTF-8}\n",
    "---\n",
    "```"
   ]
  },
  {
   "cell_type": "markdown",
   "id": "02f5b9ab-62bb-4c04-a3f2-b0b1cb33eafb",
   "metadata": {
    "editable": true,
    "slideshow": {
     "slide_type": ""
    },
    "tags": []
   },
   "source": [
    "## vignette functionality"
   ]
  },
  {
   "cell_type": "code",
   "execution_count": 1,
   "id": "c5d272d9-38de-4d91-aa9f-8e3a6d667242",
   "metadata": {
    "editable": true,
    "slideshow": {
     "slide_type": ""
    },
    "tags": []
   },
   "outputs": [
    {
     "data": {
      "text/html": [
       "<style>.inline {\n",
       "  background-color: #f7f7f7;\n",
       "  border:solid 1px #B0B0B0;\n",
       "}\n",
       ".error {\n",
       "\tfont-weight: bold;\n",
       "\tcolor: #FF0000;\n",
       "}\n",
       ".warning {\n",
       "\tfont-weight: bold;\n",
       "}\n",
       ".message {\n",
       "\tfont-style: italic;\n",
       "}\n",
       ".source, .output, .warning, .error, .message {\n",
       "\tpadding: 0 1em;\n",
       "  border:solid 1px #F7F7F7;\n",
       "}\n",
       ".source {\n",
       "  background-color: #fff5ee;\n",
       "}\n",
       ".left {\n",
       "  text-align: left;\n",
       "}\n",
       ".right {\n",
       "  text-align: right;\n",
       "}\n",
       ".center {\n",
       "  text-align: center;\n",
       "}\n",
       ".hl.num {\n",
       "  color: #ff1493;\n",
       "}\n",
       ".hl.sng {\n",
       "  color: #ff1493;\n",
       "}\n",
       ".hl.com {\n",
       "  color: #2929cc;\n",
       "}\n",
       ".hl.opt {\n",
       "  color: #676767;\n",
       "}\n",
       ".hl.def {\n",
       "  color: #000000;\n",
       "}\n",
       ".hl.kwa {\n",
       "  color: #2e8b57;\n",
       "  font-weight: bold;\n",
       "}\n",
       ".hl.kwb {\n",
       "  color: #2e8b57;\n",
       "  font-weight: bold;\n",
       "}\n",
       ".hl.kwc {\n",
       "  color: #696969;\n",
       "  font-weight: bold;\n",
       "}\n",
       ".hl.kwd {\n",
       "  color: #00008f;\n",
       "}</style>"
      ]
     },
     "metadata": {},
     "output_type": "display_data"
    }
   ],
   "source": [
    "# load metayer package\n",
    "suppressMessages(\n",
    "  devtools::load_all()\n",
    ")"
   ]
  },
  {
   "cell_type": "markdown",
   "id": "45f5df96-1606-4468-a875-b11855758dfb",
   "metadata": {
    "editable": true,
    "slideshow": {
     "slide_type": ""
    },
    "tags": []
   },
   "source": [
    "## display text\n",
    "\n",
    "Some objects are best shared as formatted text.  To do this uniformly across context, use `display_text`:"
   ]
  },
  {
   "cell_type": "code",
   "execution_count": 2,
   "id": "89ce74ec-67a5-4e23-8085-5da06349acc7",
   "metadata": {
    "editable": true,
    "slideshow": {
     "slide_type": ""
    },
    "tags": []
   },
   "outputs": [
    {
     "data": {
      "text/plain": [
       "$foo\n",
       "[1] 42\n"
      ]
     },
     "metadata": {},
     "output_type": "display_data"
    }
   ],
   "source": [
    "# the default list output\n",
    "lst <- list(foo = 42)\n",
    "display_text(lst)"
   ]
  },
  {
   "cell_type": "code",
   "execution_count": 3,
   "id": "03fcf431-87c8-4d80-9c6b-fc06198ce455",
   "metadata": {
    "editable": true,
    "slideshow": {
     "slide_type": ""
    },
    "tags": []
   },
   "outputs": [
    {
     "data": {
      "text/plain": [
       "\u001b[90m# A tibble: 5 × 3\u001b[39m\n",
       "      a     b     c\n",
       "  \u001b[3m\u001b[90m<int>\u001b[39m\u001b[23m \u001b[3m\u001b[90m<dbl>\u001b[39m\u001b[23m \u001b[3m\u001b[90m<dbl>\u001b[39m\u001b[23m\n",
       "\u001b[90m1\u001b[39m     1     2     1\n",
       "\u001b[90m2\u001b[39m     2     4     1\n",
       "\u001b[90m3\u001b[39m     3     6     1\n",
       "\u001b[90m4\u001b[39m     4     8     1\n",
       "\u001b[90m5\u001b[39m     5    10     1"
      ]
     },
     "metadata": {},
     "output_type": "display_data"
    }
   ],
   "source": [
    "# a tibble\n",
    "a <- 1:5\n",
    "tbl <- tibble::tibble(a, b = a * 2, c = 1)\n",
    "display_text(tbl)"
   ]
  },
  {
   "cell_type": "markdown",
   "id": "bb1b4222-6f45-464e-9a79-c568aaee48e6",
   "metadata": {
    "editable": true,
    "slideshow": {
     "slide_type": ""
    },
    "tags": []
   },
   "source": [
    "### display source\n",
    "\n",
    "Source highlighting of a file:"
   ]
  },
  {
   "cell_type": "code",
   "execution_count": 4,
   "id": "b3aec795-9fdf-44a2-a5ba-ff77ee976af0",
   "metadata": {
    "editable": true,
    "slideshow": {
     "slide_type": ""
    },
    "tags": []
   },
   "outputs": [
    {
     "data": {
      "text/html": [
       "<pre>\n",
       "  <div class=\"source\"><span class=\"hl com\">#</span>\n",
       "<span class=\"hl com\"># File:  /home/dnlennon/Workspace/repos/metayer/tests/testthat/helper.R</span>\n",
       "<span class=\"hl com\">#</span>\n",
       "\n",
       "<span class=\"hl com\">#' An option set for cli text output</span>\n",
       "<span class=\"hl def\">cli_test_opts</span> <span class=\"hl kwb\">&lt;-</span> <span class=\"hl kwa\">function</span><span class=\"hl def\">(</span><span class=\"hl kwc\">metayer_transformer</span> <span class=\"hl def\">= null_aware_transformer) {</span>\n",
       "  <span class=\"hl def\">num_colors</span> <span class=\"hl kwb\">&lt;-</span> <span class=\"hl num\">1</span>\n",
       "  <span class=\"hl kwd\">list</span><span class=\"hl def\">(</span>\n",
       "    <span class=\"hl kwc\">cli.dynamic</span> <span class=\"hl def\">=</span> <span class=\"hl num\">FALSE</span><span class=\"hl def\">,</span>\n",
       "    <span class=\"hl kwc\">cli.ansi</span> <span class=\"hl def\">=</span> <span class=\"hl num\">FALSE</span><span class=\"hl def\">,</span>\n",
       "    <span class=\"hl kwc\">cli.unicode</span> <span class=\"hl def\">=</span> <span class=\"hl num\">FALSE</span><span class=\"hl def\">,</span>\n",
       "    <span class=\"hl kwc\">crayon.enabled</span> <span class=\"hl def\">= num_colors</span> <span class=\"hl opt\">&gt;</span> <span class=\"hl num\">1</span><span class=\"hl def\">,</span>\n",
       "    <span class=\"hl kwc\">crayon.colors</span> <span class=\"hl def\">= num_colors,</span>\n",
       "    <span class=\"hl kwc\">metayer.verbosity</span> <span class=\"hl def\">=</span> <span class=\"hl num\">0</span><span class=\"hl def\">,</span>\n",
       "    <span class=\"hl kwc\">metayer.transformer</span> <span class=\"hl def\">= metayer_transformer</span>\n",
       "  <span class=\"hl def\">)</span>\n",
       "<span class=\"hl def\">}</span></div>\n",
       "</pre>"
      ]
     },
     "metadata": {},
     "output_type": "display_data"
    }
   ],
   "source": [
    "display_source(\"./tests/testthat/helper.R\")"
   ]
  },
  {
   "cell_type": "markdown",
   "id": "bfbacbba-0771-4756-bcc5-0f7cb585a073",
   "metadata": {},
   "source": [
    "or a directory:"
   ]
  },
  {
   "cell_type": "code",
   "execution_count": 5,
   "id": "b8405acd-4a03-47bf-88f5-40f12bb1c887",
   "metadata": {
    "editable": true,
    "slideshow": {
     "slide_type": ""
    },
    "tags": []
   },
   "outputs": [
    {
     "data": {
      "text/html": [
       "<pre>\n",
       "  <div class=\"source\"><span class=\"hl com\">#</span>\n",
       "<span class=\"hl com\"># File:  /home/dnlennon/Workspace/repos/metayer/tests/testthat/fixtures/display_source/bar.R</span>\n",
       "<span class=\"hl com\">#</span>\n",
       "\n",
       "<span class=\"hl def\">bar</span> <span class=\"hl kwb\">&lt;-</span> <span class=\"hl kwa\">function</span><span class=\"hl def\">() {}</span></div>\n",
       "</pre>\n",
       "<pre>\n",
       "  <div class=\"source\"><span class=\"hl com\">#</span>\n",
       "<span class=\"hl com\"># File:  /home/dnlennon/Workspace/repos/metayer/tests/testthat/fixtures/display_source/foo.r</span>\n",
       "<span class=\"hl com\">#</span>\n",
       "\n",
       "<span class=\"hl def\">foo</span> <span class=\"hl kwb\">&lt;-</span> <span class=\"hl kwa\">function</span><span class=\"hl def\">() {}</span></div>\n",
       "</pre>"
      ]
     },
     "metadata": {},
     "output_type": "display_data"
    }
   ],
   "source": [
    "display_source(\"./tests/testthat/fixtures/display_source\")"
   ]
  },
  {
   "cell_type": "markdown",
   "id": "12ff0d86-2e63-47b7-8502-db0e1c6baff0",
   "metadata": {
    "editable": true,
    "slideshow": {
     "slide_type": ""
    },
    "tags": []
   },
   "source": [
    "#### code highlighting from a string\n",
    "\n",
    "It's also possible to provide code directly using the `display_highlight` function:"
   ]
  },
  {
   "cell_type": "code",
   "execution_count": 6,
   "id": "f145cb4f-07dc-4d18-a7fe-72e9f03260fd",
   "metadata": {
    "editable": true,
    "slideshow": {
     "slide_type": ""
    },
    "tags": []
   },
   "outputs": [
    {
     "data": {
      "text/html": [
       "<pre>\n",
       "  <div class=\"source\"><span class=\"hl com\">#' An option set for cli text output</span>\n",
       "<span class=\"hl def\">cli_test_opts</span> <span class=\"hl kwb\">&lt;-</span> <span class=\"hl kwa\">function</span><span class=\"hl def\">(</span><span class=\"hl kwc\">metayer_transformer</span> <span class=\"hl def\">= null_aware_transformer) {</span>\n",
       "  <span class=\"hl def\">num_colors</span> <span class=\"hl kwb\">&lt;-</span> <span class=\"hl num\">1</span>\n",
       "  <span class=\"hl kwd\">list</span><span class=\"hl def\">(</span>\n",
       "    <span class=\"hl kwc\">cli.dynamic</span> <span class=\"hl def\">=</span> <span class=\"hl num\">FALSE</span><span class=\"hl def\">,</span>\n",
       "    <span class=\"hl kwc\">cli.ansi</span> <span class=\"hl def\">=</span> <span class=\"hl num\">FALSE</span><span class=\"hl def\">,</span>\n",
       "    <span class=\"hl kwc\">cli.unicode</span> <span class=\"hl def\">=</span> <span class=\"hl num\">FALSE</span><span class=\"hl def\">,</span>\n",
       "    <span class=\"hl kwc\">crayon.enabled</span> <span class=\"hl def\">= num_colors</span> <span class=\"hl opt\">&gt;</span> <span class=\"hl num\">1</span><span class=\"hl def\">,</span>\n",
       "    <span class=\"hl kwc\">crayon.colors</span> <span class=\"hl def\">= num_colors,</span>\n",
       "    <span class=\"hl kwc\">metayer.verbosity</span> <span class=\"hl def\">=</span> <span class=\"hl num\">0</span><span class=\"hl def\">,</span>\n",
       "    <span class=\"hl kwc\">metayer.transformer</span> <span class=\"hl def\">= metayer_transformer</span>\n",
       "  <span class=\"hl def\">)</span>\n",
       "<span class=\"hl def\">}</span></div>\n",
       "</pre>"
      ]
     },
     "metadata": {},
     "output_type": "display_data"
    }
   ],
   "source": [
    "here::here(\"./tests/testthat/helper.R\") %>%\n",
    "  xfun::file_string() %>%\n",
    "  display_highlight()"
   ]
  },
  {
   "cell_type": "markdown",
   "id": "22767a31-56fb-493e-a687-fc1d4e577cc1",
   "metadata": {
    "editable": true,
    "slideshow": {
     "slide_type": ""
    },
    "tags": []
   },
   "source": [
    "## Building a Vignette\n",
    "\n",
    "Store jupyter notebooks in the ./vignettes directory.  Then, supposing a vignette named \"my_vignette.ipynb\" exists, creating the corresponding vignette is simple:"
   ]
  },
  {
   "cell_type": "markdown",
   "id": "1cf0d261-68a3-4e8a-909d-86139030cd78",
   "metadata": {},
   "source": [
    "```R\n",
    "build_vignette( \"my_vignette.ipynb\" )\n",
    "```"
   ]
  },
  {
   "cell_type": "markdown",
   "id": "18d340fe-fbef-4210-87fb-9e10e394ac40",
   "metadata": {
    "editable": true,
    "slideshow": {
     "slide_type": ""
    },
    "tags": []
   },
   "source": [
    "## Logging"
   ]
  },
  {
   "cell_type": "code",
   "execution_count": 13,
   "id": "114b8cdd-ad02-42a4-bb0f-f54f1c8445f1",
   "metadata": {},
   "outputs": [],
   "source": [
    "# default log_alert_info\n",
    "log_alert_info(\"hello world\")"
   ]
  },
  {
   "cell_type": "code",
   "execution_count": 8,
   "id": "a9e2ed8d-040d-4e3a-bf7c-ba81d0797cc1",
   "metadata": {},
   "outputs": [
    {
     "name": "stderr",
     "output_type": "stream",
     "text": [
      "\u001b[36mℹ\u001b[39m hello world\n",
      "\n"
     ]
    }
   ],
   "source": [
    "# send cli messages to a null handler\n",
    "withr::with_options(\n",
    "  list(\n",
    "    cli.default_handler = metayer_handler\n",
    "  ),\n",
    "  log_alert_info(\"hello world\")\n",
    ")"
   ]
  },
  {
   "cell_type": "code",
   "execution_count": 9,
   "id": "1ee1143c-4945-4be8-8439-9ecd20cd3fb5",
   "metadata": {},
   "outputs": [],
   "source": [
    "# default log_inform\n",
    "log_inform(\"hi hi\")"
   ]
  },
  {
   "cell_type": "code",
   "execution_count": 10,
   "id": "3bd6f6fb-6ba7-4d5d-aae4-52cf9b743cc4",
   "metadata": {},
   "outputs": [
    {
     "name": "stderr",
     "output_type": "stream",
     "text": [
      "\u001b[1m\u001b[22mhi hi\n"
     ]
    }
   ],
   "source": [
    "# set metayer.verbosity lower than \"log_inform\"\n",
    "withr::with_options(\n",
    "  list(\n",
    "    metayer.verbosity = 0\n",
    "  ),\n",
    "  log_inform(\"hi hi\")\n",
    ")"
   ]
  },
  {
   "cell_type": "code",
   "execution_count": 11,
   "id": "4b8e7d54-2097-444f-bf98-a0f2de98006a",
   "metadata": {},
   "outputs": [],
   "source": [
    "# set metayer.verbosity. higher than \"log_inform\"\n",
    "withr::with_options(\n",
    "  list(\n",
    "    metayer.verbosity = 30\n",
    "  ),\n",
    "  log_inform(\"hi hi\")\n",
    ")"
   ]
  },
  {
   "cell_type": "code",
   "execution_count": null,
   "id": "1b1c2599-0cf8-40ed-a90e-c558dd3f6c6a",
   "metadata": {
    "editable": true,
    "slideshow": {
     "slide_type": ""
    },
    "tags": []
   },
   "outputs": [],
   "source": []
  }
 ],
 "metadata": {
  "kernelspec": {
   "display_name": "R",
   "language": "R",
   "name": "ir"
  },
  "language_info": {
   "codemirror_mode": "r",
   "file_extension": ".r",
   "mimetype": "text/x-r-source",
   "name": "R",
   "pygments_lexer": "r",
   "version": "4.4.0"
  }
 },
 "nbformat": 4,
 "nbformat_minor": 5
}
