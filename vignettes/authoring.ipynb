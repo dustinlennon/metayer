{
 "cells": [
  {
   "cell_type": "raw",
   "id": "3288e13f-5628-4366-8fb3-dcc50c574182",
   "metadata": {
    "editable": true,
    "raw_mimetype": "",
    "slideshow": {
     "slide_type": ""
    },
    "tags": [
     "yaml"
    ]
   },
   "source": [
    "---\n",
    "title: \"metayer: authoring tools\"\n",
    "output: rmarkdown::html_vignette\n",
    "vignette: >\n",
    "  %\\VignetteIndexEntry{metayer: authoring tools}\n",
    "  %\\VignetteEngine{knitr::rmarkdown}\n",
    "  %\\VignetteEncoding{UTF-8}\n",
    "---"
   ]
  },
  {
   "cell_type": "markdown",
   "id": "303244a4-0dd1-4286-9218-719f73484427",
   "metadata": {
    "editable": true,
    "slideshow": {
     "slide_type": ""
    },
    "tags": []
   },
   "source": [
    "## setting up a jupyter notebook\n",
    "\n",
    "To author documents in jupyter lab and generate HTML output, use the following YAML as a template.  This should be located in the first cell of the jupyter document; the cell should be \"raw\"; and it should be tagged as \"yaml\".  To tag the cell, use the menu -- view / appearance / show right sidebar.  Then, on the right sidebar, under Common Tools / Cell Tags, enter \"yaml\" in the text field button and hit return."
   ]
  },
  {
   "cell_type": "markdown",
   "id": "2e433628-828b-41b7-837d-e097353b40db",
   "metadata": {
    "editable": true,
    "slideshow": {
     "slide_type": ""
    },
    "tags": []
   },
   "source": [
    "```yaml\n",
    "---\n",
    "title: \"metayer: authoring tools\"\n",
    "output: rmarkdown::html_vignette\n",
    "vignette: >\n",
    "  %\\VignetteIndexEntry{metayer: authoring tools}\n",
    "  %\\VignetteEngine{knitr::rmarkdown}\n",
    "  %\\VignetteEncoding{UTF-8}\n",
    "---\n",
    "```"
   ]
  },
  {
   "cell_type": "markdown",
   "id": "02f5b9ab-62bb-4c04-a3f2-b0b1cb33eafb",
   "metadata": {
    "editable": true,
    "slideshow": {
     "slide_type": ""
    },
    "tags": []
   },
   "source": [
    "### load the metayer package"
   ]
  },
  {
   "cell_type": "code",
   "execution_count": 10,
   "id": "c5d272d9-38de-4d91-aa9f-8e3a6d667242",
   "metadata": {
    "editable": true,
    "slideshow": {
     "slide_type": ""
    },
    "tags": []
   },
   "outputs": [],
   "source": [
    "# load metayer package\n",
    "suppressMessages(\n",
    "  devtools::load_all()\n",
    ")"
   ]
  },
  {
   "cell_type": "markdown",
   "id": "45f5df96-1606-4468-a875-b11855758dfb",
   "metadata": {
    "editable": true,
    "slideshow": {
     "slide_type": ""
    },
    "tags": []
   },
   "source": [
    "## outputting text\n",
    "\n",
    "Some objects are efficiently described using simple text output.  To do this across publishing contexts and in a uniform way, use `display_text`:"
   ]
  },
  {
   "cell_type": "code",
   "execution_count": 17,
   "id": "89ce74ec-67a5-4e23-8085-5da06349acc7",
   "metadata": {
    "editable": true,
    "slideshow": {
     "slide_type": ""
    },
    "tags": []
   },
   "outputs": [
    {
     "data": {
      "text/plain": [
       "$foo\n",
       "[1] 42\n"
      ]
     },
     "metadata": {},
     "output_type": "display_data"
    }
   ],
   "source": [
    "# the default list output\n",
    "lst <- list(foo = 42)\n",
    "display_text(lst)"
   ]
  },
  {
   "cell_type": "code",
   "execution_count": 18,
   "id": "03fcf431-87c8-4d80-9c6b-fc06198ce455",
   "metadata": {
    "editable": true,
    "slideshow": {
     "slide_type": ""
    },
    "tags": []
   },
   "outputs": [
    {
     "data": {
      "text/plain": [
       "\u001b[90m# A tibble: 5 × 3\u001b[39m\n",
       "      a     b     c\n",
       "  \u001b[3m\u001b[90m<int>\u001b[39m\u001b[23m \u001b[3m\u001b[90m<dbl>\u001b[39m\u001b[23m \u001b[3m\u001b[90m<dbl>\u001b[39m\u001b[23m\n",
       "\u001b[90m1\u001b[39m     1     2     1\n",
       "\u001b[90m2\u001b[39m     2     4     1\n",
       "\u001b[90m3\u001b[39m     3     6     1\n",
       "\u001b[90m4\u001b[39m     4     8     1\n",
       "\u001b[90m5\u001b[39m     5    10     1"
      ]
     },
     "metadata": {},
     "output_type": "display_data"
    }
   ],
   "source": [
    "# a tibble\n",
    "a <- 1:5\n",
    "tbl <- tibble::tibble(a, b = a * 2, c = 1)\n",
    "display_text(tbl)"
   ]
  },
  {
   "cell_type": "markdown",
   "id": "bb1b4222-6f45-464e-9a79-c568aaee48e6",
   "metadata": {
    "editable": true,
    "slideshow": {
     "slide_type": ""
    },
    "tags": []
   },
   "source": [
    "## source highlighting\n",
    "\n",
    "Source highlighting of a file is accomplished with `display_source`:"
   ]
  },
  {
   "cell_type": "code",
   "execution_count": 19,
   "id": "b3aec795-9fdf-44a2-a5ba-ff77ee976af0",
   "metadata": {
    "editable": true,
    "slideshow": {
     "slide_type": ""
    },
    "tags": []
   },
   "outputs": [
    {
     "data": {
      "text/html": [
       "<div id=\"div-88e2\">\n",
       "  <style>\n",
       "#div-88e2 .inline, #div-88e2 .source {\n",
       "  background-color: #fff5ee;\n",
       "}\n",
       "#div-88e2 .source {\n",
       "  margin: 1em 0 0 0;\n",
       "  padding: 1em;\n",
       "}\n",
       "#div-88e2 .hl.num {\n",
       "  color: #ff1493;\n",
       "}\n",
       "#div-88e2 .hl.sng {\n",
       "  color: #ff1493;\n",
       "}\n",
       "#div-88e2 .hl.com {\n",
       "  color: #2929cc;\n",
       "}\n",
       "#div-88e2 .hl.opt {\n",
       "  color: #676767;\n",
       "}\n",
       "#div-88e2 .hl.def {\n",
       "  color: #000000;\n",
       "}\n",
       "#div-88e2 .hl.kwa {\n",
       "  color: #2e8b57;\n",
       "  font-weight: bold;\n",
       "}\n",
       "#div-88e2 .hl.kwb {\n",
       "  color: #2e8b57;\n",
       "  font-weight: bold;\n",
       "}\n",
       "#div-88e2 .hl.kwc {\n",
       "  color: #696969;\n",
       "  font-weight: bold;\n",
       "}\n",
       "#div-88e2 .hl.kwd {\n",
       "  color: #00008f;\n",
       "}\n",
       "</style>\n",
       "  <pre><div class=\"source\"><span class=\"hl com\">#</span>\n",
       "<span class=\"hl com\"># File:  /home/dnlennon/Workspace/repos/metayer/tests/testthat/fixtures/display_source/foo.r</span>\n",
       "<span class=\"hl com\">#</span>\n",
       "\n",
       "<span class=\"hl def\">foo</span> <span class=\"hl kwb\">&lt;-</span> <span class=\"hl kwa\">function</span><span class=\"hl def\">() {}</span>\n",
       "  \n",
       "</div></pre>\n",
       "</div>"
      ]
     },
     "metadata": {},
     "output_type": "display_data"
    }
   ],
   "source": [
    "display_source(\"./tests/testthat/fixtures/display_source/foo.r\")"
   ]
  },
  {
   "cell_type": "markdown",
   "id": "bfbacbba-0771-4756-bcc5-0f7cb585a073",
   "metadata": {
    "editable": true,
    "slideshow": {
     "slide_type": ""
    },
    "tags": []
   },
   "source": [
    "`display_source` can also take a directory path:"
   ]
  },
  {
   "cell_type": "code",
   "execution_count": 20,
   "id": "b8405acd-4a03-47bf-88f5-40f12bb1c887",
   "metadata": {
    "editable": true,
    "slideshow": {
     "slide_type": ""
    },
    "tags": []
   },
   "outputs": [
    {
     "data": {
      "text/html": [
       "<div id=\"div-9f6c\">\n",
       "  <style>\n",
       "#div-9f6c .inline, #div-9f6c .source {\n",
       "  background-color: #fff5ee;\n",
       "}\n",
       "#div-9f6c .source {\n",
       "  margin: 1em 0 0 0;\n",
       "  padding: 1em;\n",
       "}\n",
       "#div-9f6c .hl.num {\n",
       "  color: #ff1493;\n",
       "}\n",
       "#div-9f6c .hl.sng {\n",
       "  color: #ff1493;\n",
       "}\n",
       "#div-9f6c .hl.com {\n",
       "  color: #2929cc;\n",
       "}\n",
       "#div-9f6c .hl.opt {\n",
       "  color: #676767;\n",
       "}\n",
       "#div-9f6c .hl.def {\n",
       "  color: #000000;\n",
       "}\n",
       "#div-9f6c .hl.kwa {\n",
       "  color: #2e8b57;\n",
       "  font-weight: bold;\n",
       "}\n",
       "#div-9f6c .hl.kwb {\n",
       "  color: #2e8b57;\n",
       "  font-weight: bold;\n",
       "}\n",
       "#div-9f6c .hl.kwc {\n",
       "  color: #696969;\n",
       "  font-weight: bold;\n",
       "}\n",
       "#div-9f6c .hl.kwd {\n",
       "  color: #00008f;\n",
       "}\n",
       "</style>\n",
       "  <pre><div class=\"source\"><span class=\"hl com\">#</span>\n",
       "<span class=\"hl com\"># File:  /home/dnlennon/Workspace/repos/metayer/tests/testthat/fixtures/display_source/bar.R</span>\n",
       "<span class=\"hl com\">#</span>\n",
       "\n",
       "<span class=\"hl def\">bar</span> <span class=\"hl kwb\">&lt;-</span> <span class=\"hl kwa\">function</span><span class=\"hl def\">() {}</span>\n",
       "  \n",
       "</div></pre> <pre><div class=\"source\"><span class=\"hl com\">#</span>\n",
       "<span class=\"hl com\"># File:  /home/dnlennon/Workspace/repos/metayer/tests/testthat/fixtures/display_source/foo.r</span>\n",
       "<span class=\"hl com\">#</span>\n",
       "\n",
       "<span class=\"hl def\">foo</span> <span class=\"hl kwb\">&lt;-</span> <span class=\"hl kwa\">function</span><span class=\"hl def\">() {}</span>\n",
       "  \n",
       "</div></pre>\n",
       "</div>"
      ]
     },
     "metadata": {},
     "output_type": "display_data"
    }
   ],
   "source": [
    "display_source(\"./tests/testthat/fixtures/display_source\")"
   ]
  },
  {
   "cell_type": "markdown",
   "id": "d4b926ca-ab37-4d14-bb24-f5e00bc051b5",
   "metadata": {
    "editable": true,
    "slideshow": {
     "slide_type": ""
    },
    "tags": []
   },
   "source": [
    "### highlight theme\n",
    "\n",
    "Changing the knitr theme is accomplished by providing a `theme` argument.  Refer to [http://animation.r-forge.r-project.org/knitr/](http://animation.r-forge.r-project.org/knitr/) for an exhaustive list of themes."
   ]
  },
  {
   "cell_type": "code",
   "execution_count": 21,
   "id": "5fbc239f-0d1d-47b0-a238-42b2a5481078",
   "metadata": {},
   "outputs": [
    {
     "data": {
      "text/html": [
       "<div id=\"div-c204\">\n",
       "  <style>\n",
       "#div-c204 .inline, #div-c204 .source {\n",
       "  background-color: #000000;\n",
       "}\n",
       "#div-c204 .source {\n",
       "  margin: 1em 0 0 0;\n",
       "  padding: 1em;\n",
       "}\n",
       "#div-c204 .hl.num {\n",
       "  color: #00ffff;\n",
       "}\n",
       "#div-c204 .hl.sng {\n",
       "  color: #00ffff;\n",
       "}\n",
       "#div-c204 .hl.com {\n",
       "  color: #808080;\n",
       "}\n",
       "#div-c204 .hl.opt {\n",
       "  color: #ff0000;\n",
       "}\n",
       "#div-c204 .hl.def {\n",
       "  color: #ffffff;\n",
       "}\n",
       "#div-c204 .hl.kwa {\n",
       "  color: #c0c000;\n",
       "  font-weight: bold;\n",
       "}\n",
       "#div-c204 .hl.kwb {\n",
       "  color: #00c000;\n",
       "  font-weight: bold;\n",
       "}\n",
       "#div-c204 .hl.kwc {\n",
       "  color: #3939bf;\n",
       "  font-weight: bold;\n",
       "}\n",
       "#div-c204 .hl.kwd {\n",
       "  color: #21ffc0;\n",
       "}\n",
       "</style>\n",
       "  <pre><div class=\"source\"><span class=\"hl com\">#</span>\n",
       "<span class=\"hl com\"># File:  /home/dnlennon/Workspace/repos/metayer/tests/testthat/fixtures/display_source/foo.r</span>\n",
       "<span class=\"hl com\">#</span>\n",
       "\n",
       "<span class=\"hl def\">foo</span> <span class=\"hl kwb\">&lt;-</span> <span class=\"hl kwa\">function</span><span class=\"hl def\">() {}</span>\n",
       "  \n",
       "</div></pre>\n",
       "</div>"
      ]
     },
     "metadata": {},
     "output_type": "display_data"
    }
   ],
   "source": [
    "display_source(\"./tests/testthat/fixtures/display_source/foo.r\", theme = \"pablo\")"
   ]
  },
  {
   "cell_type": "markdown",
   "id": "12ff0d86-2e63-47b7-8502-db0e1c6baff0",
   "metadata": {
    "editable": true,
    "slideshow": {
     "slide_type": ""
    },
    "tags": []
   },
   "source": [
    "### programmatically highlight code\n",
    "\n",
    "It's also possible to provide code directly to `display_source` by setting `raw` to TRUE:"
   ]
  },
  {
   "cell_type": "code",
   "execution_count": 22,
   "id": "f726336a-0899-44ad-b3a2-3cf41423678c",
   "metadata": {},
   "outputs": [
    {
     "data": {
      "text/html": [
       "<div id=\"div-5c7a\">\n",
       "  <style>\n",
       "#div-5c7a .inline, #div-5c7a .source {\n",
       "  background-color: #fff5ee;\n",
       "}\n",
       "#div-5c7a .source {\n",
       "  margin: 1em 0 0 0;\n",
       "  padding: 1em;\n",
       "}\n",
       "#div-5c7a .hl.num {\n",
       "  color: #ff1493;\n",
       "}\n",
       "#div-5c7a .hl.sng {\n",
       "  color: #ff1493;\n",
       "}\n",
       "#div-5c7a .hl.com {\n",
       "  color: #2929cc;\n",
       "}\n",
       "#div-5c7a .hl.opt {\n",
       "  color: #676767;\n",
       "}\n",
       "#div-5c7a .hl.def {\n",
       "  color: #000000;\n",
       "}\n",
       "#div-5c7a .hl.kwa {\n",
       "  color: #2e8b57;\n",
       "  font-weight: bold;\n",
       "}\n",
       "#div-5c7a .hl.kwb {\n",
       "  color: #2e8b57;\n",
       "  font-weight: bold;\n",
       "}\n",
       "#div-5c7a .hl.kwc {\n",
       "  color: #696969;\n",
       "  font-weight: bold;\n",
       "}\n",
       "#div-5c7a .hl.kwd {\n",
       "  color: #00008f;\n",
       "}\n",
       "</style>\n",
       "  <pre><div class=\"source\"><span class=\"hl def\">foo</span> <span class=\"hl kwb\">&lt;-</span> <span class=\"hl kwa\">function</span><span class=\"hl def\">() {}</span></div></pre>\n",
       "</div>"
      ]
     },
     "metadata": {},
     "output_type": "display_data"
    }
   ],
   "source": [
    "here::here(\"./tests/testthat/fixtures/display_source/foo.r\") %>%\n",
    "  xfun::file_string() %>%\n",
    "  display_source(raw = TRUE)"
   ]
  },
  {
   "cell_type": "markdown",
   "id": "22767a31-56fb-493e-a687-fc1d4e577cc1",
   "metadata": {
    "editable": true,
    "slideshow": {
     "slide_type": ""
    },
    "tags": []
   },
   "source": [
    "## building vignettes\n",
    "\n",
    "Store jupyter notebooks in the ./vignettes directory.  Then, supposing a vignette named \"my_vignette.ipynb\" exists, creating the corresponding vignette is simple:"
   ]
  },
  {
   "cell_type": "markdown",
   "id": "1cf0d261-68a3-4e8a-909d-86139030cd78",
   "metadata": {},
   "source": [
    "```R\n",
    "build_vignette( \"my_vignette.ipynb\" )\n",
    "```"
   ]
  },
  {
   "cell_type": "code",
   "execution_count": null,
   "id": "5d02b217-d3b0-4343-8811-b00ea2c6d8f2",
   "metadata": {},
   "outputs": [],
   "source": []
  }
 ],
 "metadata": {
  "kernelspec": {
   "display_name": "R",
   "language": "R",
   "name": "ir"
  },
  "language_info": {
   "codemirror_mode": "r",
   "file_extension": ".r",
   "mimetype": "text/x-r-source",
   "name": "R",
   "pygments_lexer": "r",
   "version": "4.4.0"
  }
 },
 "nbformat": 4,
 "nbformat_minor": 5
}
