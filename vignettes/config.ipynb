{
 "cells": [
  {
   "cell_type": "raw",
   "id": "fc1a5fb7-7fd9-49e3-ba25-fda4df90ec99",
   "metadata": {},
   "source": [
    "---\n",
    "title: \"config\"\n",
    "\n",
    "all_doc: &shared\n",
    "  pandoc_args: \n",
    "    - !with_env \"--resource-path={R_HERE_HERE}/vignettes\"\n",
    "\n",
    "output:\n",
    "  html_document:\n",
    "    <<: *shared\n",
    "    theme: cerulean\n",
    "    highlight: espresso\n",
    "  pdf_document:\n",
    "    <<: *shared\n",
    "---"
   ]
  },
  {
   "cell_type": "markdown",
   "id": "5d419435-67be-4741-9f8d-697750548eb3",
   "metadata": {},
   "source": [
    "Much of metayer's behavior is configurable.  We use a variant of the `config::get` paradigm that allows us to leverage YAML references.  Here is our current config.yml file.  It's arranged in three parts:  default, testing, and jupyter."
   ]
  },
  {
   "cell_type": "markdown",
   "id": "a9ab6744-2f01-48eb-8f39-63f06a8dfc92",
   "metadata": {},
   "source": [
    "\n",
    "```yaml\n",
    "default: &default\n",
    "  logger: &default_logger\n",
    "    format: \"{pid}|{ns}|{level}|{format(time, \\\"%Y-%m-%d %H:%M:%S\\\")}|{msg}\"\n",
    "    logfile: \"{home}/.local/share/r-devel/project.log\"\n",
    "    secondary_appender: !optenv logger::appender_console\n",
    "    threshold: DEBUG\n",
    "\n",
    "  options:\n",
    "    cli.default_handler: !optenv cli_nullity_handler\n",
    "    mty.cli_null: \"<null>\"\n",
    "\n",
    "    # with_grdev defaults\n",
    "    mty.fig.width: 7\n",
    "    mty.fig.height: 7\n",
    "    mty.fig.res: 96\n",
    "    mty.fig.units: \"in\"\n",
    "\n",
    "testing:\n",
    "  <<: *default\n",
    "\n",
    "  logger: \n",
    "    format: \"{ns} {level} {msg}\"\n",
    "    logfile: \"{home}/.local/share/r-devel/testing.log\"\n",
    "    secondary_appender: !optenv logger::appender_console\n",
    "    threshold: INFO\n",
    "\n",
    "  options:\n",
    "    cli.default_handler: !optenv cli_nullity_handler\n",
    "    mty.cli_null: \"<null>\"\n",
    "\n",
    "    cli.ansi: FALSE\n",
    "    cli.unicode: FALSE\n",
    "    cli.num_colors: 1\n",
    "    cli.condition_unicode_bullets: FALSE\n",
    "\n",
    "    # reproducible, uuid-like values are useful for testing\n",
    "    uuid.generator: !optenv test_mty_uuid\n",
    "    uuid.salt: 12345\n",
    "\n",
    "\n",
    "jupyter:\n",
    "  <<: *default\n",
    "\n",
    "  logger:\n",
    "    <<: *default_logger\n",
    "    format: \"[{pid}/{level}/{ns}] {msg}\"\n",
    "    threshold: DEBUG\n",
    "    secondary_appender: !optenv appender_jupyter\n",
    "```\n"
   ]
  },
  {
   "cell_type": "code",
   "execution_count": null,
   "id": "1be9b0b9-c169-4365-b11c-5ee5f74322ba",
   "metadata": {},
   "outputs": [],
   "source": []
  }
 ],
 "metadata": {
  "kernelspec": {
   "display_name": "R",
   "language": "R",
   "name": "ir"
  },
  "language_info": {
   "codemirror_mode": "r",
   "file_extension": ".r",
   "mimetype": "text/x-r-source",
   "name": "R",
   "pygments_lexer": "r",
   "version": "4.4.0"
  }
 },
 "nbformat": 4,
 "nbformat_minor": 5
}
