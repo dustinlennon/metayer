{
 "cells": [
  {
   "cell_type": "raw",
   "id": "01e106f3-0ee2-4c68-b7f1-f8bb4e500641",
   "metadata": {},
   "source": [
    "---\n",
    "title: \"miscellanea\"\n",
    "---"
   ]
  },
  {
   "cell_type": "markdown",
   "id": "d8677eae-ab47-4d39-937b-5b8fa7c3d3e9",
   "metadata": {},
   "source": [
    "Metayer contains useful utility methods:\n",
    "\n",
    "## env\n"
   ]
  },
  {
   "cell_type": "code",
   "execution_count": 2,
   "id": "434372a4-82e1-4f3c-ad33-4364ee8a2097",
   "metadata": {},
   "outputs": [
    {
     "data": {
      "text/plain": [
       " [[1]] $ <env: global>\n",
       " [[2]] $ <env: devtools_shims>\n",
       " [[3]] $ <env: package:metayer>\n",
       " [[4]] $ <env: package:testthat>\n",
       " [[5]] $ <env: jupyter:irkernel>\n",
       " [[6]] $ <env: package:stats>\n",
       " [[7]] $ <env: package:graphics>\n",
       " [[8]] $ <env: package:grDevices>\n",
       " [[9]] $ <env: package:utils>\n",
       "[[10]] $ <env: package:datasets>\n",
       "[[11]] $ <env: package:methods>\n",
       "[[12]] $ <env: Autoloads>\n",
       "[[13]] $ <env: package:base>\n",
       "[[14]] $ <env: empty>"
      ]
     },
     "metadata": {},
     "output_type": "display_data"
    }
   ],
   "source": [
    "## env_stack - inspect a chain of environments\n",
    "env_stack(global_env())"
   ]
  },
  {
   "cell_type": "code",
   "execution_count": 3,
   "id": "b732153c-7f47-4775-bed0-2d9739e9f3d1",
   "metadata": {},
   "outputs": [
    {
     "data": {
      "text/plain": [
       "[[1]] $ <env: wrapped-0x57c7193dff20>\n",
       "[[2]] $ <env: namespace:metayer>\n",
       "[[3]] $ <env: imports:metayer>\n",
       "[[4]] $ <env: namespace:base>\n",
       "[[5]] $ <env: global>"
      ]
     },
     "metadata": {},
     "output_type": "display_data"
    }
   ],
   "source": [
    "## env_stack - also works for function execution stacks / dynamic scoping\n",
    "env_stack(cli_alert, last = global_env())"
   ]
  },
  {
   "cell_type": "code",
   "execution_count": 4,
   "id": "283572c4-3736-4915-ae19-3a91a246673c",
   "metadata": {},
   "outputs": [
    {
     "data": {
      "text/plain": [
       "[[1]] $ <env: fooenv>\n",
       "[[2]] $ <env: empty>"
      ]
     },
     "metadata": {},
     "output_type": "display_data"
    }
   ],
   "source": [
    "## env_rename - create an environment and give it a useful name\n",
    "env_rename(new_environment(), \"fooenv\") %>%\n",
    "  env_stack()"
   ]
  },
  {
   "cell_type": "markdown",
   "id": "5204e81d-6ed8-481f-b792-e537a35f6633",
   "metadata": {},
   "source": [
    "## cli"
   ]
  },
  {
   "cell_type": "code",
   "execution_count": 5,
   "id": "92e42f56-27d1-484b-9e89-67731cdeaa47",
   "metadata": {},
   "outputs": [
    {
     "data": {
      "application/vnd.jupyter.stderr": "[INFO/global] > aborting in 3 seconds: <null>"
     },
     "metadata": {},
     "output_type": "display_data"
    },
    {
     "data": {
      "text/html": [
       "'&gt; aborting in 3 seconds: &lt;null&gt;\\n'"
      ],
      "text/latex": [
       "'> aborting in 3 seconds: <null>\\textbackslash{}n'"
      ],
      "text/markdown": [
       "'&gt; aborting in 3 seconds: &lt;null&gt;\\n'"
      ],
      "text/plain": [
       "[1] \"> aborting in 3 seconds: <null>\\n\""
      ]
     },
     "metadata": {},
     "output_type": "display_data"
    }
   ],
   "source": [
    "## recover a message from a cli_message\n",
    "\n",
    "seconds = 3\n",
    "tryCatch(\n",
    "  cli_alert(\"aborting in {seconds} seconds: {NULL}\"),\n",
    "  message = function(msg) {\n",
    "    conditionMessage(msg)\n",
    "  }\n",
    ")"
   ]
  },
  {
   "cell_type": "markdown",
   "id": "c834455e-7b08-4d9f-9dee-b179e2d51d71",
   "metadata": {},
   "source": [
    "## other"
   ]
  },
  {
   "cell_type": "code",
   "execution_count": 6,
   "id": "f369c0e6-ce21-4673-9820-264627126bbf",
   "metadata": {},
   "outputs": [
    {
     "data": {
      "text/html": [
       "<dl>\n",
       "\t<dt>$a</dt>\n",
       "\t\t<dd>1</dd>\n",
       "\t<dt>$b</dt>\n",
       "\t\t<dd><dl>\n",
       "\t<dt>$b1</dt>\n",
       "\t\t<dd>4</dd>\n",
       "\t<dt>$b2</dt>\n",
       "\t\t<dd>6</dd>\n",
       "</dl>\n",
       "</dd>\n",
       "\t<dt>$c</dt>\n",
       "\t\t<dd>8</dd>\n",
       "</dl>\n"
      ],
      "text/latex": [
       "\\begin{description}\n",
       "\\item[\\$a] 1\n",
       "\\item[\\$b] \\begin{description}\n",
       "\\item[\\$b1] 4\n",
       "\\item[\\$b2] 6\n",
       "\\end{description}\n",
       "\n",
       "\\item[\\$c] 8\n",
       "\\end{description}\n"
      ],
      "text/markdown": [
       "$a\n",
       ":   1\n",
       "$b\n",
       ":   $b1\n",
       ":   4\n",
       "$b2\n",
       ":   6\n",
       "\n",
       "\n",
       "\n",
       "$c\n",
       ":   8\n",
       "\n",
       "\n"
      ],
      "text/plain": [
       "$a\n",
       "[1] 1\n",
       "\n",
       "$b\n",
       "$b$b1\n",
       "[1] 4\n",
       "\n",
       "$b$b2\n",
       "[1] 6\n",
       "\n",
       "\n",
       "$c\n",
       "[1] 8\n"
      ]
     },
     "metadata": {},
     "output_type": "display_data"
    }
   ],
   "source": [
    "## update_list - recursive update of lists; the second list replaces any \n",
    "## item that it shared with the first list\n",
    "original <- list(a = 1, b = list(b1 = 4, b2 = 5), c = 3)\n",
    "refresh <- list(b = list(b2 = 6), c = 8)\n",
    "update_list(original, refresh)"
   ]
  },
  {
   "cell_type": "code",
   "execution_count": 7,
   "id": "f1c62d42-a9b1-4179-89e1-6de26b453e7d",
   "metadata": {},
   "outputs": [
    {
     "data": {
      "text/html": [
       "'d5ca88e6-6c053-39b1e-e61fe-e3591b5ed9295'"
      ],
      "text/latex": [
       "'d5ca88e6-6c053-39b1e-e61fe-e3591b5ed9295'"
      ],
      "text/markdown": [
       "'d5ca88e6-6c053-39b1e-e61fe-e3591b5ed9295'"
      ],
      "text/plain": [
       "[1] \"d5ca88e6-6c053-39b1e-e61fe-e3591b5ed9295\""
      ]
     },
     "metadata": {},
     "output_type": "display_data"
    }
   ],
   "source": [
    "## mty_uuid - get a uuid\n",
    "mty_uuid()"
   ]
  },
  {
   "cell_type": "code",
   "execution_count": 8,
   "id": "a11dbd86-1c5a-4f6b-8562-1235007f73b7",
   "metadata": {},
   "outputs": [
    {
     "data": {
      "text/html": [
       "'615618d7-736be-e2d97-7e23a-a492cd8334ab3'"
      ],
      "text/latex": [
       "'615618d7-736be-e2d97-7e23a-a492cd8334ab3'"
      ],
      "text/markdown": [
       "'615618d7-736be-e2d97-7e23a-a492cd8334ab3'"
      ],
      "text/plain": [
       "[1] \"615618d7-736be-e2d97-7e23a-a492cd8334ab3\""
      ]
     },
     "metadata": {},
     "output_type": "display_data"
    }
   ],
   "source": [
    "## mty_uuid - use the uuid.generator and uuid.salt options to get reproducible behavior\n",
    "uuid <- function(salt = NULL) {\n",
    "  withr::with_options(\n",
    "    list(\n",
    "      uuid.generator = test_mty_uuid\n",
    "    ),\n",
    "    {\n",
    "      mty_uuid(salt)\n",
    "    }\n",
    "  )\n",
    "}\n",
    "\n",
    "u1 <- uuid(12345)\n",
    "u2 <- uuid()\n",
    "u3 <- uuid()\n",
    "\n",
    "u4 <- uuid(12345)\n",
    "u5 <- uuid()\n",
    "\n",
    "# check that reseeding restarts the sequence\n",
    "stopifnot(identical(u1, u4))\n",
    "stopifnot(identical(u2, u5))\n",
    "u1"
   ]
  },
  {
   "cell_type": "markdown",
   "id": "f4096fdf-febf-430e-85e3-d6a211e507e0",
   "metadata": {},
   "source": [
    "## rm.all \n",
    "\n",
    "Remove everything not on the whitelist; including dotted variables, e.g. \".storage\"."
   ]
  },
  {
   "cell_type": "code",
   "execution_count": 9,
   "id": "0385aa50-6e89-4bd2-ade1-ef81bec91884",
   "metadata": {},
   "outputs": [
    {
     "data": {
      "text/html": [
       "<style>\n",
       ".list-inline {list-style: none; margin:0; padding: 0}\n",
       ".list-inline>li {display: inline-block}\n",
       ".list-inline>li:not(:last-child)::after {content: \"\\00b7\"; padding: 0 .5ex}\n",
       "</style>\n",
       "<ol class=list-inline><li>'.pbd_env'</li><li>'.Random.seed'</li><li>'original'</li><li>'pcd'</li><li>'refresh'</li><li>'seconds'</li><li>'u1'</li><li>'u2'</li><li>'u3'</li><li>'u4'</li><li>'u5'</li><li>'uuid'</li><li>'workflow'</li></ol>\n"
      ],
      "text/latex": [
       "\\begin{enumerate*}\n",
       "\\item '.pbd\\_env'\n",
       "\\item '.Random.seed'\n",
       "\\item 'original'\n",
       "\\item 'pcd'\n",
       "\\item 'refresh'\n",
       "\\item 'seconds'\n",
       "\\item 'u1'\n",
       "\\item 'u2'\n",
       "\\item 'u3'\n",
       "\\item 'u4'\n",
       "\\item 'u5'\n",
       "\\item 'uuid'\n",
       "\\item 'workflow'\n",
       "\\end{enumerate*}\n"
      ],
      "text/markdown": [
       "1. '.pbd_env'\n",
       "2. '.Random.seed'\n",
       "3. 'original'\n",
       "4. 'pcd'\n",
       "5. 'refresh'\n",
       "6. 'seconds'\n",
       "7. 'u1'\n",
       "8. 'u2'\n",
       "9. 'u3'\n",
       "10. 'u4'\n",
       "11. 'u5'\n",
       "12. 'uuid'\n",
       "13. 'workflow'\n",
       "\n",
       "\n"
      ],
      "text/plain": [
       " [1] \".pbd_env\"     \".Random.seed\" \"original\"     \"pcd\"          \"refresh\"      \"seconds\"      \"u1\"           \"u2\"          \n",
       " [9] \"u3\"           \"u4\"           \"u5\"           \"uuid\"         \"workflow\"    "
      ]
     },
     "metadata": {},
     "output_type": "display_data"
    }
   ],
   "source": [
    "## show the variables in the global environment\n",
    "ls(all.names = TRUE)"
   ]
  },
  {
   "cell_type": "code",
   "execution_count": 10,
   "id": "857b29d6-69e3-4538-8438-028ec048b26b",
   "metadata": {},
   "outputs": [
    {
     "data": {
      "text/html": [
       "<style>\n",
       ".list-inline {list-style: none; margin:0; padding: 0}\n",
       ".list-inline>li {display: inline-block}\n",
       ".list-inline>li:not(:last-child)::after {content: \"\\00b7\"; padding: 0 .5ex}\n",
       "</style>\n",
       "<ol class=list-inline><li>'u2'</li><li>'uuid'</li></ol>\n"
      ],
      "text/latex": [
       "\\begin{enumerate*}\n",
       "\\item 'u2'\n",
       "\\item 'uuid'\n",
       "\\end{enumerate*}\n"
      ],
      "text/markdown": [
       "1. 'u2'\n",
       "2. 'uuid'\n",
       "\n",
       "\n"
      ],
      "text/plain": [
       "[1] \"u2\"   \"uuid\""
      ]
     },
     "metadata": {},
     "output_type": "display_data"
    }
   ],
   "source": [
    "## rm.all - everything but 'u2' and 'uuid'\n",
    "rm.all(exclusions = c(\"u2\", \"uuid\"))\n",
    "ls(all.names = TRUE)"
   ]
  },
  {
   "cell_type": "code",
   "execution_count": null,
   "id": "75cc0fd8-39a1-4056-b7c6-cb839b2c64cf",
   "metadata": {},
   "outputs": [],
   "source": []
  }
 ],
 "metadata": {
  "kernelspec": {
   "display_name": "R",
   "language": "R",
   "name": "ir"
  },
  "language_info": {
   "codemirror_mode": "r",
   "file_extension": ".r",
   "mimetype": "text/x-r-source",
   "name": "R",
   "pygments_lexer": "r",
   "version": "4.4.0"
  }
 },
 "nbformat": 4,
 "nbformat_minor": 5
}
