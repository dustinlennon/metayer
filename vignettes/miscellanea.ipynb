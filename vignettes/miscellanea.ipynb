{
 "cells": [
  {
   "cell_type": "raw",
   "id": "01e106f3-0ee2-4c68-b7f1-f8bb4e500641",
   "metadata": {},
   "source": [
    "---\n",
    "title: \"miscellanea\"\n",
    "output:\n",
    "  html_document:\n",
    "    theme: cerulean\n",
    "    highlight: espresso\n",
    "---"
   ]
  },
  {
   "cell_type": "markdown",
   "id": "f272158d-1ffb-47c5-aee6-e3b825124cfe",
   "metadata": {},
   "source": [
    "First things first.  Load the package."
   ]
  },
  {
   "cell_type": "code",
   "execution_count": 2,
   "id": "60d4bc09-6c91-4d85-8c1f-78e084bbbe6c",
   "metadata": {},
   "outputs": [],
   "source": [
    "Sys.setenv(R_CONFIG_ACTIVE = \"jupyter\")\n",
    "suppressMessages({\n",
    "  devtools::load_all()\n",
    "  data(pcd)\n",
    "})"
   ]
  },
  {
   "cell_type": "markdown",
   "id": "d8677eae-ab47-4d39-937b-5b8fa7c3d3e9",
   "metadata": {},
   "source": [
    "Metayer contains useful utility methods:\n",
    "\n",
    "## env\n"
   ]
  },
  {
   "cell_type": "code",
   "execution_count": 4,
   "id": "434372a4-82e1-4f3c-ad33-4364ee8a2097",
   "metadata": {},
   "outputs": [
    {
     "data": {
      "text/plain": [
       " [[1]] $ <env: global>\n",
       " [[2]] $ <env: devtools_shims>\n",
       " [[3]] $ <env: package:metayer>\n",
       " [[4]] $ <env: package:testthat>\n",
       " [[5]] $ <env: jupyter:irkernel>\n",
       " [[6]] $ <env: package:stats>\n",
       " [[7]] $ <env: package:graphics>\n",
       " [[8]] $ <env: package:grDevices>\n",
       " [[9]] $ <env: package:utils>\n",
       "[[10]] $ <env: package:datasets>\n",
       "[[11]] $ <env: package:methods>\n",
       "[[12]] $ <env: Autoloads>\n",
       "[[13]] $ <env: package:base>\n",
       "[[14]] $ <env: empty>"
      ]
     },
     "metadata": {},
     "output_type": "display_data"
    }
   ],
   "source": [
    "## env_stack - inspect the chain of environments\n",
    "env_stack(global_env())"
   ]
  },
  {
   "cell_type": "code",
   "execution_count": 10,
   "id": "b732153c-7f47-4775-bed0-2d9739e9f3d1",
   "metadata": {},
   "outputs": [
    {
     "data": {
      "text/plain": [
       "[[1]] $ <env: wrapped-0x557ba3c06700>\n",
       "[[2]] $ <env: namespace:metayer>\n",
       "[[3]] $ <env: imports:metayer>\n",
       "[[4]] $ <env: namespace:base>\n",
       "[[5]] $ <env: global>"
      ]
     },
     "metadata": {},
     "output_type": "display_data"
    }
   ],
   "source": [
    "## env_stack - also works for function execution stacks / dynamic scoping\n",
    "env_stack(cli_alert, last = global_env())"
   ]
  },
  {
   "cell_type": "code",
   "execution_count": 11,
   "id": "283572c4-3736-4915-ae19-3a91a246673c",
   "metadata": {},
   "outputs": [
    {
     "data": {
      "text/plain": [
       "[[1]] $ <env: fooenv>\n",
       "[[2]] $ <env: empty>"
      ]
     },
     "metadata": {},
     "output_type": "display_data"
    }
   ],
   "source": [
    "## env_rename - create an environment and give it a useful name\n",
    "env_rename(new_environment(), \"fooenv\") %>%\n",
    "  env_stack()"
   ]
  },
  {
   "cell_type": "markdown",
   "id": "5204e81d-6ed8-481f-b792-e537a35f6633",
   "metadata": {},
   "source": [
    "## cli"
   ]
  },
  {
   "cell_type": "code",
   "execution_count": 23,
   "id": "92e42f56-27d1-484b-9e89-67731cdeaa47",
   "metadata": {},
   "outputs": [
    {
     "data": {
      "text/html": [
       "'&gt; aborting in 3 seconds: &lt;null&gt;\\n'"
      ],
      "text/latex": [
       "'> aborting in 3 seconds: <null>\\textbackslash{}n'"
      ],
      "text/markdown": [
       "'&gt; aborting in 3 seconds: &lt;null&gt;\\n'"
      ],
      "text/plain": [
       "[1] \"> aborting in 3 seconds: <null>\\n\""
      ]
     },
     "metadata": {},
     "output_type": "display_data"
    }
   ],
   "source": [
    "## capture_cli_message - recover a message from a cli_message\n",
    "\n",
    "seconds = 3\n",
    "cnd <- cli_alert(\"aborting in {seconds} seconds: {NULL}\") %>%\n",
    "  catch_cnd()\n",
    "\n",
    "capture_cli_message(cnd)"
   ]
  },
  {
   "cell_type": "markdown",
   "id": "c834455e-7b08-4d9f-9dee-b179e2d51d71",
   "metadata": {},
   "source": [
    "## other"
   ]
  },
  {
   "cell_type": "code",
   "execution_count": 27,
   "id": "f369c0e6-ce21-4673-9820-264627126bbf",
   "metadata": {},
   "outputs": [
    {
     "data": {
      "text/html": [
       "<dl>\n",
       "\t<dt>$a</dt>\n",
       "\t\t<dd>1</dd>\n",
       "\t<dt>$b</dt>\n",
       "\t\t<dd><dl>\n",
       "\t<dt>$b1</dt>\n",
       "\t\t<dd>4</dd>\n",
       "\t<dt>$b2</dt>\n",
       "\t\t<dd>6</dd>\n",
       "</dl>\n",
       "</dd>\n",
       "\t<dt>$c</dt>\n",
       "\t\t<dd>3</dd>\n",
       "\t<dt>$d</dt>\n",
       "\t\t<dd>8</dd>\n",
       "</dl>\n"
      ],
      "text/latex": [
       "\\begin{description}\n",
       "\\item[\\$a] 1\n",
       "\\item[\\$b] \\begin{description}\n",
       "\\item[\\$b1] 4\n",
       "\\item[\\$b2] 6\n",
       "\\end{description}\n",
       "\n",
       "\\item[\\$c] 3\n",
       "\\item[\\$d] 8\n",
       "\\end{description}\n"
      ],
      "text/markdown": [
       "$a\n",
       ":   1\n",
       "$b\n",
       ":   $b1\n",
       ":   4\n",
       "$b2\n",
       ":   6\n",
       "\n",
       "\n",
       "\n",
       "$c\n",
       ":   3\n",
       "$d\n",
       ":   8\n",
       "\n",
       "\n"
      ],
      "text/plain": [
       "$a\n",
       "[1] 1\n",
       "\n",
       "$b\n",
       "$b$b1\n",
       "[1] 4\n",
       "\n",
       "$b$b2\n",
       "[1] 6\n",
       "\n",
       "\n",
       "$c\n",
       "[1] 3\n",
       "\n",
       "$d\n",
       "[1] 8\n"
      ]
     },
     "metadata": {},
     "output_type": "display_data"
    }
   ],
   "source": [
    "## update_list - recursive update of lists; the second list replaces items in common with the first list\n",
    "l1 <- list(a = 1, b = list(b1 = 4, b2 = 5), c = 3, d = 4)\n",
    "l2 <- list(b = list(b2 = 6), d = 8)\n",
    "update_list(l1, l2)"
   ]
  },
  {
   "cell_type": "code",
   "execution_count": 28,
   "id": "f1c62d42-a9b1-4179-89e1-6de26b453e7d",
   "metadata": {},
   "outputs": [
    {
     "data": {
      "text/html": [
       "'46077683-2b8d-4007-813a-82ae74fe0b0b'"
      ],
      "text/latex": [
       "'46077683-2b8d-4007-813a-82ae74fe0b0b'"
      ],
      "text/markdown": [
       "'46077683-2b8d-4007-813a-82ae74fe0b0b'"
      ],
      "text/plain": [
       "[1] \"46077683-2b8d-4007-813a-82ae74fe0b0b\""
      ]
     },
     "metadata": {},
     "output_type": "display_data"
    }
   ],
   "source": [
    "## mty_uuid - get a uuid\n",
    "mty_uuid()"
   ]
  },
  {
   "cell_type": "code",
   "execution_count": 38,
   "id": "a11dbd86-1c5a-4f6b-8562-1235007f73b7",
   "metadata": {},
   "outputs": [
    {
     "data": {
      "text/html": [
       "'615618d7-736be-e2d97-7e23a-a492cd8334ab3'"
      ],
      "text/latex": [
       "'615618d7-736be-e2d97-7e23a-a492cd8334ab3'"
      ],
      "text/markdown": [
       "'615618d7-736be-e2d97-7e23a-a492cd8334ab3'"
      ],
      "text/plain": [
       "[1] \"615618d7-736be-e2d97-7e23a-a492cd8334ab3\""
      ]
     },
     "metadata": {},
     "output_type": "display_data"
    },
    {
     "data": {
      "text/html": [
       "'e5ae1581-1f1f1-1f68a-ae9a0-04d8eb7f965ed'"
      ],
      "text/latex": [
       "'e5ae1581-1f1f1-1f68a-ae9a0-04d8eb7f965ed'"
      ],
      "text/markdown": [
       "'e5ae1581-1f1f1-1f68a-ae9a0-04d8eb7f965ed'"
      ],
      "text/plain": [
       "[1] \"e5ae1581-1f1f1-1f68a-ae9a0-04d8eb7f965ed\""
      ]
     },
     "metadata": {},
     "output_type": "display_data"
    },
    {
     "data": {
      "text/html": [
       "'5e2242c2-2c1f7-728ee-e8766-606f2a5da26f7'"
      ],
      "text/latex": [
       "'5e2242c2-2c1f7-728ee-e8766-606f2a5da26f7'"
      ],
      "text/markdown": [
       "'5e2242c2-2c1f7-728ee-e8766-606f2a5da26f7'"
      ],
      "text/plain": [
       "[1] \"5e2242c2-2c1f7-728ee-e8766-606f2a5da26f7\""
      ]
     },
     "metadata": {},
     "output_type": "display_data"
    },
    {
     "data": {
      "text/html": [
       "'615618d7-736be-e2d97-7e23a-a492cd8334ab3'"
      ],
      "text/latex": [
       "'615618d7-736be-e2d97-7e23a-a492cd8334ab3'"
      ],
      "text/markdown": [
       "'615618d7-736be-e2d97-7e23a-a492cd8334ab3'"
      ],
      "text/plain": [
       "[1] \"615618d7-736be-e2d97-7e23a-a492cd8334ab3\""
      ]
     },
     "metadata": {},
     "output_type": "display_data"
    },
    {
     "data": {
      "text/html": [
       "'e5ae1581-1f1f1-1f68a-ae9a0-04d8eb7f965ed'"
      ],
      "text/latex": [
       "'e5ae1581-1f1f1-1f68a-ae9a0-04d8eb7f965ed'"
      ],
      "text/markdown": [
       "'e5ae1581-1f1f1-1f68a-ae9a0-04d8eb7f965ed'"
      ],
      "text/plain": [
       "[1] \"e5ae1581-1f1f1-1f68a-ae9a0-04d8eb7f965ed\""
      ]
     },
     "metadata": {},
     "output_type": "display_data"
    },
    {
     "data": {
      "text/html": [
       "TRUE"
      ],
      "text/latex": [
       "TRUE"
      ],
      "text/markdown": [
       "TRUE"
      ],
      "text/plain": [
       "[1] TRUE"
      ]
     },
     "metadata": {},
     "output_type": "display_data"
    },
    {
     "data": {
      "text/html": [
       "TRUE"
      ],
      "text/latex": [
       "TRUE"
      ],
      "text/markdown": [
       "TRUE"
      ],
      "text/plain": [
       "[1] TRUE"
      ]
     },
     "metadata": {},
     "output_type": "display_data"
    }
   ],
   "source": [
    "## mty_uuid - use the uuid.generator and uuid.salt options to get reproducible behavior\n",
    "uuid <- function(salt = NULL) {\n",
    "  withr::with_options(\n",
    "    list(\n",
    "      uuid.generator = test_mty_uuid\n",
    "    ),\n",
    "    {\n",
    "      mty_uuid(salt)\n",
    "    }\n",
    "  )\n",
    "}\n",
    "\n",
    "(u1 <- uuid(12345))\n",
    "(u2 <- uuid())\n",
    "(u3 <- uuid())\n",
    "\n",
    "(u4 <- uuid(12345))\n",
    "(u5 <- uuid())\n",
    "\n",
    "u1 == u4\n",
    "u2 == u5"
   ]
  },
  {
   "cell_type": "markdown",
   "id": "f4096fdf-febf-430e-85e3-d6a211e507e0",
   "metadata": {},
   "source": [
    "## rm.all - remove everything not on the whitelist; including .variables"
   ]
  },
  {
   "cell_type": "code",
   "execution_count": 41,
   "id": "0385aa50-6e89-4bd2-ade1-ef81bec91884",
   "metadata": {},
   "outputs": [
    {
     "data": {
      "text/html": [
       "<style>\n",
       ".list-inline {list-style: none; margin:0; padding: 0}\n",
       ".list-inline>li {display: inline-block}\n",
       ".list-inline>li:not(:last-child)::after {content: \"\\00b7\"; padding: 0 .5ex}\n",
       "</style>\n",
       "<ol class=list-inline><li>'.pbd_env'</li><li>'.Random.seed'</li><li>'pcd'</li><li>'u1'</li><li>'u2'</li><li>'u3'</li><li>'u4'</li><li>'u5'</li><li>'uuid'</li><li>'workflow'</li></ol>\n"
      ],
      "text/latex": [
       "\\begin{enumerate*}\n",
       "\\item '.pbd\\_env'\n",
       "\\item '.Random.seed'\n",
       "\\item 'pcd'\n",
       "\\item 'u1'\n",
       "\\item 'u2'\n",
       "\\item 'u3'\n",
       "\\item 'u4'\n",
       "\\item 'u5'\n",
       "\\item 'uuid'\n",
       "\\item 'workflow'\n",
       "\\end{enumerate*}\n"
      ],
      "text/markdown": [
       "1. '.pbd_env'\n",
       "2. '.Random.seed'\n",
       "3. 'pcd'\n",
       "4. 'u1'\n",
       "5. 'u2'\n",
       "6. 'u3'\n",
       "7. 'u4'\n",
       "8. 'u5'\n",
       "9. 'uuid'\n",
       "10. 'workflow'\n",
       "\n",
       "\n"
      ],
      "text/plain": [
       " [1] \".pbd_env\"     \".Random.seed\" \"pcd\"          \"u1\"           \"u2\"           \"u3\"           \"u4\"           \"u5\"          \n",
       " [9] \"uuid\"         \"workflow\"    "
      ]
     },
     "metadata": {},
     "output_type": "display_data"
    }
   ],
   "source": [
    "## show the variables in the global environment\n",
    "ls(all.names = TRUE)"
   ]
  },
  {
   "cell_type": "code",
   "execution_count": 43,
   "id": "857b29d6-69e3-4538-8438-028ec048b26b",
   "metadata": {},
   "outputs": [
    {
     "data": {
      "text/html": [
       "<style>\n",
       ".list-inline {list-style: none; margin:0; padding: 0}\n",
       ".list-inline>li {display: inline-block}\n",
       ".list-inline>li:not(:last-child)::after {content: \"\\00b7\"; padding: 0 .5ex}\n",
       "</style>\n",
       "<ol class=list-inline><li>'u2'</li><li>'uuid'</li><li>'workflow'</li></ol>\n"
      ],
      "text/latex": [
       "\\begin{enumerate*}\n",
       "\\item 'u2'\n",
       "\\item 'uuid'\n",
       "\\item 'workflow'\n",
       "\\end{enumerate*}\n"
      ],
      "text/markdown": [
       "1. 'u2'\n",
       "2. 'uuid'\n",
       "3. 'workflow'\n",
       "\n",
       "\n"
      ],
      "text/plain": [
       "[1] \"u2\"       \"uuid\"     \"workflow\""
      ]
     },
     "metadata": {},
     "output_type": "display_data"
    }
   ],
   "source": [
    "## rm.all - everything but 'u2', 'uuid', and 'workflow'; N.B., workflow is a development artifact hard-coded into the exclusion list\n",
    "rm.all(exclusions = c(\"u2\", \"uuid\"))\n",
    "ls(all.names = TRUE)"
   ]
  }
 ],
 "metadata": {
  "kernelspec": {
   "display_name": "R",
   "language": "R",
   "name": "ir"
  },
  "language_info": {
   "codemirror_mode": "r",
   "file_extension": ".r",
   "mimetype": "text/x-r-source",
   "name": "R",
   "pygments_lexer": "r",
   "version": "4.4.0"
  }
 },
 "nbformat": 4,
 "nbformat_minor": 5
}
