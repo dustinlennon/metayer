{
 "cells": [
  {
   "cell_type": "raw",
   "id": "3cc2e4f9-bc96-40dc-8b4f-c6fc3e6715a1",
   "metadata": {},
   "source": [
    "---\n",
    "title: \"publishing context\"\n",
    "output:\n",
    "  html_document:\n",
    "    theme: cerulean\n",
    "    highlight: espresso\n",
    "---"
   ]
  },
  {
   "cell_type": "markdown",
   "id": "8d20e87d-5168-4cc2-b144-f4460bda0604",
   "metadata": {},
   "source": [
    "First things first.  Load the package."
   ]
  },
  {
   "cell_type": "code",
   "execution_count": 2,
   "id": "77c9a91f-bd1f-4086-9762-1b257495690f",
   "metadata": {},
   "outputs": [],
   "source": [
    "Sys.setenv(R_CONFIG_ACTIVE = \"jupyter\")\n",
    "suppressMessages({\n",
    "  devtools::load_all()\n",
    "  data(pcd)\n",
    "})"
   ]
  },
  {
   "cell_type": "markdown",
   "id": "cfec3e03-eace-4913-808a-c88faddec458",
   "metadata": {},
   "source": [
    "The context in which a figure is created matters, and each context may require separate options or configuration to obtain uniform output.  `metayer::sure_plot` provides a solution:\n",
    "\n",
    "```r\n",
    "sure_plot({\n",
    "    with(pcd, plot(x,y))      \n",
    "  },\n",
    "  height = 5,\n",
    "  width = 5,\n",
    "  par_opts = list(bg = \"azure\")\n",
    ")\n",
    "```\n",
    "\n",
    "The following image gallery will give some sense of the variability and consistency.  Note that the `sure_plot` figures have the light blue background."
   ]
  },
  {
   "cell_type": "markdown",
   "id": "df719df6-3537-4af5-9430-9b757a4c0f27",
   "metadata": {},
   "source": [
    "## publishing contexts\n",
    "\n",
    "The following image gallery will give some sense of the variability and consistency.  Note that the `sure_plot` figures have the light blue background."
   ]
  },
  {
   "cell_type": "markdown",
   "id": "07fc2c14-5445-4380-879e-1c51b4301fde",
   "metadata": {},
   "source": [
    "### jupyter\n",
    "\n",
    "```r\n",
    "with(pcd, plot(x, y))\n",
    "```\n",
    "\n",
    "![](./figure/jupyter.png)\n",
    "![](./figure/sp_jupyter.png)"
   ]
  },
  {
   "cell_type": "markdown",
   "id": "a0015961-34d5-4346-9a2b-4df77cb4ac5b",
   "metadata": {},
   "source": [
    "### knitr: knit2html\n",
    "\n",
    "``` r\n",
    "knitr::knit2html(\"tmp/knitr.Rmd\", output = \"tmp/knitr.html\")\n",
    "\n",
    "```\n",
    "\n",
    "![](./figure/knit2html.png) ![](./figure/sp_knit2html.png)"
   ]
  },
  {
   "cell_type": "markdown",
   "id": "b9417aa8-a03f-452c-9803-75d69a8f164f",
   "metadata": {},
   "source": [
    "### rmarkdown: html\n",
    "\n",
    "```r\n",
    "rmarkdown::render(\n",
    "  here::here(\"tmp/knitr.Rmd\"),\n",
    "  rmarkdown::html_document(),\n",
    "  here::here(\"tmp/knitr.html\")\n",
    ")\n",
    "```\n",
    "\n",
    "![](./figure/rmd_html.png)![](./figure/sp_rmd_html.png)"
   ]
  },
  {
   "cell_type": "markdown",
   "id": "0eb0bada-1e12-4d28-acf3-ac029446d982",
   "metadata": {},
   "source": [
    "### rmarkdown: pdf\n",
    "\n",
    "```r\n",
    "rmarkdown::render(\n",
    "  here::here(\"tmp/knitr.Rmd\"),\n",
    "  rmarkdown::pdf_document(),\n",
    "  here::here(\"tmp/knitr.pdf\")\n",
    ")\n",
    "```\n",
    "\n",
    "\n",
    "![](./figure/rmd_pdf.png) ![](./figure/sp_rmd_pdf.png)"
   ]
  },
  {
   "cell_type": "markdown",
   "id": "d7132e73-8604-4c5a-996f-282cb4245735",
   "metadata": {},
   "source": [
    "### interactive shell\n",
    "\n",
    "```r\n",
    "with(pcd, plot(x, y))\n",
    "```\n",
    "\n",
    "![](./figure/shell.png) ![](./figure/sp_shell.png)"
   ]
  },
  {
   "cell_type": "markdown",
   "id": "941711c8-7deb-40ab-98ab-ac648aee627a",
   "metadata": {},
   "source": [
    "## publishing pipeline\n",
    "\n",
    "The publishing pipeline is relatively straightforward.  To convert from a notebook to an article:\n",
    "\n",
    "```r\n",
    "## convert from a notebook to an article\n",
    "ipynb_in <- here::here(\"vignettes\", \"example.ipynb\")\n",
    "article_name <- \"example\"\n",
    "\n",
    "pub_ipynb_to_rmd(ipynb_in) %>%\n",
    "  pub_rmd_to_article(article_name = article_name)\n",
    "```\n",
    "\n",
    "If you have a ready-to-knit Rmd, then:\n",
    "\n",
    "```r\n",
    "## convert a ready-to-knit Rmd to an html file\n",
    "html_out <- here::here(\"tmp\", \"example.html\")\n",
    "pub_rmd_to_html(ready_rmd, html_out)\n",
    "```\n",
    "\n",
    "or:\n",
    "```r\n",
    "## convert a ready-to-knit Rmd to a pdf file\n",
    "pdf_out <- here::here(\"tmp\", \"example.pdf\")\n",
    "pub_rmd_to_pdf(ready_rmd, pdf_out)\n",
    "```\n",
    "\n",
    "Using the above, one can chain functions together to convert directly from a notebook to an html or pdf.\n",
    "\n",
    "```r\n",
    "## convert from a notebook to an html file\n",
    "pub_ipynb_to_rmd(ipynb_in) %>%\n",
    "  pub_rmd_to_html(html_out)\n",
    "\n",
    "## convert from a notebook to a pdf file\n",
    "pub_ipynb_to_rmd(ipynb_in) %>%\n",
    "  pub_rmd_to_pdf(pdf_out)\n",
    "```"
   ]
  }
 ],
 "metadata": {
  "kernelspec": {
   "display_name": "R",
   "language": "R",
   "name": "ir"
  },
  "language_info": {
   "codemirror_mode": "r",
   "file_extension": ".r",
   "mimetype": "text/x-r-source",
   "name": "R",
   "pygments_lexer": "r",
   "version": "4.4.0"
  }
 },
 "nbformat": 4,
 "nbformat_minor": 5
}
