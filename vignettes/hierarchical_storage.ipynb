{
 "cells": [
  {
   "cell_type": "raw",
   "id": "7bca38ce-ecf4-4ef1-a6f6-f2d3562ce1f9",
   "metadata": {},
   "source": [
    "---\n",
    "title: \"hierarchical storage\"\n",
    "---"
   ]
  },
  {
   "cell_type": "markdown",
   "id": "1f29060c-7700-4bc9-b452-7b8e9ab3ff26",
   "metadata": {},
   "source": [
    "First things first.  Load the package."
   ]
  },
  {
   "cell_type": "code",
   "execution_count": 24,
   "id": "b9170238-e74e-45f8-9a62-abd4b57e2dd7",
   "metadata": {},
   "outputs": [],
   "source": [
    "Sys.setenv(R_CONFIG_ACTIVE = \"jupyter\")\n",
    "suppressMessages({\n",
    "  devtools::load_all()\n",
    "})"
   ]
  },
  {
   "cell_type": "markdown",
   "id": "0447e8ed-d0a2-45fa-9a07-da725964243d",
   "metadata": {},
   "source": [
    "## globally available storage"
   ]
  },
  {
   "cell_type": "code",
   "execution_count": 34,
   "id": "5d2960b8-b8ff-4c71-9710-208a5d0fcdc9",
   "metadata": {},
   "outputs": [
    {
     "data": {
      "text/html": [
       "<strong>$chicken</strong> = TRUE"
      ],
      "text/latex": [
       "\\textbf{\\$chicken} = TRUE"
      ],
      "text/markdown": [
       "**$chicken** = TRUE"
      ],
      "text/plain": [
       "$chicken\n",
       "[1] TRUE\n"
      ]
     },
     "metadata": {},
     "output_type": "display_data"
    }
   ],
   "source": [
    "# this will create nested environments within in the global environment\n",
    "rm.all()\n",
    "local({\n",
    "  order_id = \"D1234\"\n",
    "  order <- storage_env(\"metayer\", \"menu\", \"dinner\", order_id)\n",
    "  order$chicken = TRUE\n",
    "\n",
    "  meals <- storage_env(\"metayer\", \"menu\")\n",
    "  \n",
    "  # assert that things are organized as we expect\n",
    "  stopifnot(\n",
    "    identical(order, meals$dinner[[\"D1234\"]])\n",
    "  )\n",
    "  \n",
    "  # return the order, an environment, cast as a list\n",
    "  order %>%\n",
    "    as.list()\n",
    "})"
   ]
  },
  {
   "cell_type": "markdown",
   "id": "ff988cf3-d50b-4f3a-ac8a-400bf620d26d",
   "metadata": {},
   "source": [
    "`storage_env` has a side effect, and this is by design.  It creates a `.storage` container in the global environment.  Subsequent calls to `storage_env` expect to have access to this hierarchical storage container."
   ]
  },
  {
   "cell_type": "code",
   "execution_count": 37,
   "id": "32977c4b-dc5d-46f8-b10d-bc09734e5ab3",
   "metadata": {},
   "outputs": [
    {
     "data": {
      "text/html": [
       "'.storage'"
      ],
      "text/latex": [
       "'.storage'"
      ],
      "text/markdown": [
       "'.storage'"
      ],
      "text/plain": [
       "[1] \".storage\""
      ]
     },
     "metadata": {},
     "output_type": "display_data"
    }
   ],
   "source": [
    "# examine objects in the global enviroment\n",
    "ls(all.names = TRUE)"
   ]
  },
  {
   "cell_type": "code",
   "execution_count": 38,
   "id": "b3df10a1-cbc7-4a6c-bb08-9808a56c7029",
   "metadata": {},
   "outputs": [
    {
     "data": {
      "text/html": [
       "<strong>$chicken</strong> = TRUE"
      ],
      "text/latex": [
       "\\textbf{\\$chicken} = TRUE"
      ],
      "text/markdown": [
       "**$chicken** = TRUE"
      ],
      "text/plain": [
       "$chicken\n",
       "[1] TRUE\n"
      ]
     },
     "metadata": {},
     "output_type": "display_data"
    }
   ],
   "source": [
    "# access the order directly\n",
    ".storage$metayer$menu$dinner$D1234 %>%\n",
    "  as.list()"
   ]
  },
  {
   "cell_type": "code",
   "execution_count": 39,
   "id": "07383cad-c3ca-49a4-90ed-947439ffb9cd",
   "metadata": {},
   "outputs": [
    {
     "data": {
      "text/html": [
       "<strong>$chicken</strong> = TRUE"
      ],
      "text/latex": [
       "\\textbf{\\$chicken} = TRUE"
      ],
      "text/markdown": [
       "**$chicken** = TRUE"
      ],
      "text/plain": [
       "$chicken\n",
       "[1] TRUE\n"
      ]
     },
     "metadata": {},
     "output_type": "display_data"
    }
   ],
   "source": [
    "# access the order through the api\n",
    "storage_env(\"metayer\", \"menu\", \"dinner\")$D1234 %>%\n",
    "  as.list()"
   ]
  },
  {
   "cell_type": "markdown",
   "id": "294f7c53-3de8-4ce7-8c1b-642914dd0be1",
   "metadata": {},
   "source": [
    "## locally scoped storage\n",
    "\n",
    "It's worth noting that the storage doesn't have to live in the global namespace."
   ]
  },
  {
   "cell_type": "code",
   "execution_count": 40,
   "id": "c447009c-1527-4a18-9ae3-518360b8aeac",
   "metadata": {},
   "outputs": [
    {
     "name": "stdout",
     "output_type": "stream",
     "text": [
      "[1] \"lunch\" \"order\""
     ]
    },
    {
     "data": {
      "text/html": [
       "<strong>$burger</strong> = TRUE"
      ],
      "text/latex": [
       "\\textbf{\\$burger} = TRUE"
      ],
      "text/markdown": [
       "**$burger** = TRUE"
      ],
      "text/plain": [
       "$burger\n",
       "[1] TRUE\n"
      ]
     },
     "metadata": {},
     "output_type": "display_data"
    }
   ],
   "source": [
    "# Clean up the global environment, then create a 'lunch' container in the local environment.\n",
    "rm.all()\n",
    "local({\n",
    "  order <- storage_env(\"metayer\", \"menu\", \"lunch\", \"L0222\", .store = \"lunch\", .envir = current_env())\n",
    "  order$burger = TRUE  \n",
    "\n",
    "  # display a list of defined objects\n",
    "  ls(all.names = TRUE) %>%\n",
    "    capture.output() %>%\n",
    "    cat()\n",
    "\n",
    "  order %>% \n",
    "    as.list()\n",
    "})"
   ]
  },
  {
   "cell_type": "markdown",
   "id": "b2b075d5-b49a-4976-a7e1-8ebf572d2f0a",
   "metadata": {},
   "source": [
    "Here, `storage_env` is used in a way where the global environment is not polluted."
   ]
  },
  {
   "cell_type": "code",
   "execution_count": 43,
   "id": "b48444ce-6766-4b9d-8954-c32b81002450",
   "metadata": {},
   "outputs": [
    {
     "data": {
      "text/html": [
       "TRUE"
      ],
      "text/latex": [
       "TRUE"
      ],
      "text/markdown": [
       "TRUE"
      ],
      "text/plain": [
       "[1] TRUE"
      ]
     },
     "metadata": {},
     "output_type": "display_data"
    }
   ],
   "source": [
    "ls(all.names = TRUE) %>%\n",
    "  is_empty()"
   ]
  },
  {
   "cell_type": "code",
   "execution_count": null,
   "id": "23589f68-c29a-496b-8c6b-0cee54486368",
   "metadata": {},
   "outputs": [],
   "source": []
  }
 ],
 "metadata": {
  "kernelspec": {
   "display_name": "R",
   "language": "R",
   "name": "ir"
  },
  "language_info": {
   "codemirror_mode": "r",
   "file_extension": ".r",
   "mimetype": "text/x-r-source",
   "name": "R",
   "pygments_lexer": "r",
   "version": "4.4.0"
  }
 },
 "nbformat": 4,
 "nbformat_minor": 5
}
