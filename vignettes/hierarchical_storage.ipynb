{
 "cells": [
  {
   "cell_type": "raw",
   "id": "7bca38ce-ecf4-4ef1-a6f6-f2d3562ce1f9",
   "metadata": {},
   "source": [
    "---\n",
    "title: \"hierarchical storage\"\n",
    "\n",
    "all_doc: &shared\n",
    "  pandoc_args: \n",
    "    - !with_env \"--resource-path={R_HERE_HERE}/vignettes\"\n",
    "\n",
    "output:\n",
    "  html_document:\n",
    "    <<: *shared\n",
    "    theme: cerulean\n",
    "    highlight: espresso\n",
    "  pdf_document:\n",
    "    <<: *shared\n",
    "---"
   ]
  },
  {
   "cell_type": "markdown",
   "id": "1f29060c-7700-4bc9-b452-7b8e9ab3ff26",
   "metadata": {},
   "source": [
    "First things first.  Load the package."
   ]
  },
  {
   "cell_type": "code",
   "execution_count": 33,
   "id": "b9170238-e74e-45f8-9a62-abd4b57e2dd7",
   "metadata": {},
   "outputs": [],
   "source": [
    "Sys.setenv(R_CONFIG_ACTIVE = \"jupyter\")\n",
    "suppressMessages({\n",
    "  devtools::load_all()\n",
    "})"
   ]
  },
  {
   "cell_type": "markdown",
   "id": "0447e8ed-d0a2-45fa-9a07-da725964243d",
   "metadata": {},
   "source": [
    "## globally available storage"
   ]
  },
  {
   "cell_type": "code",
   "execution_count": 34,
   "id": "5d2960b8-b8ff-4c71-9710-208a5d0fcdc9",
   "metadata": {},
   "outputs": [
    {
     "data": {
      "text/html": [
       "<strong>$chicken</strong> = TRUE"
      ],
      "text/latex": [
       "\\textbf{\\$chicken} = TRUE"
      ],
      "text/markdown": [
       "**$chicken** = TRUE"
      ],
      "text/plain": [
       "$chicken\n",
       "[1] TRUE\n"
      ]
     },
     "metadata": {},
     "output_type": "display_data"
    }
   ],
   "source": [
    "# This will create a '.storage' container in the global environment\n",
    "rm.all()\n",
    "local({\n",
    "  order_id = \"D1234\"\n",
    "  order <- storage_env(\"metayer\", \"menu\", \"dinner\", order_id)\n",
    "  order$chicken = TRUE\n",
    "  typeof(order)\n",
    "  \n",
    "  all_orders <- storage_env(\"metayer\", \"menu\", \"dinner\")\n",
    "  all_orders[[order_id]] %>%\n",
    "    as.list()\n",
    "})"
   ]
  },
  {
   "cell_type": "code",
   "execution_count": 35,
   "id": "32977c4b-dc5d-46f8-b10d-bc09734e5ab3",
   "metadata": {},
   "outputs": [
    {
     "data": {
      "text/html": [
       "<style>\n",
       ".list-inline {list-style: none; margin:0; padding: 0}\n",
       ".list-inline>li {display: inline-block}\n",
       ".list-inline>li:not(:last-child)::after {content: \"\\00b7\"; padding: 0 .5ex}\n",
       "</style>\n",
       "<ol class=list-inline><li>'.storage'</li><li>'workflow'</li></ol>\n"
      ],
      "text/latex": [
       "\\begin{enumerate*}\n",
       "\\item '.storage'\n",
       "\\item 'workflow'\n",
       "\\end{enumerate*}\n"
      ],
      "text/markdown": [
       "1. '.storage'\n",
       "2. 'workflow'\n",
       "\n",
       "\n"
      ],
      "text/plain": [
       "[1] \".storage\" \"workflow\""
      ]
     },
     "metadata": {},
     "output_type": "display_data"
    }
   ],
   "source": [
    "# N.B., 'workflow' is a development artifact\n",
    "ls(all.names = TRUE)"
   ]
  },
  {
   "cell_type": "code",
   "execution_count": 36,
   "id": "b3df10a1-cbc7-4a6c-bb08-9808a56c7029",
   "metadata": {},
   "outputs": [
    {
     "data": {
      "text/html": [
       "<strong>$chicken</strong> = TRUE"
      ],
      "text/latex": [
       "\\textbf{\\$chicken} = TRUE"
      ],
      "text/markdown": [
       "**$chicken** = TRUE"
      ],
      "text/plain": [
       "$chicken\n",
       "[1] TRUE\n"
      ]
     },
     "metadata": {},
     "output_type": "display_data"
    }
   ],
   "source": [
    "# access the order directly\n",
    ".storage$metayer$menu$dinner$D1234 %>%\n",
    "  as.list()"
   ]
  },
  {
   "cell_type": "code",
   "execution_count": 37,
   "id": "07383cad-c3ca-49a4-90ed-947439ffb9cd",
   "metadata": {},
   "outputs": [
    {
     "data": {
      "text/html": [
       "<strong>$chicken</strong> = TRUE"
      ],
      "text/latex": [
       "\\textbf{\\$chicken} = TRUE"
      ],
      "text/markdown": [
       "**$chicken** = TRUE"
      ],
      "text/plain": [
       "$chicken\n",
       "[1] TRUE\n"
      ]
     },
     "metadata": {},
     "output_type": "display_data"
    }
   ],
   "source": [
    "# access the order through the api\n",
    "storage_env(\"metayer\", \"menu\", \"dinner\")$D1234 %>%\n",
    "  as.list()"
   ]
  },
  {
   "cell_type": "markdown",
   "id": "294f7c53-3de8-4ce7-8c1b-642914dd0be1",
   "metadata": {},
   "source": [
    "## locally scoped storage\n",
    "\n",
    "It's worth noting that the storage doesn't have to live in the global namespace."
   ]
  },
  {
   "cell_type": "code",
   "execution_count": 41,
   "id": "c447009c-1527-4a18-9ae3-518360b8aeac",
   "metadata": {},
   "outputs": [
    {
     "data": {
      "application/vnd.jupyter.stderr": "[410216/INFO/base] object 'dfo' not found"
     },
     "metadata": {},
     "output_type": "display_data"
    },
    {
     "ename": "ERROR",
     "evalue": "Error in eval(code, force(.local_envir)): object 'dfo' not found\n",
     "output_type": "error",
     "traceback": [
      "Error in eval(code, force(.local_envir)): object 'dfo' not found\nTraceback:\n",
      "1. local({\n .     order <- storage_env(\"metayer\", \"menu\", \"lunch\", \"L0222\", \n .         .store = \"lunch\", .envir = current_env())\n .     order$burger = TRUE\n .     dfo <- ls(all.names = TRUE) %>% capture.output()\n .     cli_verbatim(dfo)\n .     lunch$metayer$menu$lunch$L0222 %>% as.list()\n . })",
      "2. eval.parent(substitute(eval(quote(expr), envir)))",
      "3. eval(expr, p)",
      "4. eval(expr, p)",
      "5. eval(quote({\n .     order <- storage_env(\"metayer\", \"menu\", \"lunch\", \"L0222\", \n .         .store = \"lunch\", .envir = current_env())\n .     order$burger = TRUE\n .     dfo <- ls(all.names = TRUE) %>% capture.output()\n .     cli_verbatim(dfo)\n .     lunch$metayer$menu$lunch$L0222 %>% as.list()\n . }), new.env())",
      "6. eval(quote({\n .     order <- storage_env(\"metayer\", \"menu\", \"lunch\", \"L0222\", \n .         .store = \"lunch\", .envir = current_env())\n .     order$burger = TRUE\n .     dfo <- ls(all.names = TRUE) %>% capture.output()\n .     cli_verbatim(dfo)\n .     lunch$metayer$menu$lunch$L0222 %>% as.list()\n . }), new.env())",
      "7. cli_verbatim(dfo)   # at line 11 of file <text>",
      "8. with_logger(client_call, level = level)",
      "9. withCallingHandlers(message = function(cnd) {\n .     msg <- conditionMessage(cnd)\n .     level <- level %||% logger::INFO\n .     ns <- get_namespace_name(parent.frame())\n .     log_level(level, msg, namespace = ns)\n . }, warning = function(cnd) {\n .     msg <- conditionMessage(cnd)\n .     level <- level %||% logger::WARN\n .     ns <- get_namespace_name(parent.frame())\n .     log_level(level, msg, namespace = ns)\n . }, error = function(cnd) {\n .     msg <- conditionMessage(cnd)\n .     level <- level %||% logger::ERROR\n .     ns <- get_namespace_name(parent.frame())\n .     log_level(level, msg, namespace = ns)\n . }, eval(code, force(.local_envir)))   # at line 131-151 of file /home/dnlennon/Workspace/repos/metayer/R/logger.R",
      "10. eval(code, force(.local_envir))   # at line 131-151 of file /home/dnlennon/Workspace/repos/metayer/R/logger.R",
      "11. eval(code, force(.local_envir))",
      "12. cli::cli_verbatim(.envir = <environment>, dfo)",
      "13. cli__message(\"verbatim\", c(list(...), list(.envir = .envir)))",
      "14. \"id\" %in% names(args)"
     ]
    }
   ],
   "source": [
    "# This will create a 'lunch' container in the local environment\n",
    "rm.all()\n",
    "local({\n",
    "  order <- storage_env(\"metayer\", \"menu\", \"lunch\", \"L0222\", .store = \"lunch\", .envir = current_env())\n",
    "  order$burger = TRUE  \n",
    "\n",
    "  # display a list of defined objects\n",
    "  dfo <- ls(all.names = TRUE) %>%\n",
    "    capture.output()\n",
    "\n",
    "  cli_verbatim(dfo)\n",
    "\n",
    "  lunch$metayer$menu$lunch$L0222 %>%\n",
    "    as.list()\n",
    "})"
   ]
  },
  {
   "cell_type": "code",
   "execution_count": null,
   "id": "b48444ce-6766-4b9d-8954-c32b81002450",
   "metadata": {},
   "outputs": [],
   "source": [
    "# N.B., 'workflow' is a development artifact\n",
    "ls(all.names = TRUE)"
   ]
  },
  {
   "cell_type": "code",
   "execution_count": null,
   "id": "23589f68-c29a-496b-8c6b-0cee54486368",
   "metadata": {},
   "outputs": [],
   "source": []
  }
 ],
 "metadata": {
  "kernelspec": {
   "display_name": "R",
   "language": "R",
   "name": "ir"
  },
  "language_info": {
   "codemirror_mode": "r",
   "file_extension": ".r",
   "mimetype": "text/x-r-source",
   "name": "R",
   "pygments_lexer": "r",
   "version": "4.4.0"
  }
 },
 "nbformat": 4,
 "nbformat_minor": 5
}
