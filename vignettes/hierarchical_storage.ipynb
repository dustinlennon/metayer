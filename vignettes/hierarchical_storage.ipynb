{
 "cells": [
  {
   "cell_type": "raw",
   "id": "7bca38ce-ecf4-4ef1-a6f6-f2d3562ce1f9",
   "metadata": {},
   "source": [
    "---\n",
    "title: \"hierarchical storage\"\n",
    "output:\n",
    "  html_document:\n",
    "    theme: cerulean\n",
    "    highlight: espresso\n",
    "---"
   ]
  },
  {
   "cell_type": "markdown",
   "id": "1f29060c-7700-4bc9-b452-7b8e9ab3ff26",
   "metadata": {},
   "source": [
    "First things first.  Load the package."
   ]
  },
  {
   "cell_type": "code",
   "execution_count": 2,
   "id": "b9170238-e74e-45f8-9a62-abd4b57e2dd7",
   "metadata": {},
   "outputs": [],
   "source": [
    "Sys.setenv(R_CONFIG_ACTIVE = \"jupyter\")\n",
    "suppressMessages({\n",
    "  devtools::load_all()\n",
    "  data(pcd)\n",
    "})"
   ]
  },
  {
   "cell_type": "markdown",
   "id": "0447e8ed-d0a2-45fa-9a07-da725964243d",
   "metadata": {},
   "source": [
    "## globally available storage"
   ]
  },
  {
   "cell_type": "code",
   "execution_count": 19,
   "id": "5d2960b8-b8ff-4c71-9710-208a5d0fcdc9",
   "metadata": {},
   "outputs": [
    {
     "data": {
      "text/html": [
       "<strong>$chicken</strong> = TRUE"
      ],
      "text/latex": [
       "\\textbf{\\$chicken} = TRUE"
      ],
      "text/markdown": [
       "**$chicken** = TRUE"
      ],
      "text/plain": [
       "$chicken\n",
       "[1] TRUE\n"
      ]
     },
     "metadata": {},
     "output_type": "display_data"
    }
   ],
   "source": [
    "# This will create a '.storage' container in the global environment\n",
    "rm.all()\n",
    "local({\n",
    "  order_id = \"D1234\"\n",
    "  order <- storage_env(\"metayer\", \"menu\", \"dinner\", order_id)\n",
    "  order$chicken = TRUE\n",
    "  typeof(order)\n",
    "  \n",
    "  all_orders <- storage_env(\"metayer\", \"menu\", \"dinner\")\n",
    "  all_orders[[order_id]] %>%\n",
    "    as.list()\n",
    "})"
   ]
  },
  {
   "cell_type": "code",
   "execution_count": 20,
   "id": "32977c4b-dc5d-46f8-b10d-bc09734e5ab3",
   "metadata": {},
   "outputs": [
    {
     "data": {
      "text/html": [
       "<style>\n",
       ".list-inline {list-style: none; margin:0; padding: 0}\n",
       ".list-inline>li {display: inline-block}\n",
       ".list-inline>li:not(:last-child)::after {content: \"\\00b7\"; padding: 0 .5ex}\n",
       "</style>\n",
       "<ol class=list-inline><li>'.storage'</li><li>'workflow'</li></ol>\n"
      ],
      "text/latex": [
       "\\begin{enumerate*}\n",
       "\\item '.storage'\n",
       "\\item 'workflow'\n",
       "\\end{enumerate*}\n"
      ],
      "text/markdown": [
       "1. '.storage'\n",
       "2. 'workflow'\n",
       "\n",
       "\n"
      ],
      "text/plain": [
       "[1] \".storage\" \"workflow\""
      ]
     },
     "metadata": {},
     "output_type": "display_data"
    }
   ],
   "source": [
    "# N.B., 'workflow' is a development artifact\n",
    "ls(all.names = TRUE)"
   ]
  },
  {
   "cell_type": "code",
   "execution_count": 22,
   "id": "b3df10a1-cbc7-4a6c-bb08-9808a56c7029",
   "metadata": {},
   "outputs": [
    {
     "data": {
      "text/html": [
       "<strong>$chicken</strong> = TRUE"
      ],
      "text/latex": [
       "\\textbf{\\$chicken} = TRUE"
      ],
      "text/markdown": [
       "**$chicken** = TRUE"
      ],
      "text/plain": [
       "$chicken\n",
       "[1] TRUE\n"
      ]
     },
     "metadata": {},
     "output_type": "display_data"
    }
   ],
   "source": [
    "# access the order directly\n",
    ".storage$metayer$menu$dinner$D1234 %>%\n",
    "  as.list()"
   ]
  },
  {
   "cell_type": "code",
   "execution_count": 23,
   "id": "07383cad-c3ca-49a4-90ed-947439ffb9cd",
   "metadata": {},
   "outputs": [
    {
     "data": {
      "text/html": [
       "<strong>$chicken</strong> = TRUE"
      ],
      "text/latex": [
       "\\textbf{\\$chicken} = TRUE"
      ],
      "text/markdown": [
       "**$chicken** = TRUE"
      ],
      "text/plain": [
       "$chicken\n",
       "[1] TRUE\n"
      ]
     },
     "metadata": {},
     "output_type": "display_data"
    }
   ],
   "source": [
    "# access the order through the api\n",
    "storage_env(\"metayer\", \"menu\", \"dinner\")$D1234 %>%\n",
    "  as.list()"
   ]
  },
  {
   "cell_type": "markdown",
   "id": "294f7c53-3de8-4ce7-8c1b-642914dd0be1",
   "metadata": {},
   "source": [
    "## locally scoped storage\n",
    "\n",
    "It's worth noting that the storage doesn't have to live in the global namespace."
   ]
  },
  {
   "cell_type": "code",
   "execution_count": 24,
   "id": "c447009c-1527-4a18-9ae3-518360b8aeac",
   "metadata": {},
   "outputs": [
    {
     "name": "stderr",
     "output_type": "stream",
     "text": [
      "[INFO/unknown] [1] \"lunch\" \"order\"\n"
     ]
    },
    {
     "data": {
      "text/html": [
       "<strong>$burger</strong> = TRUE"
      ],
      "text/latex": [
       "\\textbf{\\$burger} = TRUE"
      ],
      "text/markdown": [
       "**$burger** = TRUE"
      ],
      "text/plain": [
       "$burger\n",
       "[1] TRUE\n"
      ]
     },
     "metadata": {},
     "output_type": "display_data"
    }
   ],
   "source": [
    "# This will create a 'lunch' container in the local environment\n",
    "rm.all()\n",
    "local({\n",
    "  order <- storage_env(\"metayer\", \"menu\", \"lunch\", \"L0222\", .store = \"lunch\", .envir = current_env())\n",
    "  order$burger = TRUE  \n",
    "\n",
    "  # display a list of defined objects\n",
    "  ls(all.names = TRUE) %>%\n",
    "    capture.output() %>%\n",
    "    cli::cli_verbatim()\n",
    "\n",
    "  lunch$metayer$menu$lunch$L0222 %>%\n",
    "    as.list()\n",
    "})"
   ]
  },
  {
   "cell_type": "code",
   "execution_count": 26,
   "id": "b48444ce-6766-4b9d-8954-c32b81002450",
   "metadata": {},
   "outputs": [
    {
     "data": {
      "text/html": [
       "'workflow'"
      ],
      "text/latex": [
       "'workflow'"
      ],
      "text/markdown": [
       "'workflow'"
      ],
      "text/plain": [
       "[1] \"workflow\""
      ]
     },
     "metadata": {},
     "output_type": "display_data"
    }
   ],
   "source": [
    "# N.B., 'workflow' is a development artifact\n",
    "ls(all.names = TRUE)"
   ]
  },
  {
   "cell_type": "code",
   "execution_count": null,
   "id": "23589f68-c29a-496b-8c6b-0cee54486368",
   "metadata": {},
   "outputs": [],
   "source": []
  }
 ],
 "metadata": {
  "kernelspec": {
   "display_name": "R",
   "language": "R",
   "name": "ir"
  },
  "language_info": {
   "codemirror_mode": "r",
   "file_extension": ".r",
   "mimetype": "text/x-r-source",
   "name": "R",
   "pygments_lexer": "r",
   "version": "4.4.0"
  }
 },
 "nbformat": 4,
 "nbformat_minor": 5
}
