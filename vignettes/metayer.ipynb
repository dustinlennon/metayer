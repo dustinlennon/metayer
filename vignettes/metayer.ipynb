{
 "cells": [
  {
   "cell_type": "raw",
   "id": "54d13b9a-6464-4b91-a9a4-1c5936964056",
   "metadata": {},
   "source": [
    "---\n",
    "title: \"getting started\"\n",
    "---"
   ]
  },
  {
   "cell_type": "markdown",
   "id": "d4beac94-7a7e-44fe-8e54-dd23e847bcb6",
   "metadata": {},
   "source": [
    "## publishing context\n",
    "\n",
    "The context in which a figure is created often impacts its aesthetics, and each publishing context may require separate options or configuration settings to obtain a uniform output.  `metayer::sure_plot` provides a DRY solution.\n",
    "\n",
    "The [authoring vignette](./authoring.html) describes patterns to uniformize output at each stage of the publishing pipeline."
   ]
  },
  {
   "cell_type": "code",
   "execution_count": 8,
   "id": "b73c6ad6-f7e4-4ad7-8bc7-7d4f8a7733fb",
   "metadata": {},
   "outputs": [
    {
     "data": {
      "text/html": [
       "<img src=\"data:image/png;base64, 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\"/>"
      ]
     },
     "metadata": {},
     "output_type": "display_data"
    }
   ],
   "source": [
    "sure_plot({\n",
    "    plot(pcd$x, pcd$y)\n",
    "  },\n",
    "  height = 5,\n",
    "  width = 5,\n",
    "  par_opts = list(bg = \"#f1d08f\")\n",
    ")"
   ]
  },
  {
   "cell_type": "markdown",
   "id": "f839495d-76f9-4755-92fa-48c0e24f1c3d",
   "metadata": {},
   "source": [
    "## cli / logger integration\n",
    "\n",
    "As code shifts from prototype to production, logging becomes important.  Given the ubiquity of the [cli](https://cli.r-lib.org/index.html) and [logger](https://daroczig.github.io/logger/index.html) packages, it would be nice if messages that were originally headed for an interactive terminal could be seamlessly integrated into the logs.\n",
    "\n",
    "The [logger integration vignette](./logger_integration.html) shows the details of how metayer makes this work."
   ]
  },
  {
   "cell_type": "code",
   "execution_count": 6,
   "id": "ee701855-f969-4d28-a5e3-8da24190659e",
   "metadata": {},
   "outputs": [
    {
     "data": {
      "application/vnd.jupyter.stderr": "[INFO/global] → do what you love!"
     },
     "metadata": {},
     "output_type": "display_data"
    }
   ],
   "source": [
    "# contextualized cli calls\n",
    "cli_alert(\"do what you love!\") %>% \n",
    "  suppressMessages()"
   ]
  },
  {
   "cell_type": "markdown",
   "id": "fce56dca-2a6e-4db1-a01b-f243334507ec",
   "metadata": {},
   "source": [
    "## global hierarchical storage\n",
    "\n",
    "metayer implements a global hierarchical storage container which is simple to use.  The [hierarchical storage vignette](./hierarchical_storage.html) does a deeper dive."
   ]
  },
  {
   "cell_type": "code",
   "execution_count": 12,
   "id": "7f557930-9656-4345-86ff-9f8efddcc013",
   "metadata": {},
   "outputs": [
    {
     "data": {
      "text/html": [
       "TRUE"
      ],
      "text/latex": [
       "TRUE"
      ],
      "text/markdown": [
       "TRUE"
      ],
      "text/plain": [
       "[1] TRUE"
      ]
     },
     "metadata": {},
     "output_type": "display_data"
    }
   ],
   "source": [
    "# pluck-like: create a persistent, hierarchically indexed environment\n",
    "rm.all()\n",
    "order_env <- local({\n",
    "  order_id <- \"D1234\"\n",
    "  storage_env(\"metayer\", \"menu\", \"dinner\", order_id)\n",
    "})\n",
    "identical(.storage$metayer$menu$dinner[[\"D1234\"]], order_env)"
   ]
  },
  {
   "cell_type": "markdown",
   "id": "19d15933-c47d-464e-b831-669389caa70d",
   "metadata": {},
   "source": [
    "## metaprogramming helpers\n",
    "\n",
    "metayer provides two methods for easing metaprogramming tasks, `wrapped_factory` and `with_monkey_patch`.  Specifics are available in the [metaprogramming vignette](./metaprogramming.html)."
   ]
  },
  {
   "cell_type": "markdown",
   "id": "6303e5c1-9316-4b9d-93fa-d38177093386",
   "metadata": {},
   "source": [
    "## configurability\n",
    "\n",
    "metayer is designed to be incorporated into future projects.  As such, it aims to be configurable.  Details are in the [configuration vignette](./metayer-config.html)."
   ]
  },
  {
   "cell_type": "markdown",
   "id": "27fe2e37-fea6-49f0-860c-2767922974af",
   "metadata": {},
   "source": [
    "## miscellanea\n",
    "\n",
    "Some other useful metayer utilities can be found in the [miscellanea vignette](miscellanea.html)."
   ]
  }
 ],
 "metadata": {
  "kernelspec": {
   "display_name": "R",
   "language": "R",
   "name": "ir"
  },
  "language_info": {
   "codemirror_mode": "r",
   "file_extension": ".r",
   "mimetype": "text/x-r-source",
   "name": "R",
   "pygments_lexer": "r",
   "version": "4.4.0"
  }
 },
 "nbformat": 4,
 "nbformat_minor": 5
}
