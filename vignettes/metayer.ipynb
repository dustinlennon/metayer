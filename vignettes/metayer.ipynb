{
 "cells": [
  {
   "cell_type": "raw",
   "id": "54d13b9a-6464-4b91-a9a4-1c5936964056",
   "metadata": {},
   "source": [
    "---\n",
    "title: \"getting started\"\n",
    "output:\n",
    "  html_document:\n",
    "    theme: cerulean\n",
    "    highlight: espresso\n",
    "---"
   ]
  },
  {
   "cell_type": "markdown",
   "id": "9b9117d4-ba9d-4731-9adf-037170b60bbc",
   "metadata": {},
   "source": [
    "First things first.  Load the package."
   ]
  },
  {
   "cell_type": "code",
   "execution_count": 1,
   "id": "3cd55c18-acdf-4b6d-9f93-f53f075e4cb2",
   "metadata": {},
   "outputs": [],
   "source": [
    "Sys.setenv(R_CONFIG_ACTIVE = \"jupyter\")\n",
    "suppressMessages({\n",
    "  devtools::load_all()\n",
    "  data(pcd)\n",
    "})"
   ]
  },
  {
   "cell_type": "markdown",
   "id": "d4beac94-7a7e-44fe-8e54-dd23e847bcb6",
   "metadata": {},
   "source": [
    "## publishing context\n",
    "\n",
    "The context in which a figure is created matters, and each context may require separate options or configuration to obtain uniform output.  `metayer::sure_plot` provides a solution.\n",
    "\n",
    "The [publishing context vignette](./publishing_context.html) develops a better sense of the variability / consistency."
   ]
  },
  {
   "cell_type": "code",
   "execution_count": 2,
   "id": "b73c6ad6-f7e4-4ad7-8bc7-7d4f8a7733fb",
   "metadata": {},
   "outputs": [
    {
     "data": {
      "text/html": [
       "<img src=\"data:image/png;base64, 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\"/>"
      ]
     },
     "metadata": {},
     "output_type": "display_data"
    }
   ],
   "source": [
    "sure_plot({\n",
    "    with(pcd, plot(x, y))\n",
    "  },\n",
    "  height = 5,\n",
    "  width = 5,\n",
    "  par_opts = list(bg = \"azure\")\n",
    ")"
   ]
  },
  {
   "cell_type": "markdown",
   "id": "f839495d-76f9-4755-92fa-48c0e24f1c3d",
   "metadata": {},
   "source": [
    "## cli / logger integration\n",
    "\n",
    "As code shifts from prototype to production, logging becomes important.  Given the ubiquity of the [cli package](https://cli.r-lib.org/reference/index.html), it would be nice if messages that were originally headed for an interactive terminal were seamlessly redirected into the logs.\n",
    "\n",
    "The [cli logger integration vignette](./cli_logger_integration.html) shows the details of how metayer makes this work."
   ]
  },
  {
   "cell_type": "code",
   "execution_count": 3,
   "id": "ee701855-f969-4d28-a5e3-8da24190659e",
   "metadata": {},
   "outputs": [
    {
     "name": "stderr",
     "output_type": "stream",
     "text": [
      "[708055/INFO/global.cli] > do what you love!\n"
     ]
    }
   ],
   "source": [
    "# contextualized cli calls\n",
    "cli_alert(\"do what you love!\")"
   ]
  },
  {
   "cell_type": "markdown",
   "id": "fce56dca-2a6e-4db1-a01b-f243334507ec",
   "metadata": {},
   "source": [
    "## global hierarchical storage\n",
    "\n",
    "metayer implements a global hierarchical storage container which is simple to use.  The [hierarchical storage vignette](./hierarchical_storage.html) does a deeper dive."
   ]
  },
  {
   "cell_type": "code",
   "execution_count": 4,
   "id": "7f557930-9656-4345-86ff-9f8efddcc013",
   "metadata": {},
   "outputs": [
    {
     "name": "stdout",
     "output_type": "stream",
     "text": [
      "<environment: 0x567966350fc8> \n",
      " - attr(*, \"name\")= 'glue' chr \".storage.metayer.menu.dinner.D1234\"\n"
     ]
    }
   ],
   "source": [
    "rm.all()\n",
    "local({\n",
    "  order_id <- \"D1234\"\n",
    "  order <- storage_env(\"metayer\", \"menu\", \"dinner\", order_id)\n",
    "  str(order)\n",
    "})"
   ]
  },
  {
   "cell_type": "markdown",
   "id": "19d15933-c47d-464e-b831-669389caa70d",
   "metadata": {},
   "source": [
    "## metaprogramming helpers\n",
    "\n",
    "metayer provides two methods for easing metaprogramming tasks, `wrapped_factory` and `with_monkey_patch`.  Specifics are available in the [metaprogramming vignette](./metaprogramming.html)."
   ]
  },
  {
   "cell_type": "markdown",
   "id": "27fe2e37-fea6-49f0-860c-2767922974af",
   "metadata": {},
   "source": [
    "## miscellanea\n",
    "\n",
    "Some other useful metayer utilities can be found in the [miscellanea vignette](miscellanea.html)."
   ]
  }
 ],
 "metadata": {
  "kernelspec": {
   "display_name": "R",
   "language": "R",
   "name": "ir"
  },
  "language_info": {
   "codemirror_mode": "r",
   "file_extension": ".r",
   "mimetype": "text/x-r-source",
   "name": "R",
   "pygments_lexer": "r",
   "version": "4.4.0"
  }
 },
 "nbformat": 4,
 "nbformat_minor": 5
}
