{
 "cells": [
  {
   "cell_type": "raw",
   "id": "dc5afb5b-5ae3-4f3f-abf9-290aedee8aca",
   "metadata": {},
   "source": [
    "---\n",
    "title: \"metaprogramming\"\n",
    "output:\n",
    "  html_document:\n",
    "    theme: cerulean\n",
    "    highlight: espresso\n",
    "---"
   ]
  },
  {
   "cell_type": "markdown",
   "id": "c66aac97-0e68-4d2b-8979-a3dbe97374d5",
   "metadata": {},
   "source": [
    "First things first.  Load the package."
   ]
  },
  {
   "cell_type": "code",
   "execution_count": 33,
   "id": "0d467b27-2ac0-4ac1-8c06-22c58680d1f2",
   "metadata": {},
   "outputs": [],
   "source": [
    "Sys.setenv(R_CONFIG_ACTIVE = \"jupyter\")\n",
    "suppressMessages({\n",
    "  devtools::load_all()\n",
    "  data(pcd)\n",
    "})"
   ]
  },
  {
   "cell_type": "markdown",
   "id": "82f4e064-15eb-4e2b-8d86-bebd0e41e0c4",
   "metadata": {},
   "source": [
    "metayer provides two methods for easing metaprogramming tasks, `wrapped_factory` and `with_monkey_patch`."
   ]
  },
  {
   "cell_type": "markdown",
   "id": "01cc150b-0765-4f94-8708-eca9338c0b61",
   "metadata": {},
   "source": [
    "## wrapped_factory\n",
    "\n",
    "It's easier to start with `wrapped_factory`.  This allows us to rewrite existing functions.  It replicates the function signature and provides a mechanism for calling the original function.  An example should be illustrative."
   ]
  },
  {
   "cell_type": "code",
   "execution_count": 34,
   "id": "b5dd6fc3-76fd-46aa-a43f-99877d766757",
   "metadata": {},
   "outputs": [],
   "source": [
    "# a very simple function\n",
    "orig <- function(x, y) x + y"
   ]
  },
  {
   "cell_type": "markdown",
   "id": "32b27a56-6b10-4a81-9c2a-bb7911be3f2c",
   "metadata": {},
   "source": [
    "A wrapper must have the signature `function(cmd, args, ...)` where `...` may be replaced with key value arguments to be passed in through the factory function."
   ]
  },
  {
   "cell_type": "code",
   "execution_count": 35,
   "id": "2de1c86d-e96e-4891-8546-7c44b780f315",
   "metadata": {},
   "outputs": [],
   "source": [
    "# a simple wrapper\n",
    "debug_wrapper <- function(cmd, args, label = NULL) { \n",
    "  \n",
    "  # call wrapped_remap to create a list\n",
    "  warg <- remap_symb(args) \n",
    "\n",
    "  # convert the remapped args into a string\n",
    "  arg_str <- warg %>%\n",
    "    purrr::imap_chr(\n",
    "      \\(k,v) sprintf(\"%s : %s\", k, v)\n",
    "    ) %>%\n",
    "    paste0(collapse = \"; \")\n",
    "\n",
    "  # emit debugging information\n",
    "  cat(\n",
    "    glue(\">>> called {label}: {arg_str}\\n\"), \n",
    "    file = stdout()\n",
    "  )\n",
    "\n",
    "  # call the original function\n",
    "  do.call(cmd, args)\n",
    "}"
   ]
  },
  {
   "cell_type": "markdown",
   "id": "606f2b45-2a2e-4e2c-aaa5-0f8bdc2de821",
   "metadata": {},
   "source": [
    "Now, produce a new function using the original function and the wrapper."
   ]
  },
  {
   "cell_type": "code",
   "execution_count": 36,
   "id": "a868f639-4cab-4ad7-ad25-9a0cd7185a43",
   "metadata": {},
   "outputs": [
    {
     "name": "stdout",
     "output_type": "stream",
     "text": [
      ">>> called orig.debug: 1 : x; 2 : y"
     ]
    },
    {
     "data": {
      "text/html": [
       "3"
      ],
      "text/latex": [
       "3"
      ],
      "text/markdown": [
       "3"
      ],
      "text/plain": [
       "[1] 3"
      ]
     },
     "metadata": {},
     "output_type": "display_data"
    }
   ],
   "source": [
    "dbg_orig <- wrapped_factory(\"orig\", debug_wrapper, label = \"orig.debug\")\n",
    "dbg_orig(1, 2)"
   ]
  },
  {
   "cell_type": "markdown",
   "id": "fa78c20e-d59d-44da-83fb-5854039da1ff",
   "metadata": {},
   "source": [
    "It's instructive to inspect the structure of `dbg_orig`.  It has the same function signature as the original function with the body of the wrapper.  Moreover, `cmd` has been replaced with `orig`, and `args` has been replaced with a symbol-mapped list.  This occurs in all places where `cmd` and `args` appear in the wrapper."
   ]
  },
  {
   "cell_type": "code",
   "execution_count": 37,
   "id": "59f6b19d-d410-4a6b-91a4-e5d102ffdf17",
   "metadata": {},
   "outputs": [
    {
     "data": {
      "text/html": [
       "<pre class=language-r><code>function (x, y) \n",
       "{\n",
       "<span style=white-space:pre-wrap>    warg &lt;- remap_symb(list(x = x, y = y))</span>\n",
       "<span style=white-space:pre-wrap>    arg_str &lt;- warg %&gt;% purrr::imap_chr(function(k, v) sprintf(\"%s : %s\", </span>\n",
       "<span style=white-space:pre-wrap>        k, v)) %&gt;% paste0(collapse = \"; \")</span>\n",
       "<span style=white-space:pre-wrap>    cat(glue(\"&gt;&gt;&gt; called {label}: {arg_str}\\n\"), file = stdout())</span>\n",
       "<span style=white-space:pre-wrap>    do.call(orig, list(x = x, y = y))</span>\n",
       "}</code></pre>"
      ],
      "text/latex": [
       "\\begin{minted}{r}\n",
       "function (x, y) \n",
       "\\{\n",
       "    warg <- remap\\_symb(list(x = x, y = y))\n",
       "    arg\\_str <- warg \\%>\\% purrr::imap\\_chr(function(k, v) sprintf(\"\\%s : \\%s\", \n",
       "        k, v)) \\%>\\% paste0(collapse = \"; \")\n",
       "    cat(glue(\">>> called \\{label\\}: \\{arg\\_str\\}\\textbackslash{}n\"), file = stdout())\n",
       "    do.call(orig, list(x = x, y = y))\n",
       "\\}\n",
       "\\end{minted}"
      ],
      "text/markdown": [
       "```r\n",
       "function (x, y) \n",
       "{\n",
       "    warg <- remap_symb(list(x = x, y = y))\n",
       "    arg_str <- warg %>% purrr::imap_chr(function(k, v) sprintf(\"%s : %s\", \n",
       "        k, v)) %>% paste0(collapse = \"; \")\n",
       "    cat(glue(\">>> called {label}: {arg_str}\\n\"), file = stdout())\n",
       "    do.call(orig, list(x = x, y = y))\n",
       "}\n",
       "```"
      ],
      "text/plain": [
       "function (x, y) \n",
       "{\n",
       "    warg <- remap_symb(list(x = x, y = y))\n",
       "    arg_str <- warg %>% purrr::imap_chr(function(k, v) sprintf(\"%s : %s\", \n",
       "        k, v)) %>% paste0(collapse = \"; \")\n",
       "    cat(glue(\">>> called {label}: {arg_str}\\n\"), file = stdout())\n",
       "    do.call(orig, list(x = x, y = y))\n",
       "}\n",
       "<environment: 0x62ceab523868>"
      ]
     },
     "metadata": {},
     "output_type": "display_data"
    }
   ],
   "source": [
    "dbg_orig"
   ]
  },
  {
   "cell_type": "markdown",
   "id": "072d0c99-0555-41c1-a9df-5ebb92e5e2c8",
   "metadata": {},
   "source": [
    "## with_monkey_patch\n",
    "\n",
    "Do roughly the same thing as `wrapped_factory`, but with functions defined in a namespace and only temporarily.  Changes will be restored on exit."
   ]
  },
  {
   "cell_type": "markdown",
   "id": "93871caa-6b8a-497a-92c1-3e98f6657f98",
   "metadata": {},
   "source": [
    "The following is a simple example.  `time_caller` is a function that calls `Sys.Time`.  We'll assume that `time_caller` is defined in an external namespace, so we don't have access to `time_caller` directly.  Alternatively, `time_caller` could be used extensively elsewhere and  redefining it would be disruptive.  \n",
    "\n",
    "In any case, it's default behavior is to call `Sys.Time` and return a `POSIXct` in the local time zone."
   ]
  },
  {
   "cell_type": "code",
   "execution_count": 38,
   "id": "a73e8843-eaf6-4d0c-9e2c-ae51d5611fb7",
   "metadata": {},
   "outputs": [
    {
     "data": {
      "text/plain": [
       "[1] \"2024-09-23 20:09:47 PDT\""
      ]
     },
     "metadata": {},
     "output_type": "display_data"
    }
   ],
   "source": [
    "# suppose you couldn't change `date_caller` directly...\n",
    "time_caller <- function() {\n",
    "  Sys.time()\n",
    "}\n",
    "time_caller()"
   ]
  },
  {
   "cell_type": "markdown",
   "id": "8882ba6b-91c7-4f2c-97c8-c6ad55682f1b",
   "metadata": {},
   "source": [
    "Our scenario is that we need `time_caller` to return something else.  In particular, we'd like the timezone to be GMT.  We achieve this by temporarily changing the behavior of `Sys.time` which `time_caller` invokes."
   ]
  },
  {
   "cell_type": "code",
   "execution_count": 39,
   "id": "137484d2-f910-42cd-a3af-5cbfd75a0ac9",
   "metadata": {},
   "outputs": [
    {
     "data": {
      "text/plain": [
       "[1] \"2024-09-24 03:09:48 GMT\""
      ]
     },
     "metadata": {},
     "output_type": "display_data"
    }
   ],
   "source": [
    "# apply a monkey patch that modifies the value returned\n",
    "with_monkey_patch(\n",
    "  \"base::Sys.time\",\n",
    "  # adapt time_caller so that it returns a result in GMT \n",
    "  wrapper = function(cmd, args, func) {    \n",
    "    t <- do.call(func, args)\n",
    "    .POSIXct(t, \"GMT\")\n",
    "  },\n",
    "  {\n",
    "    # could be nested deep down in the call stack...\n",
    "    foo <- function() time_caller()\n",
    "    foo()\n",
    "  }\n",
    ")"
   ]
  },
  {
   "cell_type": "markdown",
   "id": "0c5aec52-5724-498c-8a5b-4f119d2e3a43",
   "metadata": {},
   "source": [
    "And check that everything is back to normal after our monkey patch call:"
   ]
  },
  {
   "cell_type": "code",
   "execution_count": 40,
   "id": "c77caa4e-fe32-451f-88c6-e2254f2121f0",
   "metadata": {},
   "outputs": [
    {
     "data": {
      "text/plain": [
       "[1] \"2024-09-23 20:09:49 PDT\""
      ]
     },
     "metadata": {},
     "output_type": "display_data"
    }
   ],
   "source": [
    "time_caller()"
   ]
  },
  {
   "cell_type": "markdown",
   "id": "c92f680e-fe59-4cb5-9e77-7dba799c026f",
   "metadata": {},
   "source": [
    "### a real example\n",
    "\n",
    "While the above example is perhaps a bit contrived, metayer found this machinery useful for affixing knitr hooks to rmarkdown documents.  Specifically, deep in the call stack, `pkgdown::build_article` invokes `rmarkdown::html_document`.  We wanted to modify the output of the nested `html_document` call.  Rather than return the document that was created by default, we wanted to return a modified doc; in particular, one that set a particular knitr hook, `doc$knitr$knitr_hooks$metayer_hook = knitr_metayer_hook`.  \n",
    "\n",
    "This approach has since been refactored away, but it remains a viable solution to the original problem."
   ]
  },
  {
   "cell_type": "code",
   "execution_count": null,
   "id": "ed2aff1c-b3a2-4521-8991-38d820685341",
   "metadata": {},
   "outputs": [],
   "source": []
  }
 ],
 "metadata": {
  "kernelspec": {
   "display_name": "R",
   "language": "R",
   "name": "ir"
  },
  "language_info": {
   "codemirror_mode": "r",
   "file_extension": ".r",
   "mimetype": "text/x-r-source",
   "name": "R",
   "pygments_lexer": "r",
   "version": "4.4.0"
  }
 },
 "nbformat": 4,
 "nbformat_minor": 5
}
