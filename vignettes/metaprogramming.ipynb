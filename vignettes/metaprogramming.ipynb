{
 "cells": [
  {
   "cell_type": "raw",
   "id": "dc5afb5b-5ae3-4f3f-abf9-290aedee8aca",
   "metadata": {},
   "source": [
    "---\n",
    "title: \"metaprogramming\"\n",
    "---"
   ]
  },
  {
   "cell_type": "markdown",
   "id": "82f4e064-15eb-4e2b-8d86-bebd0e41e0c4",
   "metadata": {},
   "source": [
    "metayer provides two methods for easing metaprogramming tasks, `wrapped_factory` and `with_monkey_patch`."
   ]
  },
  {
   "cell_type": "markdown",
   "id": "01cc150b-0765-4f94-8708-eca9338c0b61",
   "metadata": {},
   "source": [
    "## wrapped_factory\n",
    "\n",
    "It's easier to start with `wrapped_factory` which will allow us to wrap existing functions. One feature of `wrapped_factory` is that it replicates the wrapped function's signature, including default values and parameters that would otherwise be lazily evaluated.  \n",
    "\n",
    "We note that wrappers should adopt the form `function(cmd, args, ...)`.  `wrapped_factory` will substitute `cmd` and `args` in the wrapped function.  `...` may be replaced with key-value pairs which will be available in the wrapper scope.\n",
    "\n",
    "An example should be illustrative.  Let's define a wrapper that adds printf debugging to an existing function.  "
   ]
  },
  {
   "cell_type": "code",
   "execution_count": 51,
   "id": "2de1c86d-e96e-4891-8546-7c44b780f315",
   "metadata": {},
   "outputs": [],
   "source": [
    "# a simple \"debug\" wrapper\n",
    "debug_wrapper <- function(cmd, args, label = NULL) { \n",
    "  \n",
    "  # emit debugging information\n",
    "  sprintf(\">>> called '%s'\\n\", label) %>%\n",
    "    cat(file = stdout())\n",
    "\n",
    "  # call the original function\n",
    "  do.call(cmd, args)\n",
    "}"
   ]
  },
  {
   "cell_type": "markdown",
   "id": "a1c352ed-758b-4adc-ba49-425efee7978f",
   "metadata": {},
   "source": [
    "We'll apply this wrapper to a simple function:"
   ]
  },
  {
   "cell_type": "code",
   "execution_count": 52,
   "id": "b5dd6fc3-76fd-46aa-a43f-99877d766757",
   "metadata": {},
   "outputs": [],
   "source": [
    "# a very simple function\n",
    "sum <- function(x, y) x + y"
   ]
  },
  {
   "cell_type": "markdown",
   "id": "606f2b45-2a2e-4e2c-aaa5-0f8bdc2de821",
   "metadata": {},
   "source": [
    "Now, invoke the `wrapped_factory` machinery to produce a wrapped function.  This will print the debugging information on stdout and the return the result."
   ]
  },
  {
   "cell_type": "code",
   "execution_count": 53,
   "id": "a868f639-4cab-4ad7-ad25-9a0cd7185a43",
   "metadata": {},
   "outputs": [
    {
     "name": "stdout",
     "output_type": "stream",
     "text": [
      ">>> called '..sum..'\n"
     ]
    },
    {
     "data": {
      "text/html": [
       "3"
      ],
      "text/latex": [
       "3"
      ],
      "text/markdown": [
       "3"
      ],
      "text/plain": [
       "[1] 3"
      ]
     },
     "metadata": {},
     "output_type": "display_data"
    }
   ],
   "source": [
    "dbg_sum <- wrapped_factory(\"sum\", debug_wrapper, label = \"..sum..\")\n",
    "dbg_sum(1, 2)"
   ]
  },
  {
   "cell_type": "markdown",
   "id": "fa78c20e-d59d-44da-83fb-5854039da1ff",
   "metadata": {},
   "source": [
    "It's instructive to inspect the structure of `dbg_sum`.  It has the same function signature as the original function; the body of the function is `debug_wrapper` with adapted `cmd` and `args`.  Specifically, `cmd` has been replaced with `sum`, and `args` has been replaced with a symbol-mapped list.  `wrapped_factory` makes these changes with the `substitute` function, and these replacements will happen wherever these symbols are found in the wrapper code."
   ]
  },
  {
   "cell_type": "code",
   "execution_count": 54,
   "id": "59f6b19d-d410-4a6b-91a4-e5d102ffdf17",
   "metadata": {},
   "outputs": [
    {
     "data": {
      "text/html": [
       "<pre class=language-r><code>function (x, y) \n",
       "{\n",
       "<span style=white-space:pre-wrap>    sprintf(\"&gt;&gt;&gt; called '%s'\\n\", label) %&gt;% cat(file = stdout())</span>\n",
       "<span style=white-space:pre-wrap>    do.call(sum, list(x = x, y = y))</span>\n",
       "}</code></pre>"
      ],
      "text/latex": [
       "\\begin{minted}{r}\n",
       "function (x, y) \n",
       "\\{\n",
       "    sprintf(\">>> called '\\%s'\\textbackslash{}n\", label) \\%>\\% cat(file = stdout())\n",
       "    do.call(sum, list(x = x, y = y))\n",
       "\\}\n",
       "\\end{minted}"
      ],
      "text/markdown": [
       "```r\n",
       "function (x, y) \n",
       "{\n",
       "    sprintf(\">>> called '%s'\\n\", label) %>% cat(file = stdout())\n",
       "    do.call(sum, list(x = x, y = y))\n",
       "}\n",
       "```"
      ],
      "text/plain": [
       "function (x, y) \n",
       "{\n",
       "    sprintf(\">>> called '%s'\\n\", label) %>% cat(file = stdout())\n",
       "    do.call(sum, list(x = x, y = y))\n",
       "}\n",
       "<environment: 0x57a85b33e8e0>"
      ]
     },
     "metadata": {},
     "output_type": "display_data"
    }
   ],
   "source": [
    "dbg_sum"
   ]
  },
  {
   "cell_type": "markdown",
   "id": "072d0c99-0555-41c1-a9df-5ebb92e5e2c8",
   "metadata": {},
   "source": [
    "## with_monkey_patch\n",
    "\n",
    "`with_monkey_patch` does roughly the same thing as `wrapped_factory`, but it is applied to functions defined in a namespace and only temporarily.  Changes will be restored on exit."
   ]
  },
  {
   "cell_type": "markdown",
   "id": "93871caa-6b8a-497a-92c1-3e98f6657f98",
   "metadata": {},
   "source": [
    "The following is a simple example.  Consider the behavior of \"base::Sys.time\": it captures the local time zone in its output."
   ]
  },
  {
   "cell_type": "code",
   "execution_count": 55,
   "id": "18c0a4a4-2da3-40bc-913a-146091dc4391",
   "metadata": {},
   "outputs": [
    {
     "data": {
      "text/plain": [
       "[1] \"2024-09-25 17:24:41 PDT\""
      ]
     },
     "metadata": {},
     "output_type": "display_data"
    }
   ],
   "source": [
    "# e.g., \"PDT\" in Seattle.\n",
    "Sys.time()"
   ]
  },
  {
   "cell_type": "markdown",
   "id": "84e4afac-a305-4c86-abdf-0ecced67da4f",
   "metadata": {},
   "source": [
    "That means that a function, like the one below, is inherently broken.  It's an inflexible implementation, only meaningful in a single, fixed timezone determined apriori."
   ]
  },
  {
   "cell_type": "code",
   "execution_count": 58,
   "id": "a73e8843-eaf6-4d0c-9e2c-ae51d5611fb7",
   "metadata": {},
   "outputs": [
    {
     "data": {
      "text/html": [
       "'2024-09-25 17:28:30.098578'"
      ],
      "text/latex": [
       "'2024-09-25 17:28:30.098578'"
      ],
      "text/markdown": [
       "'2024-09-25 17:28:30.098578'"
      ],
      "text/plain": [
       "[1] \"2024-09-25 17:28:30.098578\""
      ]
     },
     "metadata": {},
     "output_type": "display_data"
    }
   ],
   "source": [
    "# hmm...\n",
    "get_time_string <- function() {\n",
    "  Sys.time() %>% as.character()\n",
    "}\n",
    "get_time_string()"
   ]
  },
  {
   "cell_type": "markdown",
   "id": "8882ba6b-91c7-4f2c-97c8-c6ad55682f1b",
   "metadata": {},
   "source": [
    "`with_monkey_patch` allows us to to fix `get_time_string` indirectly.  It does this by temporarily modifying the behavior of `base::Sys.time` in a scoped block of client code.  Here, calls to `base::Sys.time` will return UTC."
   ]
  },
  {
   "cell_type": "code",
   "execution_count": 59,
   "id": "137484d2-f910-42cd-a3af-5cbfd75a0ac9",
   "metadata": {},
   "outputs": [
    {
     "data": {
      "text/html": [
       "'2024-09-26 00:28:30.891123'"
      ],
      "text/latex": [
       "'2024-09-26 00:28:30.891123'"
      ],
      "text/markdown": [
       "'2024-09-26 00:28:30.891123'"
      ],
      "text/plain": [
       "[1] \"2024-09-26 00:28:30.891123\""
      ]
     },
     "metadata": {},
     "output_type": "display_data"
    }
   ],
   "source": [
    "# changes the behavior of base::Sys.time so that it returns UTC\n",
    "with_monkey_patch(\n",
    "  \"base::Sys.time\",\n",
    "  # \n",
    "  wrapper = function(cmd, args, func) {    \n",
    "    t <- do.call(func, args)\n",
    "    .POSIXct(t, \"UTC\")\n",
    "  },\n",
    "  {\n",
    "    # scoped block: (nested) calls to Sys.time only take effect here\n",
    "    get_time_string()\n",
    "  }\n",
    ")"
   ]
  },
  {
   "cell_type": "code",
   "execution_count": 61,
   "id": "dd593ff2-9816-4da5-a8c9-3dce211814f9",
   "metadata": {},
   "outputs": [
    {
     "data": {
      "text/html": [
       "'2024-09-25 17:28:43.390825'"
      ],
      "text/latex": [
       "'2024-09-25 17:28:43.390825'"
      ],
      "text/markdown": [
       "'2024-09-25 17:28:43.390825'"
      ],
      "text/plain": [
       "[1] \"2024-09-25 17:28:43.390825\""
      ]
     },
     "metadata": {},
     "output_type": "display_data"
    }
   ],
   "source": [
    "# check that the original behavior is restored\n",
    "get_time_string()"
   ]
  },
  {
   "cell_type": "markdown",
   "id": "c92f680e-fe59-4cb5-9e77-7dba799c026f",
   "metadata": {},
   "source": [
    "### a real example\n",
    "\n",
    "While the above would hopefully never happen in production code, there are examples where the monkey patch machinery is useful for modifying an object created deep in a call stack.  \n",
    "\n",
    "metayer initially used this monkey patching pattern to affix knitr hooks to rmarkdown documents.  Specifically, `pkgdown::build_article` invokes `rmarkdown::html_document`, but does so deep in the call stack and with limited configurability.  Our scenario requires a knitr hook to be installed, and while it is trivial to modify an html_document object for this purpose, access to this object wasn't exposed through the pkgdown API.  One proposal was to monkey patch the behavior of `rmarkdown::html_document` so that it included the post-processing steps that were required.\n",
    "\n",
    "Ultimately, the monkey patching approach for `rmarkdown::html_document` was refactored away, but, for a time, it provided a viable solution to the original problem."
   ]
  },
  {
   "cell_type": "code",
   "execution_count": null,
   "id": "ed2aff1c-b3a2-4521-8991-38d820685341",
   "metadata": {},
   "outputs": [],
   "source": []
  }
 ],
 "metadata": {
  "kernelspec": {
   "display_name": "R",
   "language": "R",
   "name": "ir"
  },
  "language_info": {
   "codemirror_mode": "r",
   "file_extension": ".r",
   "mimetype": "text/x-r-source",
   "name": "R",
   "pygments_lexer": "r",
   "version": "4.4.0"
  }
 },
 "nbformat": 4,
 "nbformat_minor": 5
}
