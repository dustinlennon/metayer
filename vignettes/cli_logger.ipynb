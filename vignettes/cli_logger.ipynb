{
 "cells": [
  {
   "cell_type": "raw",
   "id": "73b13b7b-0f85-4a5c-8bc2-c8c0e3e74ef4",
   "metadata": {},
   "source": [
    "---\n",
    "title: \"metayer: folding cli into logger\"\n",
    "output: rmarkdown::html_vignette\n",
    "vignette: >\n",
    "  %\\VignetteIndexEntry{metayer: folding cli into logger}\n",
    "  %\\VignetteEngine{knitr::rmarkdown}\n",
    "  %\\VignetteEncoding{UTF-8}\n",
    "---"
   ]
  },
  {
   "cell_type": "markdown",
   "id": "7319a698-835c-4377-81f0-ddad24095b43",
   "metadata": {},
   "source": [
    "As prototypes evolve into robust software, one common challenge is to smoothly phase out less scalable development patterns.  In the world of the tidyverse, scripts often leverage the `cli` package for logging purposes.  As things evolve and these scripts are refactored, it may be useful to fold `cli` output into a more structured logging environment.  `metayer` makes this transition relatively painless, and this vignette walks through the process."
   ]
  },
  {
   "cell_type": "markdown",
   "id": "8f579984-01e5-428a-a814-4f5ae32c327e",
   "metadata": {},
   "source": [
    "### load the metayer package "
   ]
  },
  {
   "cell_type": "code",
   "execution_count": null,
   "id": "d288c307-a26b-470c-a480-898245b09c11",
   "metadata": {},
   "outputs": [],
   "source": [
    "# load metayer package\n",
    "suppressMessages(\n",
    "  devtools::load_all()\n",
    ")"
   ]
  },
  {
   "cell_type": "markdown",
   "id": "5423edf1-2a59-4959-8b9a-0de6fc0fb677",
   "metadata": {},
   "source": [
    "## logger basics"
   ]
  },
  {
   "cell_type": "markdown",
   "id": "8fae5839-28da-4d84-b1ba-4cd1b72f1ecf",
   "metadata": {},
   "source": [
    "The logger package documentation is at [https://daroczig.github.io/logger](https://daroczig.github.io/logger).\n",
    "\n",
    "Logs are organized by namespace, the idea being that some base configuration is adapted across new namespaces.  This makes it relatively easy to manage multiple streams of logs.  To start, the pattern is typically:"
   ]
  },
  {
   "cell_type": "code",
   "execution_count": null,
   "id": "bc0b2b14-5d54-4abf-b149-2193a0a77fb7",
   "metadata": {},
   "outputs": [],
   "source": [
    "log_threshold(INFO)\n",
    "log_appender(appender_stdout) # in jupyter, for example\n",
    "log_info(\"hello world\")"
   ]
  },
  {
   "cell_type": "markdown",
   "id": "b7990665-f69d-4329-b0c6-a5437ea3d26a",
   "metadata": {},
   "source": [
    "If we want to change the layout, say, to show the namespace:"
   ]
  },
  {
   "cell_type": "code",
   "execution_count": null,
   "id": "a7c03871-dcea-44a4-9bed-499e49653d61",
   "metadata": {},
   "outputs": [],
   "source": [
    "log_layout(\n",
    "  layout_glue_generator(\n",
    "    format = \"{ns} {level} [{format(time, \\\"%Y-%m-%d %H:%M:%S\\\")}] {msg}\"\n",
    "  )\n",
    ")\n",
    "log_info(\"a new format, with namespaces\")"
   ]
  },
  {
   "cell_type": "markdown",
   "id": "7bdb9dd2-bb8b-4b47-81ce-6072ed8b652f",
   "metadata": {},
   "source": [
    "Or, perhaps we want send logs to a file.  This can be accomplished with a new, \"logfile\", namespace."
   ]
  },
  {
   "cell_type": "code",
   "execution_count": null,
   "id": "664588c4-2493-4310-a1b4-a9f38b209903",
   "metadata": {},
   "outputs": [],
   "source": [
    "tmp <- tempfile()\n",
    "\n",
    "log_appender(\n",
    "    appender_file(tmp),\n",
    "    namespace = \"logfile\"\n",
    ")\n",
    "log_info(\"to the filesystem\", namespace = \"logfile\")\n",
    "\n",
    "# read from the temporary file\n",
    "msg <- xfun::read_utf8(tmp)\n",
    "cat(msg, \"\\n\")"
   ]
  },
  {
   "cell_type": "markdown",
   "id": "4808ab2b-b9c6-4792-8d8c-5b115a204c9c",
   "metadata": {},
   "source": [
    "## cli\n",
    "\n",
    "For scripts that already leverage the `cli` package, `metayer` provides some easy shims to redirect cli messages into logger.  These shims use the `cli.default_handler` hook:"
   ]
  },
  {
   "cell_type": "code",
   "execution_count": null,
   "id": "9ef261c8-a487-4e0c-bbb2-40424b8985c4",
   "metadata": {},
   "outputs": [],
   "source": [
    "options(cli.default_handler = logged_cli_handler)"
   ]
  },
  {
   "cell_type": "markdown",
   "id": "37d9039c-b9e7-4a03-a5bb-ab67022421f7",
   "metadata": {},
   "source": [
    "As before,"
   ]
  },
  {
   "cell_type": "code",
   "execution_count": null,
   "id": "02c97117-3853-4fde-a458-b312139d5230",
   "metadata": {},
   "outputs": [],
   "source": [
    "logger_reset()\n",
    "log_info(\"hello world\")"
   ]
  },
  {
   "cell_type": "markdown",
   "id": "d98c9e7b-2a6c-4189-a8c1-5c6a32e7d2d8",
   "metadata": {},
   "source": [
    "However, calling `cli_text`, a wrapped version of `cli::cli_text` produces output on two new namespaces:"
   ]
  },
  {
   "cell_type": "code",
   "execution_count": null,
   "id": "28905bc9-10ee-4a6d-a7ed-321a16d9b29f",
   "metadata": {},
   "outputs": [],
   "source": [
    "cli_text(\"a cli output\")"
   ]
  },
  {
   "cell_type": "markdown",
   "id": "89c3fdd1-75cc-49f3-a5f7-8e59198cf7c6",
   "metadata": {},
   "source": [
    "The first is from a function in the `metayer` package namespace; in fact, the `logged_cli_handler` function.  The second is to a namespace called `global.cli` (*sic*) which indicates that a cli function was called in the global environment.  Or at least that's what you'd see if you were in an interpreter.  However, what you'll see in this document is `metayer.cli`, as the vignette is built in the package namespace, not the global namespace."
   ]
  },
  {
   "cell_type": "markdown",
   "id": "3b975b2e-7b96-404c-9cfb-9ea8780f677b",
   "metadata": {},
   "source": [
    "### lower level logging\n",
    "\n",
    "Suppose we wanted to examine lower level logging but only in the `metayer` package.  The following will suffice:"
   ]
  },
  {
   "cell_type": "code",
   "execution_count": null,
   "id": "6df7ca5b-9dd3-4635-9f9a-0fff416c658c",
   "metadata": {},
   "outputs": [],
   "source": [
    "log_threshold(TRACE, namespace = \"metayer\")\n",
    "cli_text(\"a cli output\")\n",
    "\n",
    "# restore the previous threshold\n",
    "log_threshold(INFO, namespace = \"metayer\")"
   ]
  },
  {
   "cell_type": "markdown",
   "id": "6df15c80-dc97-4502-917f-4a28a0907456",
   "metadata": {},
   "source": [
    "## appendix:  wrapping via metaprogramming\n",
    "\n",
    "Each `cli` function is wrapped with logic that captures conditions and sends the corresponding condition messages into the `logger` machinery.  This all happens in the `cli-wrapped.R` source file, and there are scripts that automate this process.  In particular, these scripts generate entries like the following:"
   ]
  },
  {
   "cell_type": "markdown",
   "id": "bc6983f7-aee3-4602-837a-2d8a9cfee837",
   "metadata": {},
   "source": [
    "```R\n",
    "cli_alert <- cli_wrap_safe(\"cli_alert\", logger::INFO)\n",
    "```"
   ]
  },
  {
   "cell_type": "markdown",
   "id": "515cf96b-eaca-4832-9a3e-2e84d1590de5",
   "metadata": {},
   "source": [
    "where `cli_wrap_safe` manages the details.  The wrapping logic lives in the `wrap_cli_body` function.  This is interesting because it's called both directly and via a metaprogramming substitution."
   ]
  },
  {
   "cell_type": "code",
   "execution_count": null,
   "id": "abb9397f-e95e-4edb-b948-ed2c8c784e40",
   "metadata": {},
   "outputs": [],
   "source": [
    "code <- capture_output(print(wrap_cli_body)) %>%\n",
    "    gsub(\"<environment: .*>\", \"\", .)\n",
    "display_source(\n",
    "    code,\n",
    "    raw = TRUE\n",
    ")"
   ]
  },
  {
   "cell_type": "markdown",
   "id": "b9458fbf-38bc-4945-ab7b-324281d50a78",
   "metadata": {},
   "source": [
    "Compare, for example, to the implementation of our wrapped `cli_text` function.  Note the substitution within the conditional block that generates `outer_cnd`.  `cmd` is replaced by `cli::cli_text(..., .envir = .envir)`."
   ]
  },
  {
   "cell_type": "code",
   "execution_count": null,
   "id": "93fe72d6-4bd0-4162-874e-84e152375706",
   "metadata": {},
   "outputs": [],
   "source": [
    "code <- deparse(cli_text) %>% paste0(collapse = \"\\n\")\n",
    "display_source(\n",
    "    code,\n",
    "    raw = TRUE\n",
    ")"
   ]
  }
 ],
 "metadata": {
  "kernelspec": {
   "display_name": "R",
   "language": "R",
   "name": "ir"
  },
  "language_info": {
   "codemirror_mode": "r",
   "file_extension": ".r",
   "mimetype": "text/x-r-source",
   "name": "R",
   "pygments_lexer": "r",
   "version": "4.4.1"
  }
 },
 "nbformat": 4,
 "nbformat_minor": 5
}
