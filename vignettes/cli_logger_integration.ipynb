{
 "cells": [
  {
   "cell_type": "raw",
   "id": "35d445b3-ad06-4f8a-8f4b-c68fa87799fd",
   "metadata": {},
   "source": [
    "---\n",
    "title: \"cli logger integration\"\n",
    "output:\n",
    "  html_document:\n",
    "    theme: cerulean\n",
    "    highlight: espresso\n",
    "---"
   ]
  },
  {
   "cell_type": "markdown",
   "id": "58a01c1c-325d-494c-9186-ff1b96c262ee",
   "metadata": {},
   "source": [
    "First things first.  Load the package."
   ]
  },
  {
   "cell_type": "code",
   "execution_count": 1,
   "id": "1b64924b-02bf-4b32-ad50-2492fd657451",
   "metadata": {},
   "outputs": [],
   "source": [
    "Sys.setenv(R_CONFIG_ACTIVE = \"jupyter\")\n",
    "suppressMessages({\n",
    "  devtools::load_all()\n",
    "  data(pcd)\n",
    "})"
   ]
  },
  {
   "cell_type": "markdown",
   "id": "e3ccc054-a22c-447e-a3b6-d106a991a2c9",
   "metadata": {},
   "source": [
    "## cli / logger integration\n",
    "\n",
    "As code shifts from prototype to production, logging becomes important.  Given the ubiquity of the [cli package](https://cli.r-lib.org/reference/index.html), it would be nice if messages that were originally headed for an interactive terminal were seamlessly redirected into the logs."
   ]
  },
  {
   "cell_type": "markdown",
   "id": "0e3fdfd7-43b5-48c4-9a95-e677650792f3",
   "metadata": {},
   "source": [
    "We utilize the default_handler machinery available in the cli package, and this option is set when metayer is loaded.  So we must unset the option in order to observe the default behavior:"
   ]
  },
  {
   "cell_type": "markdown",
   "id": "1f18fafa-64b3-4c60-a5ea-4a8d6b8f4e31",
   "metadata": {},
   "source": [
    "### vanilla cli"
   ]
  },
  {
   "cell_type": "markdown",
   "id": "d20d1f10-c815-472d-a673-547f3202a63f",
   "metadata": {},
   "source": [
    "We utilize the default handler machinery available in the cli package, and this is put in place when metayer is loaded.  To recover the usual behavior, the `cli.default_handler` option must be cleared."
   ]
  },
  {
   "cell_type": "code",
   "execution_count": 2,
   "id": "c6b93eea-b8a8-4d0b-95ec-3c5d90e7fa24",
   "metadata": {},
   "outputs": [
    {
     "name": "stderr",
     "output_type": "stream",
     "text": [
      "\u001b[33m!\u001b[39m a message to our listeners\n",
      "\n"
     ]
    }
   ],
   "source": [
    "# default behavior of cli_alert_warning\n",
    "withr::with_options(\n",
    "  list(cli.default_handler = NULL), \n",
    "  cli::cli_alert_warning(\"a message to our listeners\")          \n",
    ")"
   ]
  },
  {
   "cell_type": "markdown",
   "id": "ff9182f4-ccad-4eaf-8a94-518e5120a3ae",
   "metadata": {},
   "source": [
    "### setting cli.default_handler"
   ]
  },
  {
   "cell_type": "markdown",
   "id": "bb6923c4-2316-42b1-9ce2-a06fb9aa2436",
   "metadata": {},
   "source": [
    "With the metayer handler set, we obtain something similar, but now with an attempt at delivering contextual information.  In particular, Jupyter returns a log record:  \"[INFO-unknown]\", followed by the message."
   ]
  },
  {
   "cell_type": "code",
   "execution_count": 3,
   "id": "de283253-c027-4bf7-96c9-8b496e0f0440",
   "metadata": {},
   "outputs": [
    {
     "name": "stderr",
     "output_type": "stream",
     "text": [
      "[INFO/unknown] x a whisper of danger for our viewers\n"
     ]
    }
   ],
   "source": [
    "cli::cli_alert_danger(\"a whisper of danger for our viewers\")"
   ]
  },
  {
   "cell_type": "markdown",
   "id": "6903b023-74cd-4574-95d9-c19a8ac015a1",
   "metadata": {},
   "source": [
    "We can show that our machinery also persists messages in the logs."
   ]
  },
  {
   "cell_type": "code",
   "execution_count": 4,
   "id": "fdbdaa07-777f-4bb7-a6a6-6a2abb60b288",
   "metadata": {},
   "outputs": [
    {
     "name": "stdout",
     "output_type": "stream",
     "text": [
      "[INFO/unknown] ! an understated warning for our members"
     ]
    }
   ],
   "source": [
    "# create a read/write context for a logfile\n",
    "tmp = tempfile()\n",
    "invisible(\n",
    "  with_wrapped_logger(\n",
    "    {\n",
    "      suppressMessages(\n",
    "        cli::cli_alert_warning(\"an understated warning for our members\")\n",
    "      )\n",
    "    },\n",
    "    logfile = tmp,\n",
    "    namespace = \"unknown\"\n",
    "  )\n",
    ")\n",
    "\n",
    "cat(\n",
    "  xfun::read_utf8(tmp)\n",
    ")"
   ]
  },
  {
   "cell_type": "markdown",
   "id": "b92f44cc-2474-4c92-bf34-639c20eff992",
   "metadata": {},
   "source": [
    "### enriching the context\n",
    "\n",
    "In the above examples, \"[INFO-unknown]\" doesn't add much.  However, the metayer versions of these functions do:"
   ]
  },
  {
   "cell_type": "code",
   "execution_count": 5,
   "id": "924abd7f-28c1-42be-bf2c-fa7cac4d97c9",
   "metadata": {},
   "outputs": [
    {
     "name": "stderr",
     "output_type": "stream",
     "text": [
      "[WARN/global.cli] ! a proper warning for our VIPs\n"
     ]
    }
   ],
   "source": [
    "cli_alert_warning(\"a proper warning for our VIPs\")"
   ]
  },
  {
   "cell_type": "markdown",
   "id": "57342c8e-b019-41cb-8132-e9fce9587923",
   "metadata": {},
   "source": [
    "Now we see that the alert warning produces a log record with a WARN level.  We also observe an environment context, \"global.cli\".  One can contrast the \"global\" environment with a direct call into logger:"
   ]
  },
  {
   "cell_type": "code",
   "execution_count": 6,
   "id": "33fbfdea-052a-4b91-a1a1-0411ceb74fb7",
   "metadata": {},
   "outputs": [
    {
     "name": "stderr",
     "output_type": "stream",
     "text": [
      "[WARN/global] a proper warning for our VIPs on another channel\n"
     ]
    }
   ],
   "source": [
    "log_warn(\"a proper warning for our VIPs on another channel\")"
   ]
  },
  {
   "cell_type": "markdown",
   "id": "04502713-a0b4-4782-9eae-55bdd7357827",
   "metadata": {},
   "source": [
    "If the log record originates from a cli call, it will have the \".cli\" suffix.  Otherwise, it will carry the name of the namespace in which it was defined.  A contrived example below shows the pattern, e.g. \"metayer.cli\":"
   ]
  },
  {
   "cell_type": "code",
   "execution_count": 7,
   "id": "868b68a5-1d14-4742-8527-99952fa8f9d4",
   "metadata": {},
   "outputs": [
    {
     "name": "stderr",
     "output_type": "stream",
     "text": [
      "[ERROR/metayer.cli] x a cry for help to our fearless leaders\n"
     ]
    }
   ],
   "source": [
    "foo <- function() cli_alert_danger(\"a cry for help to our fearless leaders\")\n",
    "environment(foo) <- asNamespace(\"metayer\")\n",
    "foo()"
   ]
  },
  {
   "cell_type": "markdown",
   "id": "b5d42eea-c3cd-484a-8fd4-68f044697bc7",
   "metadata": {},
   "source": [
    "## glue semantics\n",
    "\n",
    "Of course, these wrapped functions are designed to implement the glue semantics that the usual cli functions enjoy."
   ]
  },
  {
   "cell_type": "code",
   "execution_count": 8,
   "id": "4d034b26-702d-4c8e-b5a3-ddc9a6d27eb4",
   "metadata": {},
   "outputs": [
    {
     "name": "stderr",
     "output_type": "stream",
     "text": [
      "[INFO/global.cli] i foo <null> bar\n"
     ]
    }
   ],
   "source": [
    "v1 = \"foo\"\n",
    "v2 = NULL\n",
    "v3 = \"bar\"\n",
    "\n",
    "cli_alert_info(\"{v1} {v2} {v3}\")"
   ]
  },
  {
   "cell_type": "markdown",
   "id": "c6c8b1c3-b999-43ae-a413-ed596b241318",
   "metadata": {},
   "source": [
    "There is one notable change, and that is that we introduce \"<null>\" in place of NULL values.  This behavior can be adjusted with the `mty.cli_null` option defined in the config.yml file."
   ]
  }
 ],
 "metadata": {
  "kernelspec": {
   "display_name": "R",
   "language": "R",
   "name": "ir"
  },
  "language_info": {
   "codemirror_mode": "r",
   "file_extension": ".r",
   "mimetype": "text/x-r-source",
   "name": "R",
   "pygments_lexer": "r",
   "version": "4.4.0"
  }
 },
 "nbformat": 4,
 "nbformat_minor": 5
}
