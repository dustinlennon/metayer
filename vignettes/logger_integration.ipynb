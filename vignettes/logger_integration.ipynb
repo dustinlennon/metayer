{
 "cells": [
  {
   "cell_type": "raw",
   "id": "35d445b3-ad06-4f8a-8f4b-c68fa87799fd",
   "metadata": {},
   "source": [
    "---\n",
    "title: \"logger integration\"\n",
    "---"
   ]
  },
  {
   "cell_type": "markdown",
   "id": "e3ccc054-a22c-447e-a3b6-d106a991a2c9",
   "metadata": {},
   "source": [
    "## logging\n",
    "\n",
    "As code shifts from prototype to production, logging becomes important.  Given the ubiquity of the [cli](https://cli.r-lib.org/reference/index.html) and [logger](https://daroczig.github.io/logger/) packages, it would be helpful to have the option of routing cli output directly into the logs.  More generally, any code that generates conditions--messages, warnings, and errors--should be easily loggable as well.  To address this concern, metayer provides a `with_logger` function and uses it to wrap many of the cli functions."
   ]
  },
  {
   "cell_type": "code",
   "execution_count": 5,
   "id": "12b296c7-64a6-4653-ad55-60f667a682d9",
   "metadata": {},
   "outputs": [
    {
     "data": {
      "application/vnd.jupyter.stderr": "[INFO/global] → use cli methods to route output into the logs"
     },
     "metadata": {},
     "output_type": "display_data"
    },
    {
     "data": {
      "application/vnd.jupyter.stderr": "[ERROR/global] abort: an error"
     },
     "metadata": {},
     "output_type": "display_data"
    },
    {
     "data": {
      "application/vnd.jupyter.stderr": "[ERROR/global] error: handled"
     },
     "metadata": {},
     "output_type": "display_data"
    },
    {
     "data": {
      "application/vnd.jupyter.stderr": "[INFO/global] a logged message"
     },
     "metadata": {},
     "output_type": "display_data"
    }
   ],
   "source": [
    "## tl;dr\n",
    "\n",
    "cli_alert(\"use cli methods to route output into the logs\") %>%\n",
    "  suppressMessages()\n",
    "\n",
    "tryCatch(\n",
    "  cli_abort(\"abort: an error\"),\n",
    "  error = function(m) {\n",
    "    log_error(\"error: handled\")\n",
    "    invisible(NULL)\n",
    "  }\n",
    ")\n",
    "\n",
    "msg <- with_logger({\n",
    "  message(\"a logged message\")\n",
    "}) %>%\n",
    "  catch_cnd()"
   ]
  },
  {
   "cell_type": "markdown",
   "id": "27e940e1-d53a-4464-a2eb-df45a2f33347",
   "metadata": {},
   "source": [
    "## with_logger\n",
    "\n",
    "`with_logger` provides explicit logging.  Internally, this uses `withCallingHandlers`, so conditions are processed with a log entry before being propagated to the next handler.  This results in the visibility of both the log entry as well as the message."
   ]
  },
  {
   "cell_type": "code",
   "execution_count": 6,
   "id": "cc9236fe-c94f-4197-bc37-359698e90e05",
   "metadata": {},
   "outputs": [
    {
     "data": {
      "application/vnd.jupyter.stderr": "[INFO/global] a logged message"
     },
     "metadata": {},
     "output_type": "display_data"
    },
    {
     "name": "stderr",
     "output_type": "stream",
     "text": [
      "a logged message\n",
      "\n"
     ]
    }
   ],
   "source": [
    "# explicity logging\n",
    "with_logger({\n",
    "  message(\"a logged message\")\n",
    "})"
   ]
  },
  {
   "cell_type": "markdown",
   "id": "1f18fafa-64b3-4c60-a5ea-4a8d6b8f4e31",
   "metadata": {},
   "source": [
    "## cli wrappers"
   ]
  },
  {
   "cell_type": "markdown",
   "id": "d20d1f10-c815-472d-a673-547f3202a63f",
   "metadata": {},
   "source": [
    "metayer uses some metadata magic to wrap cli functions.  This imbues them with logging functionality.  \n",
    "\n",
    "metayer also utilizes the `cli.default_handler` option provided by the cli package.  This upgrades glue semantics to generate visible NULL values and is useful when debugging.\n",
    "\n",
    "We consider the available variants of `cli_alert_warning`, starting with cli's default behavior."
   ]
  },
  {
   "cell_type": "code",
   "execution_count": 8,
   "id": "c6b93eea-b8a8-4d0b-95ec-3c5d90e7fa24",
   "metadata": {},
   "outputs": [
    {
     "name": "stderr",
     "output_type": "stream",
     "text": [
      "\u001b[33m!\u001b[39m a message without a visible null: ''\n",
      "\n"
     ]
    }
   ],
   "source": [
    "# default behavior of cli_alert_warning\n",
    "withr::with_options(\n",
    "  list(cli.default_handler = NULL), \n",
    "  cli::cli_alert_warning(\"a message without a visible null: '{NULL}'\")          \n",
    ")"
   ]
  },
  {
   "cell_type": "markdown",
   "id": "ff9182f4-ccad-4eaf-8a94-518e5120a3ae",
   "metadata": {},
   "source": [
    "## cli.default_handler - visible nulls"
   ]
  },
  {
   "cell_type": "markdown",
   "id": "bb6923c4-2316-42b1-9ce2-a06fb9aa2436",
   "metadata": {},
   "source": [
    "When using the default metayer handler--`cli_nullity_handler`--we see that NULL values are handled differently.  We can also customize this behavior."
   ]
  },
  {
   "cell_type": "code",
   "execution_count": 9,
   "id": "de283253-c027-4bf7-96c9-8b496e0f0440",
   "metadata": {},
   "outputs": [
    {
     "name": "stderr",
     "output_type": "stream",
     "text": [
      "\u001b[33m!\u001b[39m a message with a default null: '<null>'\n",
      "\n",
      "\u001b[33m!\u001b[39m a message with a custom null: 'NULL'\n",
      "\n"
     ]
    }
   ],
   "source": [
    "# visible null, default\n",
    "cli::cli_alert_warning(\"a message with a default null: '{NULL}'\") \n",
    "\n",
    "# visible null, customized\n",
    "withr::with_options(\n",
    "  list(mty.cli_null = \"NULL\"),\n",
    "  cli::cli_alert_warning(\"a message with a custom null: '{NULL}'\") \n",
    ")"
   ]
  },
  {
   "cell_type": "markdown",
   "id": "102cd03b-df12-4ee2-9e95-154a14a6325e",
   "metadata": {},
   "source": [
    "## explicitly logged cli functions\n",
    "\n",
    "If we were willing to, we could apply `wrap_logger` to every cli call."
   ]
  },
  {
   "cell_type": "code",
   "execution_count": 24,
   "id": "a82cd12f-54d2-499e-a277-990ffdaff0fb",
   "metadata": {},
   "outputs": [
    {
     "data": {
      "application/vnd.jupyter.stderr": "[INFO/global] ! a logged message from 'cli::cli_alert_warning'"
     },
     "metadata": {},
     "output_type": "display_data"
    },
    {
     "name": "stderr",
     "output_type": "stream",
     "text": [
      "\u001b[33m!\u001b[39m a logged message from 'cli::cli_alert_warning'\n",
      "\n"
     ]
    }
   ],
   "source": [
    "# logging\n",
    "with_logger(\n",
    "  cli::cli_alert_warning(\"a logged message from 'cli::cli_alert_warning'\")\n",
    ")"
   ]
  },
  {
   "cell_type": "markdown",
   "id": "2ea24446-f78f-4466-92c0-d7d1e0ad28e9",
   "metadata": {},
   "source": [
    "It's odd to see a function named `cli_alert_warning` producing a log with an *INFO* threshold.  This is easily amended. To ensure that the logger level is aligned with the naming implications of the cli function, use the `level` parameter.  Now `cli_alert_warning` is producing a *WARN* entry in the logs."
   ]
  },
  {
   "cell_type": "code",
   "execution_count": 25,
   "id": "93a58e7b-4f72-4e05-9df5-4a865a753c00",
   "metadata": {},
   "outputs": [
    {
     "data": {
      "application/vnd.jupyter.stderr": "[WARN/global] ! a logged warning with 'cli::cli_alert_warning'"
     },
     "metadata": {},
     "output_type": "display_data"
    },
    {
     "name": "stderr",
     "output_type": "stream",
     "text": [
      "\u001b[33m!\u001b[39m a logged warning with 'cli::cli_alert_warning'\n",
      "\n"
     ]
    }
   ],
   "source": [
    "# logging with log level\n",
    "with_logger(\n",
    "  cli::cli_alert_warning(\"a logged warning with 'cli::cli_alert_warning'\"),\n",
    "  level = logger::WARN\n",
    ")"
   ]
  },
  {
   "cell_type": "markdown",
   "id": "a97f4869-6767-499c-9dd6-ef141062e72f",
   "metadata": {},
   "source": [
    "Finally, it's worth mentioning the double output above.  This is because `cli::cli_alert_warning` bubbles up a message condition, and `with_logger` processes it along the way.  The second output above is that message, delivered to the user.  We can deal with this using an even more verbose expression.  Now we'll only see what's propagated to the logs."
   ]
  },
  {
   "cell_type": "code",
   "execution_count": 27,
   "id": "3e81db00-4172-4325-b18e-667ebfc7903f",
   "metadata": {},
   "outputs": [
    {
     "data": {
      "application/vnd.jupyter.stderr": "[WARN/global] ! a logged warning with 'cli::cli_alert_warning'"
     },
     "metadata": {},
     "output_type": "display_data"
    }
   ],
   "source": [
    "# fix the double messaging\n",
    "tryCatch(\n",
    "  {\n",
    "    with_logger(\n",
    "      cli::cli_alert_warning(\"a logged warning with 'cli::cli_alert_warning'\"),\n",
    "      level = logger::WARN\n",
    "    )\n",
    "  },\n",
    "  message = function(msg) invisible(NULL)\n",
    ")"
   ]
  },
  {
   "cell_type": "markdown",
   "id": "b92f44cc-2474-4c92-bf34-639c20eff992",
   "metadata": {},
   "source": [
    "## wrapped cli functions\n",
    "\n",
    "metayer provides wrapped versions of cli functions. This recovers the usual verbosity of the original cli package but without the pain previously demonstrated."
   ]
  },
  {
   "cell_type": "code",
   "execution_count": 28,
   "id": "5c7e7f83-9151-4a03-9dc7-5a00c9a07997",
   "metadata": {},
   "outputs": [
    {
     "data": {
      "application/vnd.jupyter.stderr": "[WARN/global] ! a logged warning with 'cli_alert_warning'"
     },
     "metadata": {},
     "output_type": "display_data"
    },
    {
     "name": "stderr",
     "output_type": "stream",
     "text": [
      "\u001b[33m!\u001b[39m a logged warning with 'cli_alert_warning'\n",
      "\n"
     ]
    }
   ],
   "source": [
    "# implicit logging and log levels\n",
    "cli_alert_warning(\"a logged warning with 'cli_alert_warning'\")"
   ]
  },
  {
   "cell_type": "markdown",
   "id": "829add64-66b3-4df1-9c39-947d5dbe58bb",
   "metadata": {},
   "source": [
    "## namespace context\n",
    "\n",
    "So far, all of the logging has been to the global namespace. In an article context, this is as it should be. However, logs originating elsewhere should reflect the point of origin.\n",
    "\n",
    "With `log_info` and friends, one can explicitly specify a namespace."
   ]
  },
  {
   "cell_type": "code",
   "execution_count": 29,
   "id": "33fbfdea-052a-4b91-a1a1-0411ceb74fb7",
   "metadata": {},
   "outputs": [
    {
     "data": {
      "application/vnd.jupyter.stderr": "[WARN/custom] a warning with 'log_warn' in a custom namespace"
     },
     "metadata": {},
     "output_type": "display_data"
    }
   ],
   "source": [
    "# explicit custom namespace\n",
    "log_warn(\"a warning with 'log_warn' in a custom namespace\", namespace = \"custom\")"
   ]
  },
  {
   "cell_type": "markdown",
   "id": "d0c3c2c6-5161-487f-a40e-91dc2e996c3e",
   "metadata": {},
   "source": [
    "To showcase implicit namespace behavior, we'll create two functions in the global namespace. We'll also put copies of these functions in a namespace anchored to metayer.  This is intended to mimic the scenario where these functions would have been formally defined in the package."
   ]
  },
  {
   "cell_type": "code",
   "execution_count": 30,
   "id": "3836f41e-ca61-4949-b490-e71a4032fb2d",
   "metadata": {},
   "outputs": [],
   "source": [
    "# two functions in the global namespace\n",
    "foo <- function() log_info(\"foo called `log_info`\")\n",
    "bar <- function() cli_alert(\"bar called `cli_alert`\")"
   ]
  },
  {
   "cell_type": "code",
   "execution_count": 31,
   "id": "78ae6d2e-26d0-4d15-a9b6-ae22b6f59e1d",
   "metadata": {},
   "outputs": [
    {
     "data": {
      "application/vnd.jupyter.stderr": "[INFO/global] foo called `log_info`"
     },
     "metadata": {},
     "output_type": "display_data"
    },
    {
     "data": {
      "application/vnd.jupyter.stderr": "[INFO/global] → bar called `cli_alert`"
     },
     "metadata": {},
     "output_type": "display_data"
    },
    {
     "name": "stderr",
     "output_type": "stream",
     "text": [
      "→ bar called `cli_alert`\n",
      "\n"
     ]
    }
   ],
   "source": [
    "# global functions produce 'global' namespace\n",
    "foo()\n",
    "bar()"
   ]
  },
  {
   "cell_type": "markdown",
   "id": "c686553b-28de-4063-92de-97ec0e2f8a87",
   "metadata": {},
   "source": [
    "In the previous output, note that `foo`--inherently, `log_info`--doesn't generate a condition; it shows up only once.  \n",
    "\n",
    "`bar`, on the other hand, calls `cli_alert` which generates a condition.  Hence that output shows up twice: once as a log entry, processed as it happens, and a second time, now as an unhandled condition that has bubbled up to the top level.  This is the same behavior we observed previously.\n",
    "\n",
    "Next, we'll put `foo` and `bar` into the metayer namespace and observe that they now display a \"metayer\" namespace."
   ]
  },
  {
   "cell_type": "code",
   "execution_count": 32,
   "id": "868b68a5-1d14-4742-8527-99952fa8f9d4",
   "metadata": {},
   "outputs": [],
   "source": [
    "# two functions \"above\" the metayer namespace\n",
    "ns <- new_environment(parent = getNamespace(\"metayer\"))\n",
    "ns[[\"foo\"]] <- set_env(foo, ns)\n",
    "ns[[\"bar\"]] <- set_env(bar, ns)"
   ]
  },
  {
   "cell_type": "code",
   "execution_count": 33,
   "id": "a49f7521-e182-4e7b-929b-098e74f3810e",
   "metadata": {},
   "outputs": [
    {
     "data": {
      "application/vnd.jupyter.stderr": "[INFO/metayer] foo called `log_info`"
     },
     "metadata": {},
     "output_type": "display_data"
    },
    {
     "data": {
      "application/vnd.jupyter.stderr": "[INFO/metayer] → bar called `cli_alert`"
     },
     "metadata": {},
     "output_type": "display_data"
    },
    {
     "name": "stderr",
     "output_type": "stream",
     "text": [
      "→ bar called `cli_alert`\n",
      "\n"
     ]
    }
   ],
   "source": [
    "# packaged functions produce 'metayer' namespace\n",
    "ns$foo()\n",
    "ns$bar()"
   ]
  },
  {
   "cell_type": "markdown",
   "id": "b5d42eea-c3cd-484a-8fd4-68f044697bc7",
   "metadata": {},
   "source": [
    "## glue semantics\n",
    "\n",
    "The wrapped functions are designed to replicate the usual glue semantics found in the cli and logger packages."
   ]
  },
  {
   "cell_type": "code",
   "execution_count": 34,
   "id": "4d034b26-702d-4c8e-b5a3-ddc9a6d27eb4",
   "metadata": {},
   "outputs": [
    {
     "data": {
      "application/vnd.jupyter.stderr": "[INFO/global] ℹ foo <null> bar"
     },
     "metadata": {},
     "output_type": "display_data"
    },
    {
     "name": "stderr",
     "output_type": "stream",
     "text": [
      "\u001b[36mℹ\u001b[39m foo <null> bar\n",
      "\n"
     ]
    }
   ],
   "source": [
    "# glue semantics for `cli_alert_info` (with visible NULLs)\n",
    "v1 = \"foo\"\n",
    "v2 = NULL\n",
    "v3 = \"bar\"\n",
    "\n",
    "cli_alert_info(\"{v1} {v2} {v3}\")"
   ]
  },
  {
   "cell_type": "code",
   "execution_count": 35,
   "id": "4757fc73-f54e-44ea-b0c1-913d324666e6",
   "metadata": {},
   "outputs": [
    {
     "data": {
      "application/vnd.jupyter.stderr": "[INFO/global] a log: foo bar"
     },
     "metadata": {},
     "output_type": "display_data"
    }
   ],
   "source": [
    "# glue semantics for log_info\n",
    "log_info(\"a log: {v1} {v3}\")"
   ]
  },
  {
   "cell_type": "markdown",
   "id": "7a72eda1-9ffb-47fc-8b77-e636f4a57640",
   "metadata": {},
   "source": [
    "However, just like their analogues in the logger package, `log_info` and friends won't handle NULL values."
   ]
  },
  {
   "cell_type": "code",
   "execution_count": 36,
   "id": "f26348a9-49dd-477b-b206-5657ddf37c66",
   "metadata": {},
   "outputs": [
    {
     "data": {
      "application/vnd.jupyter.stderr": ""
     },
     "metadata": {},
     "output_type": "display_data"
    }
   ],
   "source": [
    "# null values were never allowed here!\n",
    "logger::log_info(\"a log: {v1} {v2} {v3}\")"
   ]
  },
  {
   "cell_type": "code",
   "execution_count": 37,
   "id": "7d642ebc-10e0-4e12-a578-8dff38ed1e41",
   "metadata": {},
   "outputs": [
    {
     "data": {
      "application/vnd.jupyter.stderr": ""
     },
     "metadata": {},
     "output_type": "display_data"
    }
   ],
   "source": [
    "# and so we don't expect them to be available here, either.\n",
    "log_info(\"a log: {v1} {v2} {v3}\")"
   ]
  }
 ],
 "metadata": {
  "kernelspec": {
   "display_name": "R",
   "language": "R",
   "name": "ir"
  },
  "language_info": {
   "codemirror_mode": "r",
   "file_extension": ".r",
   "mimetype": "text/x-r-source",
   "name": "R",
   "pygments_lexer": "r",
   "version": "4.4.0"
  }
 },
 "nbformat": 4,
 "nbformat_minor": 5
}
