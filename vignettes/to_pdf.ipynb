{
 "cells": [
  {
   "cell_type": "raw",
   "id": "a5184ad4-37b1-4a8b-ad94-0f9fe98dcb75",
   "metadata": {
    "editable": true,
    "raw_mimetype": "",
    "slideshow": {
     "slide_type": ""
    },
    "tags": []
   },
   "source": [
    "---\n",
    "title: \"metayer: examples\"\n",
    "output: \n",
    "  pdf_document:\n",
    "    geometry: margin=1in\n",
    "---"
   ]
  },
  {
   "cell_type": "code",
   "execution_count": null,
   "id": "c90837bd-0e44-4aaa-a6bf-4811510f54a0",
   "metadata": {},
   "outputs": [],
   "source": [
    "devtools::load_all()"
   ]
  },
  {
   "cell_type": "code",
   "execution_count": null,
   "id": "8f34c246-276d-492c-bd7e-740c34f07392",
   "metadata": {
    "editable": true,
    "slideshow": {
     "slide_type": ""
    },
    "tags": []
   },
   "outputs": [],
   "source": [
    "a <- 1:5\n",
    "tbl <- tibble::tibble(a, b = a * 2, c = 1)"
   ]
  },
  {
   "cell_type": "code",
   "execution_count": null,
   "id": "d84fadce-96ff-4bc2-af28-93baa80d20c6",
   "metadata": {},
   "outputs": [],
   "source": [
    "cfplot(\n",
    "  {\n",
    "    plot(tbl$a, tbl$b, xlab = \"foo\")\n",
    "  },\n",
    "  width = 7,\n",
    "  height = 4,\n",
    "  units = \"in\",\n",
    "  file = \"foo\",\n",
    "  res = 96,\n",
    "  bg = \"azure\"\n",
    ")"
   ]
  },
  {
   "cell_type": "code",
   "execution_count": null,
   "id": "ed3298ee-820a-40bd-a651-308a8097b528",
   "metadata": {},
   "outputs": [],
   "source": []
  }
 ],
 "metadata": {
  "kernelspec": {
   "display_name": "R",
   "language": "R",
   "name": "ir"
  },
  "language_info": {
   "codemirror_mode": "r",
   "file_extension": ".r",
   "mimetype": "text/x-r-source",
   "name": "R",
   "pygments_lexer": "r",
   "version": "4.4.0"
  }
 },
 "nbformat": 4,
 "nbformat_minor": 5
}
