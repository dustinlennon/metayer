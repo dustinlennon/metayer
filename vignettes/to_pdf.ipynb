{
 "cells": [
  {
   "cell_type": "markdown",
   "id": "62a3b1e6-4746-406b-a1ae-540640466801",
   "metadata": {
    "editable": true,
    "raw_mimetype": "",
    "slideshow": {
     "slide_type": ""
    },
    "tags": []
   },
   "source": [
    "---\n",
    "title: \"metayer: examples\"\n",
    "output: \n",
    "  pdf_document:\n",
    "    geometry: margin=1in\n",
    "---"
   ]
  },
  {
   "cell_type": "code",
   "execution_count": 2,
   "id": "c90837bd-0e44-4aaa-a6bf-4811510f54a0",
   "metadata": {},
   "outputs": [
    {
     "name": "stderr",
     "output_type": "stream",
     "text": [
      "\u001b[1m\u001b[22m\u001b[36mℹ\u001b[39m Loading \u001b[34mmetayer\u001b[39m\n",
      "\u001b[36mℹ\u001b[39m initialized logger: /home/dnlennon/.local/share/r-devel/project.log\n",
      "\n"
     ]
    }
   ],
   "source": [
    "devtools::load_all()"
   ]
  },
  {
   "cell_type": "code",
   "execution_count": 8,
   "id": "8f34c246-276d-492c-bd7e-740c34f07392",
   "metadata": {
    "editable": true,
    "slideshow": {
     "slide_type": ""
    },
    "tags": []
   },
   "outputs": [
    {
     "data": {
      "text/html": [
       "<table class=\"dataframe\">\n",
       "<caption>A tibble: 5 × 3</caption>\n",
       "<thead>\n",
       "\t<tr><th scope=col>a</th><th scope=col>b</th><th scope=col>c</th></tr>\n",
       "\t<tr><th scope=col>&lt;int&gt;</th><th scope=col>&lt;dbl&gt;</th><th scope=col>&lt;dbl&gt;</th></tr>\n",
       "</thead>\n",
       "<tbody>\n",
       "\t<tr><td>1</td><td> 2</td><td>1</td></tr>\n",
       "\t<tr><td>2</td><td> 4</td><td>1</td></tr>\n",
       "\t<tr><td>3</td><td> 6</td><td>1</td></tr>\n",
       "\t<tr><td>4</td><td> 8</td><td>1</td></tr>\n",
       "\t<tr><td>5</td><td>10</td><td>1</td></tr>\n",
       "</tbody>\n",
       "</table>\n"
      ],
      "text/latex": [
       "A tibble: 5 × 3\n",
       "\\begin{tabular}{lll}\n",
       " a & b & c\\\\\n",
       " <int> & <dbl> & <dbl>\\\\\n",
       "\\hline\n",
       "\t 1 &  2 & 1\\\\\n",
       "\t 2 &  4 & 1\\\\\n",
       "\t 3 &  6 & 1\\\\\n",
       "\t 4 &  8 & 1\\\\\n",
       "\t 5 & 10 & 1\\\\\n",
       "\\end{tabular}\n"
      ],
      "text/markdown": [
       "\n",
       "A tibble: 5 × 3\n",
       "\n",
       "| a &lt;int&gt; | b &lt;dbl&gt; | c &lt;dbl&gt; |\n",
       "|---|---|---|\n",
       "| 1 |  2 | 1 |\n",
       "| 2 |  4 | 1 |\n",
       "| 3 |  6 | 1 |\n",
       "| 4 |  8 | 1 |\n",
       "| 5 | 10 | 1 |\n",
       "\n"
      ],
      "text/plain": [
       "  a b  c\n",
       "1 1  2 1\n",
       "2 2  4 1\n",
       "3 3  6 1\n",
       "4 4  8 1\n",
       "5 5 10 1"
      ]
     },
     "metadata": {},
     "output_type": "display_data"
    }
   ],
   "source": [
    "a <- 1:5\n",
    "tbl <- tibble::tibble(a, b = a * 2, c = 1)\n",
    "tbl"
   ]
  },
  {
   "cell_type": "code",
   "execution_count": 4,
   "id": "d84fadce-96ff-4bc2-af28-93baa80d20c6",
   "metadata": {},
   "outputs": [
    {
     "data": {
      "text/html": [
       "<!doctype html>\n",
       "<html>\n",
       "\t<head>\n",
       "\t\t<meta charset=\"utf-8\">\n",
       "\t\t\n",
       "\t</head>\n",
       "\t<body>\n",
       "\t\t<img src=\"data:image/png;base64, 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\"/>\n",
       "\t</body>\n",
       "</html>\n"
      ],
      "text/plain": [
       "Shiny tags cannot be represented in plain text (need html)"
      ]
     },
     "metadata": {
      "text/html": {
       "isolated": true
      }
     },
     "output_type": "display_data"
    }
   ],
   "source": [
    "plot_context(\n",
    "  {\n",
    "    plot(tbl$a, tbl$b, xlab = \"foo\")\n",
    "  },\n",
    "  bg = \"azure\",\n",
    "  .height = 7,\n",
    "  .width = 8,\n",
    "  .pointsize = 12,\n",
    "  .res = 96\n",
    ")"
   ]
  },
  {
   "cell_type": "raw",
   "id": "2f179ece-5836-4fdf-8fbf-44e73f098292",
   "metadata": {},
   "source": [
    "withr::with_par(\n",
    "  list(bg = \"seashell\"),\n",
    "  plot(tbl$a, tbl$b, xlab = \"foo\")\n",
    ")"
   ]
  },
  {
   "cell_type": "raw",
   "id": "23e2501e-fcd9-4590-9fe6-e39c17061a53",
   "metadata": {},
   "source": [
    "devtools::load_all()"
   ]
  },
  {
   "cell_type": "raw",
   "id": "ea971b0e-c2a9-4aa8-8ba7-012b59549048",
   "metadata": {},
   "source": [
    "xdom <- seq(0,1,length=5)\n",
    "yrng <- 10 * xdom\n",
    "\n",
    "aplt(\n",
    "  xlim = c(-0.1, 1.1),\n",
    "  ylim = c(-1,11),\n",
    "  {\n",
    "    lines(xdom, yrng, type = \"b\")\n",
    "  },\n",
    "  bg = \"azure\",\n",
    "  ann = FALSE,  \n",
    "  mar = c(1,1,1,1),\n",
    "  mgp = c(1,0,0),\n",
    "  # xaxt = \"n\",\n",
    "  # yaxt = \"n\",\n",
    "  .max_height = 10,\n",
    "  .max_width = 5,\n",
    "  .pretty_axes = FALSE\n",
    ")"
   ]
  }
 ],
 "metadata": {
  "kernelspec": {
   "display_name": "R",
   "language": "R",
   "name": "ir"
  },
  "language_info": {
   "codemirror_mode": "r",
   "file_extension": ".r",
   "mimetype": "text/x-r-source",
   "name": "R",
   "pygments_lexer": "r",
   "version": "4.4.0"
  }
 },
 "nbformat": 4,
 "nbformat_minor": 5
}
